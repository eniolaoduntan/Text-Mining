{
  "nbformat": 4,
  "nbformat_minor": 0,
  "metadata": {
    "colab": {
      "provenance": []
    },
    "kernelspec": {
      "name": "python3",
      "display_name": "Python 3"
    },
    "language_info": {
      "name": "python"
    }
  },
  "cells": [
    {
      "cell_type": "code",
      "execution_count": null,
      "metadata": {
        "colab": {
          "base_uri": "https://localhost:8080/"
        },
        "id": "ImhnyrgQKNoN",
        "outputId": "531af302-5a55-43a2-e387-66059039d9d9"
      },
      "outputs": [
        {
          "output_type": "stream",
          "name": "stdout",
          "text": [
            "Looking in indexes: https://pypi.org/simple, https://us-python.pkg.dev/colab-wheels/public/simple/\n",
            "Requirement already satisfied: nltk in /usr/local/lib/python3.9/dist-packages (3.8.1)\n",
            "Requirement already satisfied: click in /usr/local/lib/python3.9/dist-packages (from nltk) (8.1.3)\n",
            "Requirement already satisfied: tqdm in /usr/local/lib/python3.9/dist-packages (from nltk) (4.65.0)\n",
            "Requirement already satisfied: regex>=2021.8.3 in /usr/local/lib/python3.9/dist-packages (from nltk) (2022.10.31)\n",
            "Requirement already satisfied: joblib in /usr/local/lib/python3.9/dist-packages (from nltk) (1.2.0)\n"
          ]
        },
        {
          "output_type": "stream",
          "name": "stderr",
          "text": [
            "[nltk_data] Downloading package names to /root/nltk_data...\n",
            "[nltk_data]   Package names is already up-to-date!\n",
            "[nltk_data] Downloading package stopwords to /root/nltk_data...\n",
            "[nltk_data]   Package stopwords is already up-to-date!\n",
            "[nltk_data] Downloading package state_union to /root/nltk_data...\n",
            "[nltk_data]   Package state_union is already up-to-date!\n",
            "[nltk_data] Downloading package wordnet to /root/nltk_data...\n",
            "[nltk_data]   Package wordnet is already up-to-date!\n",
            "[nltk_data] Downloading package averaged_perceptron_tagger to\n",
            "[nltk_data]     /root/nltk_data...\n",
            "[nltk_data]   Package averaged_perceptron_tagger is already up-to-\n",
            "[nltk_data]       date!\n",
            "[nltk_data] Downloading package vader_lexicon to /root/nltk_data...\n",
            "[nltk_data]   Package vader_lexicon is already up-to-date!\n",
            "[nltk_data] Downloading package punkt to /root/nltk_data...\n",
            "[nltk_data]   Package punkt is already up-to-date!\n",
            "[nltk_data] Downloading package state_union to /root/nltk_data...\n",
            "[nltk_data]   Package state_union is already up-to-date!\n",
            "[nltk_data] Downloading package stopwords to /root/nltk_data...\n",
            "[nltk_data]   Package stopwords is already up-to-date!\n",
            "[nltk_data] Downloading package punkt to /root/nltk_data...\n",
            "[nltk_data]   Package punkt is already up-to-date!\n"
          ]
        }
      ],
      "source": [
        "import numpy as np\n",
        "import os\n",
        "import pandas as pd\n",
        "import seaborn as sns\n",
        "import re, string\n",
        "from sklearn.model_selection import train_test_split\n",
        "from matplotlib import pyplot\n",
        "import matplotlib.pyplot as plt\n",
        "import matplotlib.pylab as pylab\n",
        "import plotly.express as px\n",
        "!pip install nltk\n",
        "import nltk\n",
        "nltk.download([\n",
        "   \"names\",\n",
        "   \"stopwords\",\n",
        "   \"state_union\",\n",
        "   \"wordnet\",\n",
        "   \"averaged_perceptron_tagger\",\n",
        "   \"vader_lexicon\",\n",
        "   \"punkt\",\n",
        "])\n",
        "nltk.download('state_union')\n",
        "nltk.download('stopwords')\n",
        "nltk.download('punkt')\n",
        "import io\n",
        "from nltk.tokenize import word_tokenize\n",
        "from nltk.corpus import stopwords\n",
        "from wordcloud import WordCloud\n",
        "from nltk.sentiment import SentimentIntensityAnalyzer"
      ]
    },
    {
      "cell_type": "code",
      "source": [
        "#import dataset\n",
        "data = pd.read_csv('/content/Elon musk.csv')"
      ],
      "metadata": {
        "id": "vx1hin22KQpB"
      },
      "execution_count": null,
      "outputs": []
    },
    {
      "cell_type": "markdown",
      "source": [
        "# **INITIAL EXPLORATION**"
      ],
      "metadata": {
        "id": "nJzxkUkAdG1J"
      }
    },
    {
      "cell_type": "code",
      "source": [
        "data.shape"
      ],
      "metadata": {
        "colab": {
          "base_uri": "https://localhost:8080/"
        },
        "id": "N2FsbNyFdOP8",
        "outputId": "201f80d9-66da-45fd-918d-8bb3d353b3ec"
      },
      "execution_count": null,
      "outputs": [
        {
          "output_type": "execute_result",
          "data": {
            "text/plain": [
              "(3060, 4)"
            ]
          },
          "metadata": {},
          "execution_count": 176
        }
      ]
    },
    {
      "cell_type": "code",
      "source": [
        "data.info()"
      ],
      "metadata": {
        "colab": {
          "base_uri": "https://localhost:8080/"
        },
        "id": "3UPsxoSPdOXi",
        "outputId": "9c877507-551b-4463-8a80-389c3eb485c2"
      },
      "execution_count": null,
      "outputs": [
        {
          "output_type": "stream",
          "name": "stdout",
          "text": [
            "<class 'pandas.core.frame.DataFrame'>\n",
            "RangeIndex: 3060 entries, 0 to 3059\n",
            "Data columns (total 4 columns):\n",
            " #   Column    Non-Null Count  Dtype \n",
            "---  ------    --------------  ----- \n",
            " 0   Tweets    3060 non-null   object\n",
            " 1   Retweets  3060 non-null   int64 \n",
            " 2   Likes     3060 non-null   int64 \n",
            " 3   Date      3060 non-null   object\n",
            "dtypes: int64(2), object(2)\n",
            "memory usage: 95.8+ KB\n"
          ]
        }
      ]
    },
    {
      "cell_type": "code",
      "source": [
        "data.head()"
      ],
      "metadata": {
        "colab": {
          "base_uri": "https://localhost:8080/",
          "height": 206
        },
        "id": "ofD16gNZdOcd",
        "outputId": "1a11b112-1dc5-472c-bdd2-b51761fee0b3"
      },
      "execution_count": null,
      "outputs": [
        {
          "output_type": "execute_result",
          "data": {
            "text/plain": [
              "                                             Tweets  Retweets   Likes  \\\n",
              "0                             @PeterSchiff 🤣 thanks       209    7021   \n",
              "1                             @ZubyMusic Absolutely       755   26737   \n",
              "2  Dear Twitter Advertisers https://t.co/GMwHmInPAS     55927  356623   \n",
              "3                                       @BillyM2k 👻       802   19353   \n",
              "4    Meeting a lot of cool people at Twitter today!      9366  195546   \n",
              "\n",
              "               Date  \n",
              "0  27/10/2022 16:17  \n",
              "1  27/10/2022 13:19  \n",
              "2  27/10/2022 13:08  \n",
              "3  27/10/2022 02:32  \n",
              "4  26/10/2022 21:39  "
            ],
            "text/html": [
              "\n",
              "  <div id=\"df-7ce33a11-90b6-44e5-b6e1-590d618f2722\">\n",
              "    <div class=\"colab-df-container\">\n",
              "      <div>\n",
              "<style scoped>\n",
              "    .dataframe tbody tr th:only-of-type {\n",
              "        vertical-align: middle;\n",
              "    }\n",
              "\n",
              "    .dataframe tbody tr th {\n",
              "        vertical-align: top;\n",
              "    }\n",
              "\n",
              "    .dataframe thead th {\n",
              "        text-align: right;\n",
              "    }\n",
              "</style>\n",
              "<table border=\"1\" class=\"dataframe\">\n",
              "  <thead>\n",
              "    <tr style=\"text-align: right;\">\n",
              "      <th></th>\n",
              "      <th>Tweets</th>\n",
              "      <th>Retweets</th>\n",
              "      <th>Likes</th>\n",
              "      <th>Date</th>\n",
              "    </tr>\n",
              "  </thead>\n",
              "  <tbody>\n",
              "    <tr>\n",
              "      <th>0</th>\n",
              "      <td>@PeterSchiff 🤣 thanks</td>\n",
              "      <td>209</td>\n",
              "      <td>7021</td>\n",
              "      <td>27/10/2022 16:17</td>\n",
              "    </tr>\n",
              "    <tr>\n",
              "      <th>1</th>\n",
              "      <td>@ZubyMusic Absolutely</td>\n",
              "      <td>755</td>\n",
              "      <td>26737</td>\n",
              "      <td>27/10/2022 13:19</td>\n",
              "    </tr>\n",
              "    <tr>\n",
              "      <th>2</th>\n",
              "      <td>Dear Twitter Advertisers https://t.co/GMwHmInPAS</td>\n",
              "      <td>55927</td>\n",
              "      <td>356623</td>\n",
              "      <td>27/10/2022 13:08</td>\n",
              "    </tr>\n",
              "    <tr>\n",
              "      <th>3</th>\n",
              "      <td>@BillyM2k 👻</td>\n",
              "      <td>802</td>\n",
              "      <td>19353</td>\n",
              "      <td>27/10/2022 02:32</td>\n",
              "    </tr>\n",
              "    <tr>\n",
              "      <th>4</th>\n",
              "      <td>Meeting a lot of cool people at Twitter today!</td>\n",
              "      <td>9366</td>\n",
              "      <td>195546</td>\n",
              "      <td>26/10/2022 21:39</td>\n",
              "    </tr>\n",
              "  </tbody>\n",
              "</table>\n",
              "</div>\n",
              "      <button class=\"colab-df-convert\" onclick=\"convertToInteractive('df-7ce33a11-90b6-44e5-b6e1-590d618f2722')\"\n",
              "              title=\"Convert this dataframe to an interactive table.\"\n",
              "              style=\"display:none;\">\n",
              "        \n",
              "  <svg xmlns=\"http://www.w3.org/2000/svg\" height=\"24px\"viewBox=\"0 0 24 24\"\n",
              "       width=\"24px\">\n",
              "    <path d=\"M0 0h24v24H0V0z\" fill=\"none\"/>\n",
              "    <path d=\"M18.56 5.44l.94 2.06.94-2.06 2.06-.94-2.06-.94-.94-2.06-.94 2.06-2.06.94zm-11 1L8.5 8.5l.94-2.06 2.06-.94-2.06-.94L8.5 2.5l-.94 2.06-2.06.94zm10 10l.94 2.06.94-2.06 2.06-.94-2.06-.94-.94-2.06-.94 2.06-2.06.94z\"/><path d=\"M17.41 7.96l-1.37-1.37c-.4-.4-.92-.59-1.43-.59-.52 0-1.04.2-1.43.59L10.3 9.45l-7.72 7.72c-.78.78-.78 2.05 0 2.83L4 21.41c.39.39.9.59 1.41.59.51 0 1.02-.2 1.41-.59l7.78-7.78 2.81-2.81c.8-.78.8-2.07 0-2.86zM5.41 20L4 18.59l7.72-7.72 1.47 1.35L5.41 20z\"/>\n",
              "  </svg>\n",
              "      </button>\n",
              "      \n",
              "  <style>\n",
              "    .colab-df-container {\n",
              "      display:flex;\n",
              "      flex-wrap:wrap;\n",
              "      gap: 12px;\n",
              "    }\n",
              "\n",
              "    .colab-df-convert {\n",
              "      background-color: #E8F0FE;\n",
              "      border: none;\n",
              "      border-radius: 50%;\n",
              "      cursor: pointer;\n",
              "      display: none;\n",
              "      fill: #1967D2;\n",
              "      height: 32px;\n",
              "      padding: 0 0 0 0;\n",
              "      width: 32px;\n",
              "    }\n",
              "\n",
              "    .colab-df-convert:hover {\n",
              "      background-color: #E2EBFA;\n",
              "      box-shadow: 0px 1px 2px rgba(60, 64, 67, 0.3), 0px 1px 3px 1px rgba(60, 64, 67, 0.15);\n",
              "      fill: #174EA6;\n",
              "    }\n",
              "\n",
              "    [theme=dark] .colab-df-convert {\n",
              "      background-color: #3B4455;\n",
              "      fill: #D2E3FC;\n",
              "    }\n",
              "\n",
              "    [theme=dark] .colab-df-convert:hover {\n",
              "      background-color: #434B5C;\n",
              "      box-shadow: 0px 1px 3px 1px rgba(0, 0, 0, 0.15);\n",
              "      filter: drop-shadow(0px 1px 2px rgba(0, 0, 0, 0.3));\n",
              "      fill: #FFFFFF;\n",
              "    }\n",
              "  </style>\n",
              "\n",
              "      <script>\n",
              "        const buttonEl =\n",
              "          document.querySelector('#df-7ce33a11-90b6-44e5-b6e1-590d618f2722 button.colab-df-convert');\n",
              "        buttonEl.style.display =\n",
              "          google.colab.kernel.accessAllowed ? 'block' : 'none';\n",
              "\n",
              "        async function convertToInteractive(key) {\n",
              "          const element = document.querySelector('#df-7ce33a11-90b6-44e5-b6e1-590d618f2722');\n",
              "          const dataTable =\n",
              "            await google.colab.kernel.invokeFunction('convertToInteractive',\n",
              "                                                     [key], {});\n",
              "          if (!dataTable) return;\n",
              "\n",
              "          const docLinkHtml = 'Like what you see? Visit the ' +\n",
              "            '<a target=\"_blank\" href=https://colab.research.google.com/notebooks/data_table.ipynb>data table notebook</a>'\n",
              "            + ' to learn more about interactive tables.';\n",
              "          element.innerHTML = '';\n",
              "          dataTable['output_type'] = 'display_data';\n",
              "          await google.colab.output.renderOutput(dataTable, element);\n",
              "          const docLink = document.createElement('div');\n",
              "          docLink.innerHTML = docLinkHtml;\n",
              "          element.appendChild(docLink);\n",
              "        }\n",
              "      </script>\n",
              "    </div>\n",
              "  </div>\n",
              "  "
            ]
          },
          "metadata": {},
          "execution_count": 178
        }
      ]
    },
    {
      "cell_type": "code",
      "source": [
        "data.columns"
      ],
      "metadata": {
        "colab": {
          "base_uri": "https://localhost:8080/"
        },
        "id": "uci6PA8WdOih",
        "outputId": "d843dccf-df09-4232-c344-93cf34ee0a99"
      },
      "execution_count": null,
      "outputs": [
        {
          "output_type": "execute_result",
          "data": {
            "text/plain": [
              "Index(['Tweets', 'Retweets', 'Likes', 'Date'], dtype='object')"
            ]
          },
          "metadata": {},
          "execution_count": 179
        }
      ]
    },
    {
      "cell_type": "code",
      "source": [
        "data.isna().any()"
      ],
      "metadata": {
        "colab": {
          "base_uri": "https://localhost:8080/"
        },
        "id": "QPV6PhlpdZQP",
        "outputId": "2169bbf2-b76a-4231-8693-217d17d10b01"
      },
      "execution_count": null,
      "outputs": [
        {
          "output_type": "execute_result",
          "data": {
            "text/plain": [
              "Tweets      False\n",
              "Retweets    False\n",
              "Likes       False\n",
              "Date        False\n",
              "dtype: bool"
            ]
          },
          "metadata": {},
          "execution_count": 180
        }
      ]
    },
    {
      "cell_type": "markdown",
      "source": [
        "# **TASK 1 DATA PREPROCESSING**"
      ],
      "metadata": {
        "id": "8cTqdq3UKkmz"
      }
    },
    {
      "cell_type": "markdown",
      "source": [
        "## **CREATING ADDITIONAL FEATURES**"
      ],
      "metadata": {
        "id": "JM6rSsXtb8oh"
      }
    },
    {
      "cell_type": "code",
      "source": [
        "#create features to show whether tweets contain url or images\n",
        "from urllib.parse import urlparse"
      ],
      "metadata": {
        "id": "qY8vF--hbubB"
      },
      "execution_count": null,
      "outputs": []
    },
    {
      "cell_type": "code",
      "source": [
        "def count_urls(row):\n",
        "  text= row['Tweets']\n",
        "  parsed = urlparse(text)\n",
        "  if parsed.scheme and parsed.netloc:\n",
        "    return 1\n",
        "  else:\n",
        "    return 0"
      ],
      "metadata": {
        "id": "7u8NU3QBbuj0"
      },
      "execution_count": null,
      "outputs": []
    },
    {
      "cell_type": "code",
      "source": [
        "data[\"num_urls\"] = data.apply(count_urls, axis= 1)"
      ],
      "metadata": {
        "id": "xYHHuNd2bur2"
      },
      "execution_count": null,
      "outputs": []
    },
    {
      "cell_type": "code",
      "source": [
        "def contains_image(row):\n",
        "  text = row['Tweets']\n",
        "  if 'pic.twitter.com' in text:\n",
        "    return True\n",
        "  else:\n",
        "    return False"
      ],
      "metadata": {
        "id": "oecQ21cObu29"
      },
      "execution_count": null,
      "outputs": []
    },
    {
      "cell_type": "code",
      "source": [
        "data[\"contains_image\"] = data.apply(contains_image, axis= 1)"
      ],
      "metadata": {
        "id": "AsHkRMQWb4mC"
      },
      "execution_count": null,
      "outputs": []
    },
    {
      "cell_type": "markdown",
      "source": [
        "## **CHANGING DATA TYPES**"
      ],
      "metadata": {
        "id": "K9sM6CeoMZCf"
      }
    },
    {
      "cell_type": "code",
      "source": [
        "data['Tweets'] = data['Tweets'].astype(str)\n",
        "data['Date'] = pd.to_datetime(data['Date'], infer_datetime_format=True)\n"
      ],
      "metadata": {
        "id": "m9dejbtaMglG"
      },
      "execution_count": null,
      "outputs": []
    },
    {
      "cell_type": "code",
      "source": [
        "data.info()\n"
      ],
      "metadata": {
        "colab": {
          "base_uri": "https://localhost:8080/"
        },
        "id": "jrwJD7wrMm-L",
        "outputId": "730a0a9d-2e7b-423d-9381-803236fc3135"
      },
      "execution_count": null,
      "outputs": [
        {
          "output_type": "stream",
          "name": "stdout",
          "text": [
            "<class 'pandas.core.frame.DataFrame'>\n",
            "RangeIndex: 3060 entries, 0 to 3059\n",
            "Data columns (total 6 columns):\n",
            " #   Column          Non-Null Count  Dtype         \n",
            "---  ------          --------------  -----         \n",
            " 0   Tweets          3060 non-null   object        \n",
            " 1   Retweets        3060 non-null   int64         \n",
            " 2   Likes           3060 non-null   int64         \n",
            " 3   Date            3060 non-null   datetime64[ns]\n",
            " 4   num_urls        3060 non-null   int64         \n",
            " 5   contains_image  3060 non-null   bool          \n",
            "dtypes: bool(1), datetime64[ns](1), int64(3), object(1)\n",
            "memory usage: 122.6+ KB\n"
          ]
        }
      ]
    },
    {
      "cell_type": "markdown",
      "source": [
        "## **CLEANING TWEETS**"
      ],
      "metadata": {
        "id": "wafPHWWzMn-6"
      }
    },
    {
      "cell_type": "code",
      "source": [
        "#Adding stop words\n",
        "from nltk.corpus import stopwords\n",
        "stop = stopwords.words(\"english\")\n",
        "\n",
        "#extend stopwords list\n",
        "stop.extend([\"from\", \"re\",\"https\", \"co\", \"t\", \"I\", \"That\",\"This\",\"There\",\"amp\", 'It'])\n"
      ],
      "metadata": {
        "id": "1YsZSSNDKuLp"
      },
      "execution_count": null,
      "outputs": []
    },
    {
      "cell_type": "code",
      "source": [
        "print(stop)"
      ],
      "metadata": {
        "colab": {
          "base_uri": "https://localhost:8080/"
        },
        "id": "tGR9b9izMAXc",
        "outputId": "b34c48d0-8ab9-4a1b-c525-e21536e24a9c"
      },
      "execution_count": null,
      "outputs": [
        {
          "output_type": "stream",
          "name": "stdout",
          "text": [
            "['i', 'me', 'my', 'myself', 'we', 'our', 'ours', 'ourselves', 'you', \"you're\", \"you've\", \"you'll\", \"you'd\", 'your', 'yours', 'yourself', 'yourselves', 'he', 'him', 'his', 'himself', 'she', \"she's\", 'her', 'hers', 'herself', 'it', \"it's\", 'its', 'itself', 'they', 'them', 'their', 'theirs', 'themselves', 'what', 'which', 'who', 'whom', 'this', 'that', \"that'll\", 'these', 'those', 'am', 'is', 'are', 'was', 'were', 'be', 'been', 'being', 'have', 'has', 'had', 'having', 'do', 'does', 'did', 'doing', 'a', 'an', 'the', 'and', 'but', 'if', 'or', 'because', 'as', 'until', 'while', 'of', 'at', 'by', 'for', 'with', 'about', 'against', 'between', 'into', 'through', 'during', 'before', 'after', 'above', 'below', 'to', 'from', 'up', 'down', 'in', 'out', 'on', 'off', 'over', 'under', 'again', 'further', 'then', 'once', 'here', 'there', 'when', 'where', 'why', 'how', 'all', 'any', 'both', 'each', 'few', 'more', 'most', 'other', 'some', 'such', 'no', 'nor', 'not', 'only', 'own', 'same', 'so', 'than', 'too', 'very', 's', 't', 'can', 'will', 'just', 'don', \"don't\", 'should', \"should've\", 'now', 'd', 'll', 'm', 'o', 're', 've', 'y', 'ain', 'aren', \"aren't\", 'couldn', \"couldn't\", 'didn', \"didn't\", 'doesn', \"doesn't\", 'hadn', \"hadn't\", 'hasn', \"hasn't\", 'haven', \"haven't\", 'isn', \"isn't\", 'ma', 'mightn', \"mightn't\", 'mustn', \"mustn't\", 'needn', \"needn't\", 'shan', \"shan't\", 'shouldn', \"shouldn't\", 'wasn', \"wasn't\", 'weren', \"weren't\", 'won', \"won't\", 'wouldn', \"wouldn't\", 'from', 're', 'https', 'co', 't', 'I', 'That', 'This', 'There', 'amp', 'It']\n"
          ]
        }
      ]
    },
    {
      "cell_type": "code",
      "source": [
        "data[\"Tweets\"] = data[\"Tweets\"].apply(lambda x: ' '.join([word for word in x.split() if word not in (stop)]))"
      ],
      "metadata": {
        "id": "TI8mczE3JJaU"
      },
      "execution_count": null,
      "outputs": []
    },
    {
      "cell_type": "code",
      "source": [
        "#lowercase tweets\n",
        "data['Tweets'] = data['Tweets'].apply(lambda x: \" \".join(x.lower() for x in x.split()))\n"
      ],
      "metadata": {
        "id": "XBdtpwBIkVoM"
      },
      "execution_count": null,
      "outputs": []
    },
    {
      "cell_type": "code",
      "source": [
        "data['Tweets'] = data['Tweets'].astype(str)"
      ],
      "metadata": {
        "id": "_32r2YL3Ptwh"
      },
      "execution_count": null,
      "outputs": []
    },
    {
      "cell_type": "code",
      "source": [
        "#Handling Twitter Handles\n",
        "def remove_pattern(input_txt, pattern):\n",
        "    r = re.findall(pattern, input_txt)\n",
        "    for i in r:\n",
        "        input_txt = re.sub(i, '', input_txt)\n",
        "\n",
        "    return input_txt\n",
        "\n",
        "    #remove twitter handles\n",
        "data['Tweets'] = np.vectorize(remove_pattern)(data['Tweets'], \"@[\\w]*\")"
      ],
      "metadata": {
        "id": "p9O_jXdyMF2s"
      },
      "execution_count": null,
      "outputs": []
    },
    {
      "cell_type": "code",
      "source": [
        "#remove urls so as to not affect sentiment analysis\n",
        "def cleaning_URLs(data):\n",
        "    return re.sub('((www.[^s]+)|(https?://[^s]+))',' ',data)"
      ],
      "metadata": {
        "id": "m72aqxZyMN8_"
      },
      "execution_count": null,
      "outputs": []
    },
    {
      "cell_type": "code",
      "source": [
        "def clean_data(data):\n",
        "#replace URL of a text\n",
        "    data['Tweets'] = data['Tweets'].str.replace('http[s]?://(?:[a-zA-Z]|[0-9]|[$-_@.&+]|[!*\\(\\),]|(?:%[0-9a-fA-F][0-9a-fA-F]))+', ' ')"
      ],
      "metadata": {
        "id": "cx7mBFQIss-v"
      },
      "execution_count": null,
      "outputs": []
    },
    {
      "cell_type": "code",
      "source": [
        "data.head()"
      ],
      "metadata": {
        "colab": {
          "base_uri": "https://localhost:8080/",
          "height": 206
        },
        "id": "5zm0ry5tM-35",
        "outputId": "67068aae-ff46-4cb3-b05f-f33f50ea4da2"
      },
      "execution_count": null,
      "outputs": [
        {
          "output_type": "execute_result",
          "data": {
            "text/plain": [
              "                                             Tweets  Retweets   Likes  \\\n",
              "0                                          🤣 thanks       209    7021   \n",
              "1                                        absolutely       755   26737   \n",
              "2  dear twitter advertisers https://t.co/gmwhminpas     55927  356623   \n",
              "3                                                 👻       802   19353   \n",
              "4            meeting lot cool people twitter today!      9366  195546   \n",
              "\n",
              "                 Date  num_urls  contains_image  \n",
              "0 2022-10-27 16:17:00         0           False  \n",
              "1 2022-10-27 13:19:00         0           False  \n",
              "2 2022-10-27 13:08:00         0           False  \n",
              "3 2022-10-27 02:32:00         0           False  \n",
              "4 2022-10-26 21:39:00         0           False  "
            ],
            "text/html": [
              "\n",
              "  <div id=\"df-d4f48faf-2496-4e71-bdc4-ee76b52dcccf\">\n",
              "    <div class=\"colab-df-container\">\n",
              "      <div>\n",
              "<style scoped>\n",
              "    .dataframe tbody tr th:only-of-type {\n",
              "        vertical-align: middle;\n",
              "    }\n",
              "\n",
              "    .dataframe tbody tr th {\n",
              "        vertical-align: top;\n",
              "    }\n",
              "\n",
              "    .dataframe thead th {\n",
              "        text-align: right;\n",
              "    }\n",
              "</style>\n",
              "<table border=\"1\" class=\"dataframe\">\n",
              "  <thead>\n",
              "    <tr style=\"text-align: right;\">\n",
              "      <th></th>\n",
              "      <th>Tweets</th>\n",
              "      <th>Retweets</th>\n",
              "      <th>Likes</th>\n",
              "      <th>Date</th>\n",
              "      <th>num_urls</th>\n",
              "      <th>contains_image</th>\n",
              "    </tr>\n",
              "  </thead>\n",
              "  <tbody>\n",
              "    <tr>\n",
              "      <th>0</th>\n",
              "      <td>🤣 thanks</td>\n",
              "      <td>209</td>\n",
              "      <td>7021</td>\n",
              "      <td>2022-10-27 16:17:00</td>\n",
              "      <td>0</td>\n",
              "      <td>False</td>\n",
              "    </tr>\n",
              "    <tr>\n",
              "      <th>1</th>\n",
              "      <td>absolutely</td>\n",
              "      <td>755</td>\n",
              "      <td>26737</td>\n",
              "      <td>2022-10-27 13:19:00</td>\n",
              "      <td>0</td>\n",
              "      <td>False</td>\n",
              "    </tr>\n",
              "    <tr>\n",
              "      <th>2</th>\n",
              "      <td>dear twitter advertisers https://t.co/gmwhminpas</td>\n",
              "      <td>55927</td>\n",
              "      <td>356623</td>\n",
              "      <td>2022-10-27 13:08:00</td>\n",
              "      <td>0</td>\n",
              "      <td>False</td>\n",
              "    </tr>\n",
              "    <tr>\n",
              "      <th>3</th>\n",
              "      <td>👻</td>\n",
              "      <td>802</td>\n",
              "      <td>19353</td>\n",
              "      <td>2022-10-27 02:32:00</td>\n",
              "      <td>0</td>\n",
              "      <td>False</td>\n",
              "    </tr>\n",
              "    <tr>\n",
              "      <th>4</th>\n",
              "      <td>meeting lot cool people twitter today!</td>\n",
              "      <td>9366</td>\n",
              "      <td>195546</td>\n",
              "      <td>2022-10-26 21:39:00</td>\n",
              "      <td>0</td>\n",
              "      <td>False</td>\n",
              "    </tr>\n",
              "  </tbody>\n",
              "</table>\n",
              "</div>\n",
              "      <button class=\"colab-df-convert\" onclick=\"convertToInteractive('df-d4f48faf-2496-4e71-bdc4-ee76b52dcccf')\"\n",
              "              title=\"Convert this dataframe to an interactive table.\"\n",
              "              style=\"display:none;\">\n",
              "        \n",
              "  <svg xmlns=\"http://www.w3.org/2000/svg\" height=\"24px\"viewBox=\"0 0 24 24\"\n",
              "       width=\"24px\">\n",
              "    <path d=\"M0 0h24v24H0V0z\" fill=\"none\"/>\n",
              "    <path d=\"M18.56 5.44l.94 2.06.94-2.06 2.06-.94-2.06-.94-.94-2.06-.94 2.06-2.06.94zm-11 1L8.5 8.5l.94-2.06 2.06-.94-2.06-.94L8.5 2.5l-.94 2.06-2.06.94zm10 10l.94 2.06.94-2.06 2.06-.94-2.06-.94-.94-2.06-.94 2.06-2.06.94z\"/><path d=\"M17.41 7.96l-1.37-1.37c-.4-.4-.92-.59-1.43-.59-.52 0-1.04.2-1.43.59L10.3 9.45l-7.72 7.72c-.78.78-.78 2.05 0 2.83L4 21.41c.39.39.9.59 1.41.59.51 0 1.02-.2 1.41-.59l7.78-7.78 2.81-2.81c.8-.78.8-2.07 0-2.86zM5.41 20L4 18.59l7.72-7.72 1.47 1.35L5.41 20z\"/>\n",
              "  </svg>\n",
              "      </button>\n",
              "      \n",
              "  <style>\n",
              "    .colab-df-container {\n",
              "      display:flex;\n",
              "      flex-wrap:wrap;\n",
              "      gap: 12px;\n",
              "    }\n",
              "\n",
              "    .colab-df-convert {\n",
              "      background-color: #E8F0FE;\n",
              "      border: none;\n",
              "      border-radius: 50%;\n",
              "      cursor: pointer;\n",
              "      display: none;\n",
              "      fill: #1967D2;\n",
              "      height: 32px;\n",
              "      padding: 0 0 0 0;\n",
              "      width: 32px;\n",
              "    }\n",
              "\n",
              "    .colab-df-convert:hover {\n",
              "      background-color: #E2EBFA;\n",
              "      box-shadow: 0px 1px 2px rgba(60, 64, 67, 0.3), 0px 1px 3px 1px rgba(60, 64, 67, 0.15);\n",
              "      fill: #174EA6;\n",
              "    }\n",
              "\n",
              "    [theme=dark] .colab-df-convert {\n",
              "      background-color: #3B4455;\n",
              "      fill: #D2E3FC;\n",
              "    }\n",
              "\n",
              "    [theme=dark] .colab-df-convert:hover {\n",
              "      background-color: #434B5C;\n",
              "      box-shadow: 0px 1px 3px 1px rgba(0, 0, 0, 0.15);\n",
              "      filter: drop-shadow(0px 1px 2px rgba(0, 0, 0, 0.3));\n",
              "      fill: #FFFFFF;\n",
              "    }\n",
              "  </style>\n",
              "\n",
              "      <script>\n",
              "        const buttonEl =\n",
              "          document.querySelector('#df-d4f48faf-2496-4e71-bdc4-ee76b52dcccf button.colab-df-convert');\n",
              "        buttonEl.style.display =\n",
              "          google.colab.kernel.accessAllowed ? 'block' : 'none';\n",
              "\n",
              "        async function convertToInteractive(key) {\n",
              "          const element = document.querySelector('#df-d4f48faf-2496-4e71-bdc4-ee76b52dcccf');\n",
              "          const dataTable =\n",
              "            await google.colab.kernel.invokeFunction('convertToInteractive',\n",
              "                                                     [key], {});\n",
              "          if (!dataTable) return;\n",
              "\n",
              "          const docLinkHtml = 'Like what you see? Visit the ' +\n",
              "            '<a target=\"_blank\" href=https://colab.research.google.com/notebooks/data_table.ipynb>data table notebook</a>'\n",
              "            + ' to learn more about interactive tables.';\n",
              "          element.innerHTML = '';\n",
              "          dataTable['output_type'] = 'display_data';\n",
              "          await google.colab.output.renderOutput(dataTable, element);\n",
              "          const docLink = document.createElement('div');\n",
              "          docLink.innerHTML = docLinkHtml;\n",
              "          element.appendChild(docLink);\n",
              "        }\n",
              "      </script>\n",
              "    </div>\n",
              "  </div>\n",
              "  "
            ]
          },
          "metadata": {},
          "execution_count": 196
        }
      ]
    },
    {
      "cell_type": "code",
      "source": [
        "data['Tweets'] = data['Tweets'].astype(str)"
      ],
      "metadata": {
        "id": "N7iB102vQV0_"
      },
      "execution_count": null,
      "outputs": []
    },
    {
      "cell_type": "code",
      "source": [
        "#Tokenization\n",
        "from nltk.tokenize import RegexpTokenizer\n",
        "\n",
        "regexp = RegexpTokenizer('\\w+')\n",
        "\n",
        "data['Tweets_Token']=data['Tweets'].apply(regexp.tokenize)"
      ],
      "metadata": {
        "id": "0DBbrWsfQDRZ"
      },
      "execution_count": null,
      "outputs": []
    },
    {
      "cell_type": "code",
      "source": [
        "data.head(20)"
      ],
      "metadata": {
        "colab": {
          "base_uri": "https://localhost:8080/",
          "height": 1000
        },
        "id": "yv0dZrDMQZ9I",
        "outputId": "9a0711c9-c780-4972-8427-932268243146"
      },
      "execution_count": null,
      "outputs": [
        {
          "output_type": "execute_result",
          "data": {
            "text/plain": [
              "                                               Tweets  Retweets    Likes  \\\n",
              "0                                            🤣 thanks       209     7021   \n",
              "1                                          absolutely       755    26737   \n",
              "2    dear twitter advertisers https://t.co/gmwhminpas     55927   356623   \n",
              "3                                                   👻       802    19353   \n",
              "4              meeting lot cool people twitter today!      9366   195546   \n",
              "5   entering twitter hq – let sink in! https://t.c...    145520  1043592   \n",
              "6                                                  🤣💪       194     3611   \n",
              "7                                                   🤣       117     2848   \n",
              "8    definitely closer citizen journalism – local ...       699    10189   \n",
              "9                               nobody bats 1000 🤷‍♂️       126     2920   \n",
              "10  a beautiful thing twitter empowers citizen jou...     37951   294406   \n",
              "11                    i’m big fan citizen journalism!       488     5529   \n",
              "12  “according unnamed sources close matter wish r...      4603    62693   \n",
              "13  “the new york times emerged new, chaotic actor...     10733   100922   \n",
              "14                                                 🤣🔥       130     3208   \n",
              "15                                               yes!       477    14209   \n",
              "16                                            30% lot       149     2863   \n",
              "17                                         concerning       719    17443   \n",
              "18   works moving land object https://t.co/xu4qkjw4d9      3565    41798   \n",
              "19                                      fasting rocks       284     4981   \n",
              "\n",
              "                  Date  num_urls  contains_image  \\\n",
              "0  2022-10-27 16:17:00         0           False   \n",
              "1  2022-10-27 13:19:00         0           False   \n",
              "2  2022-10-27 13:08:00         0           False   \n",
              "3  2022-10-27 02:32:00         0           False   \n",
              "4  2022-10-26 21:39:00         0           False   \n",
              "5  2022-10-26 18:45:00         0           False   \n",
              "6  2022-10-26 17:18:00         0           False   \n",
              "7  2022-10-26 17:14:00         0           False   \n",
              "8  2022-10-26 17:05:00         0           False   \n",
              "9  2022-10-26 15:42:00         0           False   \n",
              "10 2022-10-26 15:27:00         0           False   \n",
              "11 2022-10-26 15:22:00         0           False   \n",
              "12 2022-10-26 14:50:00         0           False   \n",
              "13 2022-10-26 14:48:00         0           False   \n",
              "14 2022-10-26 14:41:00         0           False   \n",
              "15 2022-10-26 07:27:00         0           False   \n",
              "16 2022-10-26 06:32:00         0           False   \n",
              "17 2022-10-26 06:28:00         0           False   \n",
              "18 2022-10-25 23:26:00         0           False   \n",
              "19 2022-10-25 13:54:00         0           False   \n",
              "\n",
              "                                         Tweets_Token  \n",
              "0                                            [thanks]  \n",
              "1                                        [absolutely]  \n",
              "2   [dear, twitter, advertisers, https, t, co, gmw...  \n",
              "3                                                  []  \n",
              "4        [meeting, lot, cool, people, twitter, today]  \n",
              "5   [entering, twitter, hq, let, sink, in, https, ...  \n",
              "6                                                  []  \n",
              "7                                                  []  \n",
              "8   [definitely, closer, citizen, journalism, loca...  \n",
              "9                                [nobody, bats, 1000]  \n",
              "10  [a, beautiful, thing, twitter, empowers, citiz...  \n",
              "11              [i, m, big, fan, citizen, journalism]  \n",
              "12  [according, unnamed, sources, close, matter, w...  \n",
              "13  [the, new, york, times, emerged, new, chaotic,...  \n",
              "14                                                 []  \n",
              "15                                              [yes]  \n",
              "16                                          [30, lot]  \n",
              "17                                       [concerning]  \n",
              "18  [works, moving, land, object, https, t, co, xu...  \n",
              "19                                   [fasting, rocks]  "
            ],
            "text/html": [
              "\n",
              "  <div id=\"df-690520c3-464a-48e7-bed3-b33c97a4ac2c\">\n",
              "    <div class=\"colab-df-container\">\n",
              "      <div>\n",
              "<style scoped>\n",
              "    .dataframe tbody tr th:only-of-type {\n",
              "        vertical-align: middle;\n",
              "    }\n",
              "\n",
              "    .dataframe tbody tr th {\n",
              "        vertical-align: top;\n",
              "    }\n",
              "\n",
              "    .dataframe thead th {\n",
              "        text-align: right;\n",
              "    }\n",
              "</style>\n",
              "<table border=\"1\" class=\"dataframe\">\n",
              "  <thead>\n",
              "    <tr style=\"text-align: right;\">\n",
              "      <th></th>\n",
              "      <th>Tweets</th>\n",
              "      <th>Retweets</th>\n",
              "      <th>Likes</th>\n",
              "      <th>Date</th>\n",
              "      <th>num_urls</th>\n",
              "      <th>contains_image</th>\n",
              "      <th>Tweets_Token</th>\n",
              "    </tr>\n",
              "  </thead>\n",
              "  <tbody>\n",
              "    <tr>\n",
              "      <th>0</th>\n",
              "      <td>🤣 thanks</td>\n",
              "      <td>209</td>\n",
              "      <td>7021</td>\n",
              "      <td>2022-10-27 16:17:00</td>\n",
              "      <td>0</td>\n",
              "      <td>False</td>\n",
              "      <td>[thanks]</td>\n",
              "    </tr>\n",
              "    <tr>\n",
              "      <th>1</th>\n",
              "      <td>absolutely</td>\n",
              "      <td>755</td>\n",
              "      <td>26737</td>\n",
              "      <td>2022-10-27 13:19:00</td>\n",
              "      <td>0</td>\n",
              "      <td>False</td>\n",
              "      <td>[absolutely]</td>\n",
              "    </tr>\n",
              "    <tr>\n",
              "      <th>2</th>\n",
              "      <td>dear twitter advertisers https://t.co/gmwhminpas</td>\n",
              "      <td>55927</td>\n",
              "      <td>356623</td>\n",
              "      <td>2022-10-27 13:08:00</td>\n",
              "      <td>0</td>\n",
              "      <td>False</td>\n",
              "      <td>[dear, twitter, advertisers, https, t, co, gmw...</td>\n",
              "    </tr>\n",
              "    <tr>\n",
              "      <th>3</th>\n",
              "      <td>👻</td>\n",
              "      <td>802</td>\n",
              "      <td>19353</td>\n",
              "      <td>2022-10-27 02:32:00</td>\n",
              "      <td>0</td>\n",
              "      <td>False</td>\n",
              "      <td>[]</td>\n",
              "    </tr>\n",
              "    <tr>\n",
              "      <th>4</th>\n",
              "      <td>meeting lot cool people twitter today!</td>\n",
              "      <td>9366</td>\n",
              "      <td>195546</td>\n",
              "      <td>2022-10-26 21:39:00</td>\n",
              "      <td>0</td>\n",
              "      <td>False</td>\n",
              "      <td>[meeting, lot, cool, people, twitter, today]</td>\n",
              "    </tr>\n",
              "    <tr>\n",
              "      <th>5</th>\n",
              "      <td>entering twitter hq – let sink in! https://t.c...</td>\n",
              "      <td>145520</td>\n",
              "      <td>1043592</td>\n",
              "      <td>2022-10-26 18:45:00</td>\n",
              "      <td>0</td>\n",
              "      <td>False</td>\n",
              "      <td>[entering, twitter, hq, let, sink, in, https, ...</td>\n",
              "    </tr>\n",
              "    <tr>\n",
              "      <th>6</th>\n",
              "      <td>🤣💪</td>\n",
              "      <td>194</td>\n",
              "      <td>3611</td>\n",
              "      <td>2022-10-26 17:18:00</td>\n",
              "      <td>0</td>\n",
              "      <td>False</td>\n",
              "      <td>[]</td>\n",
              "    </tr>\n",
              "    <tr>\n",
              "      <th>7</th>\n",
              "      <td>🤣</td>\n",
              "      <td>117</td>\n",
              "      <td>2848</td>\n",
              "      <td>2022-10-26 17:14:00</td>\n",
              "      <td>0</td>\n",
              "      <td>False</td>\n",
              "      <td>[]</td>\n",
              "    </tr>\n",
              "    <tr>\n",
              "      <th>8</th>\n",
              "      <td>definitely closer citizen journalism – local ...</td>\n",
              "      <td>699</td>\n",
              "      <td>10189</td>\n",
              "      <td>2022-10-26 17:05:00</td>\n",
              "      <td>0</td>\n",
              "      <td>False</td>\n",
              "      <td>[definitely, closer, citizen, journalism, loca...</td>\n",
              "    </tr>\n",
              "    <tr>\n",
              "      <th>9</th>\n",
              "      <td>nobody bats 1000 🤷‍♂️</td>\n",
              "      <td>126</td>\n",
              "      <td>2920</td>\n",
              "      <td>2022-10-26 15:42:00</td>\n",
              "      <td>0</td>\n",
              "      <td>False</td>\n",
              "      <td>[nobody, bats, 1000]</td>\n",
              "    </tr>\n",
              "    <tr>\n",
              "      <th>10</th>\n",
              "      <td>a beautiful thing twitter empowers citizen jou...</td>\n",
              "      <td>37951</td>\n",
              "      <td>294406</td>\n",
              "      <td>2022-10-26 15:27:00</td>\n",
              "      <td>0</td>\n",
              "      <td>False</td>\n",
              "      <td>[a, beautiful, thing, twitter, empowers, citiz...</td>\n",
              "    </tr>\n",
              "    <tr>\n",
              "      <th>11</th>\n",
              "      <td>i’m big fan citizen journalism!</td>\n",
              "      <td>488</td>\n",
              "      <td>5529</td>\n",
              "      <td>2022-10-26 15:22:00</td>\n",
              "      <td>0</td>\n",
              "      <td>False</td>\n",
              "      <td>[i, m, big, fan, citizen, journalism]</td>\n",
              "    </tr>\n",
              "    <tr>\n",
              "      <th>12</th>\n",
              "      <td>“according unnamed sources close matter wish r...</td>\n",
              "      <td>4603</td>\n",
              "      <td>62693</td>\n",
              "      <td>2022-10-26 14:50:00</td>\n",
              "      <td>0</td>\n",
              "      <td>False</td>\n",
              "      <td>[according, unnamed, sources, close, matter, w...</td>\n",
              "    </tr>\n",
              "    <tr>\n",
              "      <th>13</th>\n",
              "      <td>“the new york times emerged new, chaotic actor...</td>\n",
              "      <td>10733</td>\n",
              "      <td>100922</td>\n",
              "      <td>2022-10-26 14:48:00</td>\n",
              "      <td>0</td>\n",
              "      <td>False</td>\n",
              "      <td>[the, new, york, times, emerged, new, chaotic,...</td>\n",
              "    </tr>\n",
              "    <tr>\n",
              "      <th>14</th>\n",
              "      <td>🤣🔥</td>\n",
              "      <td>130</td>\n",
              "      <td>3208</td>\n",
              "      <td>2022-10-26 14:41:00</td>\n",
              "      <td>0</td>\n",
              "      <td>False</td>\n",
              "      <td>[]</td>\n",
              "    </tr>\n",
              "    <tr>\n",
              "      <th>15</th>\n",
              "      <td>yes!</td>\n",
              "      <td>477</td>\n",
              "      <td>14209</td>\n",
              "      <td>2022-10-26 07:27:00</td>\n",
              "      <td>0</td>\n",
              "      <td>False</td>\n",
              "      <td>[yes]</td>\n",
              "    </tr>\n",
              "    <tr>\n",
              "      <th>16</th>\n",
              "      <td>30% lot</td>\n",
              "      <td>149</td>\n",
              "      <td>2863</td>\n",
              "      <td>2022-10-26 06:32:00</td>\n",
              "      <td>0</td>\n",
              "      <td>False</td>\n",
              "      <td>[30, lot]</td>\n",
              "    </tr>\n",
              "    <tr>\n",
              "      <th>17</th>\n",
              "      <td>concerning</td>\n",
              "      <td>719</td>\n",
              "      <td>17443</td>\n",
              "      <td>2022-10-26 06:28:00</td>\n",
              "      <td>0</td>\n",
              "      <td>False</td>\n",
              "      <td>[concerning]</td>\n",
              "    </tr>\n",
              "    <tr>\n",
              "      <th>18</th>\n",
              "      <td>works moving land object https://t.co/xu4qkjw4d9</td>\n",
              "      <td>3565</td>\n",
              "      <td>41798</td>\n",
              "      <td>2022-10-25 23:26:00</td>\n",
              "      <td>0</td>\n",
              "      <td>False</td>\n",
              "      <td>[works, moving, land, object, https, t, co, xu...</td>\n",
              "    </tr>\n",
              "    <tr>\n",
              "      <th>19</th>\n",
              "      <td>fasting rocks</td>\n",
              "      <td>284</td>\n",
              "      <td>4981</td>\n",
              "      <td>2022-10-25 13:54:00</td>\n",
              "      <td>0</td>\n",
              "      <td>False</td>\n",
              "      <td>[fasting, rocks]</td>\n",
              "    </tr>\n",
              "  </tbody>\n",
              "</table>\n",
              "</div>\n",
              "      <button class=\"colab-df-convert\" onclick=\"convertToInteractive('df-690520c3-464a-48e7-bed3-b33c97a4ac2c')\"\n",
              "              title=\"Convert this dataframe to an interactive table.\"\n",
              "              style=\"display:none;\">\n",
              "        \n",
              "  <svg xmlns=\"http://www.w3.org/2000/svg\" height=\"24px\"viewBox=\"0 0 24 24\"\n",
              "       width=\"24px\">\n",
              "    <path d=\"M0 0h24v24H0V0z\" fill=\"none\"/>\n",
              "    <path d=\"M18.56 5.44l.94 2.06.94-2.06 2.06-.94-2.06-.94-.94-2.06-.94 2.06-2.06.94zm-11 1L8.5 8.5l.94-2.06 2.06-.94-2.06-.94L8.5 2.5l-.94 2.06-2.06.94zm10 10l.94 2.06.94-2.06 2.06-.94-2.06-.94-.94-2.06-.94 2.06-2.06.94z\"/><path d=\"M17.41 7.96l-1.37-1.37c-.4-.4-.92-.59-1.43-.59-.52 0-1.04.2-1.43.59L10.3 9.45l-7.72 7.72c-.78.78-.78 2.05 0 2.83L4 21.41c.39.39.9.59 1.41.59.51 0 1.02-.2 1.41-.59l7.78-7.78 2.81-2.81c.8-.78.8-2.07 0-2.86zM5.41 20L4 18.59l7.72-7.72 1.47 1.35L5.41 20z\"/>\n",
              "  </svg>\n",
              "      </button>\n",
              "      \n",
              "  <style>\n",
              "    .colab-df-container {\n",
              "      display:flex;\n",
              "      flex-wrap:wrap;\n",
              "      gap: 12px;\n",
              "    }\n",
              "\n",
              "    .colab-df-convert {\n",
              "      background-color: #E8F0FE;\n",
              "      border: none;\n",
              "      border-radius: 50%;\n",
              "      cursor: pointer;\n",
              "      display: none;\n",
              "      fill: #1967D2;\n",
              "      height: 32px;\n",
              "      padding: 0 0 0 0;\n",
              "      width: 32px;\n",
              "    }\n",
              "\n",
              "    .colab-df-convert:hover {\n",
              "      background-color: #E2EBFA;\n",
              "      box-shadow: 0px 1px 2px rgba(60, 64, 67, 0.3), 0px 1px 3px 1px rgba(60, 64, 67, 0.15);\n",
              "      fill: #174EA6;\n",
              "    }\n",
              "\n",
              "    [theme=dark] .colab-df-convert {\n",
              "      background-color: #3B4455;\n",
              "      fill: #D2E3FC;\n",
              "    }\n",
              "\n",
              "    [theme=dark] .colab-df-convert:hover {\n",
              "      background-color: #434B5C;\n",
              "      box-shadow: 0px 1px 3px 1px rgba(0, 0, 0, 0.15);\n",
              "      filter: drop-shadow(0px 1px 2px rgba(0, 0, 0, 0.3));\n",
              "      fill: #FFFFFF;\n",
              "    }\n",
              "  </style>\n",
              "\n",
              "      <script>\n",
              "        const buttonEl =\n",
              "          document.querySelector('#df-690520c3-464a-48e7-bed3-b33c97a4ac2c button.colab-df-convert');\n",
              "        buttonEl.style.display =\n",
              "          google.colab.kernel.accessAllowed ? 'block' : 'none';\n",
              "\n",
              "        async function convertToInteractive(key) {\n",
              "          const element = document.querySelector('#df-690520c3-464a-48e7-bed3-b33c97a4ac2c');\n",
              "          const dataTable =\n",
              "            await google.colab.kernel.invokeFunction('convertToInteractive',\n",
              "                                                     [key], {});\n",
              "          if (!dataTable) return;\n",
              "\n",
              "          const docLinkHtml = 'Like what you see? Visit the ' +\n",
              "            '<a target=\"_blank\" href=https://colab.research.google.com/notebooks/data_table.ipynb>data table notebook</a>'\n",
              "            + ' to learn more about interactive tables.';\n",
              "          element.innerHTML = '';\n",
              "          dataTable['output_type'] = 'display_data';\n",
              "          await google.colab.output.renderOutput(dataTable, element);\n",
              "          const docLink = document.createElement('div');\n",
              "          docLink.innerHTML = docLinkHtml;\n",
              "          element.appendChild(docLink);\n",
              "        }\n",
              "      </script>\n",
              "    </div>\n",
              "  </div>\n",
              "  "
            ]
          },
          "metadata": {},
          "execution_count": 199
        }
      ]
    },
    {
      "cell_type": "markdown",
      "source": [
        "# **TASK 2 STATISTICAL ANALYSIS**"
      ],
      "metadata": {
        "id": "b_uEDtSfcnm5"
      }
    },
    {
      "cell_type": "code",
      "source": [
        "data.shape"
      ],
      "metadata": {
        "colab": {
          "base_uri": "https://localhost:8080/"
        },
        "id": "dssN2eN8czbk",
        "outputId": "53b21e8e-7e24-44c0-f091-4ba5e3a564b0"
      },
      "execution_count": null,
      "outputs": [
        {
          "output_type": "execute_result",
          "data": {
            "text/plain": [
              "(3060, 7)"
            ]
          },
          "metadata": {},
          "execution_count": 200
        }
      ]
    },
    {
      "cell_type": "code",
      "source": [
        "data.describe()"
      ],
      "metadata": {
        "colab": {
          "base_uri": "https://localhost:8080/",
          "height": 300
        },
        "id": "N0kN3JSKc4Ue",
        "outputId": "d0420053-e118-4efa-e80a-3c200b7f00de"
      },
      "execution_count": null,
      "outputs": [
        {
          "output_type": "execute_result",
          "data": {
            "text/plain": [
              "            Retweets         Likes     num_urls\n",
              "count    3060.000000  3.060000e+03  3060.000000\n",
              "mean     5847.451634  7.074538e+04     0.028105\n",
              "std     21662.545853  1.965653e+05     0.165299\n",
              "min        41.000000  9.330000e+02     0.000000\n",
              "25%       300.750000  5.914750e+03     0.000000\n",
              "50%       786.000000  1.521050e+04     0.000000\n",
              "75%      3366.250000  5.649675e+04     0.000000\n",
              "max    681707.000000  4.780787e+06     1.000000"
            ],
            "text/html": [
              "\n",
              "  <div id=\"df-c505d2e7-6012-45ea-8f1e-b1c7832344fb\">\n",
              "    <div class=\"colab-df-container\">\n",
              "      <div>\n",
              "<style scoped>\n",
              "    .dataframe tbody tr th:only-of-type {\n",
              "        vertical-align: middle;\n",
              "    }\n",
              "\n",
              "    .dataframe tbody tr th {\n",
              "        vertical-align: top;\n",
              "    }\n",
              "\n",
              "    .dataframe thead th {\n",
              "        text-align: right;\n",
              "    }\n",
              "</style>\n",
              "<table border=\"1\" class=\"dataframe\">\n",
              "  <thead>\n",
              "    <tr style=\"text-align: right;\">\n",
              "      <th></th>\n",
              "      <th>Retweets</th>\n",
              "      <th>Likes</th>\n",
              "      <th>num_urls</th>\n",
              "    </tr>\n",
              "  </thead>\n",
              "  <tbody>\n",
              "    <tr>\n",
              "      <th>count</th>\n",
              "      <td>3060.000000</td>\n",
              "      <td>3.060000e+03</td>\n",
              "      <td>3060.000000</td>\n",
              "    </tr>\n",
              "    <tr>\n",
              "      <th>mean</th>\n",
              "      <td>5847.451634</td>\n",
              "      <td>7.074538e+04</td>\n",
              "      <td>0.028105</td>\n",
              "    </tr>\n",
              "    <tr>\n",
              "      <th>std</th>\n",
              "      <td>21662.545853</td>\n",
              "      <td>1.965653e+05</td>\n",
              "      <td>0.165299</td>\n",
              "    </tr>\n",
              "    <tr>\n",
              "      <th>min</th>\n",
              "      <td>41.000000</td>\n",
              "      <td>9.330000e+02</td>\n",
              "      <td>0.000000</td>\n",
              "    </tr>\n",
              "    <tr>\n",
              "      <th>25%</th>\n",
              "      <td>300.750000</td>\n",
              "      <td>5.914750e+03</td>\n",
              "      <td>0.000000</td>\n",
              "    </tr>\n",
              "    <tr>\n",
              "      <th>50%</th>\n",
              "      <td>786.000000</td>\n",
              "      <td>1.521050e+04</td>\n",
              "      <td>0.000000</td>\n",
              "    </tr>\n",
              "    <tr>\n",
              "      <th>75%</th>\n",
              "      <td>3366.250000</td>\n",
              "      <td>5.649675e+04</td>\n",
              "      <td>0.000000</td>\n",
              "    </tr>\n",
              "    <tr>\n",
              "      <th>max</th>\n",
              "      <td>681707.000000</td>\n",
              "      <td>4.780787e+06</td>\n",
              "      <td>1.000000</td>\n",
              "    </tr>\n",
              "  </tbody>\n",
              "</table>\n",
              "</div>\n",
              "      <button class=\"colab-df-convert\" onclick=\"convertToInteractive('df-c505d2e7-6012-45ea-8f1e-b1c7832344fb')\"\n",
              "              title=\"Convert this dataframe to an interactive table.\"\n",
              "              style=\"display:none;\">\n",
              "        \n",
              "  <svg xmlns=\"http://www.w3.org/2000/svg\" height=\"24px\"viewBox=\"0 0 24 24\"\n",
              "       width=\"24px\">\n",
              "    <path d=\"M0 0h24v24H0V0z\" fill=\"none\"/>\n",
              "    <path d=\"M18.56 5.44l.94 2.06.94-2.06 2.06-.94-2.06-.94-.94-2.06-.94 2.06-2.06.94zm-11 1L8.5 8.5l.94-2.06 2.06-.94-2.06-.94L8.5 2.5l-.94 2.06-2.06.94zm10 10l.94 2.06.94-2.06 2.06-.94-2.06-.94-.94-2.06-.94 2.06-2.06.94z\"/><path d=\"M17.41 7.96l-1.37-1.37c-.4-.4-.92-.59-1.43-.59-.52 0-1.04.2-1.43.59L10.3 9.45l-7.72 7.72c-.78.78-.78 2.05 0 2.83L4 21.41c.39.39.9.59 1.41.59.51 0 1.02-.2 1.41-.59l7.78-7.78 2.81-2.81c.8-.78.8-2.07 0-2.86zM5.41 20L4 18.59l7.72-7.72 1.47 1.35L5.41 20z\"/>\n",
              "  </svg>\n",
              "      </button>\n",
              "      \n",
              "  <style>\n",
              "    .colab-df-container {\n",
              "      display:flex;\n",
              "      flex-wrap:wrap;\n",
              "      gap: 12px;\n",
              "    }\n",
              "\n",
              "    .colab-df-convert {\n",
              "      background-color: #E8F0FE;\n",
              "      border: none;\n",
              "      border-radius: 50%;\n",
              "      cursor: pointer;\n",
              "      display: none;\n",
              "      fill: #1967D2;\n",
              "      height: 32px;\n",
              "      padding: 0 0 0 0;\n",
              "      width: 32px;\n",
              "    }\n",
              "\n",
              "    .colab-df-convert:hover {\n",
              "      background-color: #E2EBFA;\n",
              "      box-shadow: 0px 1px 2px rgba(60, 64, 67, 0.3), 0px 1px 3px 1px rgba(60, 64, 67, 0.15);\n",
              "      fill: #174EA6;\n",
              "    }\n",
              "\n",
              "    [theme=dark] .colab-df-convert {\n",
              "      background-color: #3B4455;\n",
              "      fill: #D2E3FC;\n",
              "    }\n",
              "\n",
              "    [theme=dark] .colab-df-convert:hover {\n",
              "      background-color: #434B5C;\n",
              "      box-shadow: 0px 1px 3px 1px rgba(0, 0, 0, 0.15);\n",
              "      filter: drop-shadow(0px 1px 2px rgba(0, 0, 0, 0.3));\n",
              "      fill: #FFFFFF;\n",
              "    }\n",
              "  </style>\n",
              "\n",
              "      <script>\n",
              "        const buttonEl =\n",
              "          document.querySelector('#df-c505d2e7-6012-45ea-8f1e-b1c7832344fb button.colab-df-convert');\n",
              "        buttonEl.style.display =\n",
              "          google.colab.kernel.accessAllowed ? 'block' : 'none';\n",
              "\n",
              "        async function convertToInteractive(key) {\n",
              "          const element = document.querySelector('#df-c505d2e7-6012-45ea-8f1e-b1c7832344fb');\n",
              "          const dataTable =\n",
              "            await google.colab.kernel.invokeFunction('convertToInteractive',\n",
              "                                                     [key], {});\n",
              "          if (!dataTable) return;\n",
              "\n",
              "          const docLinkHtml = 'Like what you see? Visit the ' +\n",
              "            '<a target=\"_blank\" href=https://colab.research.google.com/notebooks/data_table.ipynb>data table notebook</a>'\n",
              "            + ' to learn more about interactive tables.';\n",
              "          element.innerHTML = '';\n",
              "          dataTable['output_type'] = 'display_data';\n",
              "          await google.colab.output.renderOutput(dataTable, element);\n",
              "          const docLink = document.createElement('div');\n",
              "          docLink.innerHTML = docLinkHtml;\n",
              "          element.appendChild(docLink);\n",
              "        }\n",
              "      </script>\n",
              "    </div>\n",
              "  </div>\n",
              "  "
            ]
          },
          "metadata": {},
          "execution_count": 201
        }
      ]
    },
    {
      "cell_type": "code",
      "source": [
        "data.columns"
      ],
      "metadata": {
        "colab": {
          "base_uri": "https://localhost:8080/"
        },
        "id": "Tqg0ul6_c70w",
        "outputId": "fca68288-a1af-435c-b1dd-63047261bff7"
      },
      "execution_count": null,
      "outputs": [
        {
          "output_type": "execute_result",
          "data": {
            "text/plain": [
              "Index(['Tweets', 'Retweets', 'Likes', 'Date', 'num_urls', 'contains_image',\n",
              "       'Tweets_Token'],\n",
              "      dtype='object')"
            ]
          },
          "metadata": {},
          "execution_count": 202
        }
      ]
    },
    {
      "cell_type": "code",
      "source": [
        "data.head"
      ],
      "metadata": {
        "colab": {
          "base_uri": "https://localhost:8080/"
        },
        "id": "GNo_oKp3c85l",
        "outputId": "ff41cff3-f192-4c29-f511-abecf1f631a9"
      },
      "execution_count": null,
      "outputs": [
        {
          "output_type": "execute_result",
          "data": {
            "text/plain": [
              "<bound method NDFrame.head of                                                  Tweets  Retweets   Likes  \\\n",
              "0                                              🤣 thanks       209    7021   \n",
              "1                                            absolutely       755   26737   \n",
              "2      dear twitter advertisers https://t.co/gmwhminpas     55927  356623   \n",
              "3                                                     👻       802   19353   \n",
              "4                meeting lot cool people twitter today!      9366  195546   \n",
              "...                                                 ...       ...     ...   \n",
              "3055    just manganese alternative iron &amp; phosph...       171    3173   \n",
              "3056                                            exactly       145    4234   \n",
              "3057   your policies directly responsible outrageous...       421    6144   \n",
              "3058                                   you voted office       484    7029   \n",
              "3059                  cb radios free govt/media control     11302  113429   \n",
              "\n",
              "                    Date  num_urls  contains_image  \\\n",
              "0    2022-10-27 16:17:00         0           False   \n",
              "1    2022-10-27 13:19:00         0           False   \n",
              "2    2022-10-27 13:08:00         0           False   \n",
              "3    2022-10-27 02:32:00         0           False   \n",
              "4    2022-10-26 21:39:00         0           False   \n",
              "...                  ...       ...             ...   \n",
              "3055 2022-01-27 22:01:00         0           False   \n",
              "3056 2022-01-27 21:23:00         0           False   \n",
              "3057 2022-01-27 21:13:00         0           False   \n",
              "3058 2022-01-27 21:12:00         0           False   \n",
              "3059 2022-01-27 21:00:00         0           False   \n",
              "\n",
              "                                           Tweets_Token  \n",
              "0                                              [thanks]  \n",
              "1                                          [absolutely]  \n",
              "2     [dear, twitter, advertisers, https, t, co, gmw...  \n",
              "3                                                    []  \n",
              "4          [meeting, lot, cool, people, twitter, today]  \n",
              "...                                                 ...  \n",
              "3055  [just, manganese, alternative, iron, amp, phos...  \n",
              "3056                                          [exactly]  \n",
              "3057  [your, policies, directly, responsible, outrag...  \n",
              "3058                               [you, voted, office]  \n",
              "3059           [cb, radios, free, govt, media, control]  \n",
              "\n",
              "[3060 rows x 7 columns]>"
            ]
          },
          "metadata": {},
          "execution_count": 203
        }
      ]
    },
    {
      "cell_type": "code",
      "source": [
        "data.info()"
      ],
      "metadata": {
        "colab": {
          "base_uri": "https://localhost:8080/"
        },
        "id": "hQn1gD9gdAME",
        "outputId": "c264fef7-0750-4bb1-c2e6-adc4cdea3a0a"
      },
      "execution_count": null,
      "outputs": [
        {
          "output_type": "stream",
          "name": "stdout",
          "text": [
            "<class 'pandas.core.frame.DataFrame'>\n",
            "RangeIndex: 3060 entries, 0 to 3059\n",
            "Data columns (total 7 columns):\n",
            " #   Column          Non-Null Count  Dtype         \n",
            "---  ------          --------------  -----         \n",
            " 0   Tweets          3060 non-null   object        \n",
            " 1   Retweets        3060 non-null   int64         \n",
            " 2   Likes           3060 non-null   int64         \n",
            " 3   Date            3060 non-null   datetime64[ns]\n",
            " 4   num_urls        3060 non-null   int64         \n",
            " 5   contains_image  3060 non-null   bool          \n",
            " 6   Tweets_Token    3060 non-null   object        \n",
            "dtypes: bool(1), datetime64[ns](1), int64(3), object(2)\n",
            "memory usage: 146.6+ KB\n"
          ]
        }
      ]
    },
    {
      "cell_type": "code",
      "source": [
        "data.isna().any()"
      ],
      "metadata": {
        "colab": {
          "base_uri": "https://localhost:8080/"
        },
        "id": "snZ78My0dEfl",
        "outputId": "884b3bab-2c0d-4972-fedf-3252a1b956bf"
      },
      "execution_count": null,
      "outputs": [
        {
          "output_type": "execute_result",
          "data": {
            "text/plain": [
              "Tweets            False\n",
              "Retweets          False\n",
              "Likes             False\n",
              "Date              False\n",
              "num_urls          False\n",
              "contains_image    False\n",
              "Tweets_Token      False\n",
              "dtype: bool"
            ]
          },
          "metadata": {},
          "execution_count": 205
        }
      ]
    },
    {
      "cell_type": "code",
      "source": [
        "data['Tweets'] = data['Tweets'].astype(str)"
      ],
      "metadata": {
        "id": "apjyWGmSQryH"
      },
      "execution_count": null,
      "outputs": []
    },
    {
      "cell_type": "code",
      "source": [
        "from nltk.probability import FreqDist\n",
        "fd = FreqDist(data['Tweets'])\n",
        "print(fd)\n",
        "fd.most_common(5)"
      ],
      "metadata": {
        "colab": {
          "base_uri": "https://localhost:8080/"
        },
        "id": "53IgRT2JQi9w",
        "outputId": "8feb81f5-b9d5-4d4a-f6eb-140b2c828e6e"
      },
      "execution_count": null,
      "outputs": [
        {
          "output_type": "stream",
          "name": "stdout",
          "text": [
            "<FreqDist with 2655 samples and 3060 outcomes>\n"
          ]
        },
        {
          "output_type": "execute_result",
          "data": {
            "text/plain": [
              "[(' 🤣', 79), ('  🤣', 32), (' yes', 22), (' exactly', 21), (' true', 18)]"
            ]
          },
          "metadata": {},
          "execution_count": 207
        }
      ]
    },
    {
      "cell_type": "code",
      "source": [
        "from nltk.collocations import BigramAssocMeasures, BigramCollocationFinder\n",
        "words = data['Tweets'].apply(nltk.word_tokenize).sum()\n",
        "# Create a Text object\n",
        "text_3 = nltk.Text(words)\n",
        "# Find bigram collocations\n",
        "finder = BigramCollocationFinder.from_words(text_3, window_size=3)\n",
        "scored = finder.score_ngrams(BigramAssocMeasures().raw_freq)\n",
        "collocations = sorted(scored, key=lambda x: -x[1])\n",
        "print(collocations[:10])"
      ],
      "metadata": {
        "colab": {
          "base_uri": "https://localhost:8080/"
        },
        "id": "zRRbkcpLq6GF",
        "outputId": "753f5c26-369c-4f52-93a1-996c52a48cf9"
      },
      "execution_count": null,
      "outputs": [
        {
          "output_type": "stream",
          "name": "stdout",
          "text": [
            "[(('https', ':'), 0.007100329129839873), (('&', ';'), 0.0057135460966680224), (('&', 'amp'), 0.005325246847379905), (('amp', ';'), 0.005325246847379905), (('’', 's'), 0.003642616767131393), (('’', 't'), 0.0028290373876705744), (('.', ','), 0.0017381014015753855), ((',', '’'), 0.0015901778780370549), (('i', '’'), 0.0015901778780370549), (('.', '’'), 0.0012943308309603934)]\n"
          ]
        }
      ]
    },
    {
      "cell_type": "markdown",
      "source": [
        "# **DATA VISUALISATION**"
      ],
      "metadata": {
        "id": "Dt-uH-WZX_wS"
      }
    },
    {
      "cell_type": "code",
      "source": [
        "#Visualising the Most Common Words\n",
        "# Obtain top 10 words\n",
        "top_10 = fd.most_common(10)\n",
        "\n",
        "# Create pandas series to make plotting easier\n",
        "fdist = pd.Series(dict(top_10))\n",
        "\n",
        "#plot of common words\n",
        "sns.set_theme(style=\"ticks\")\n",
        "\n",
        "sns.barplot(y=fdist.index, x=fdist.values, color='blue');"
      ],
      "metadata": {
        "colab": {
          "base_uri": "https://localhost:8080/",
          "height": 712
        },
        "id": "BUHZFmEHZflL",
        "outputId": "7b9f8af1-598e-4f57-bd86-d010d8a396f5"
      },
      "execution_count": null,
      "outputs": [
        {
          "output_type": "stream",
          "name": "stderr",
          "text": [
            "/usr/local/lib/python3.9/dist-packages/IPython/core/events.py:89: UserWarning:\n",
            "\n",
            "Glyph 129315 (\\N{ROLLING ON THE FLOOR LAUGHING}) missing from current font.\n",
            "\n",
            "/usr/local/lib/python3.9/dist-packages/IPython/core/events.py:89: UserWarning:\n",
            "\n",
            "Glyph 128175 (\\N{HUNDRED POINTS SYMBOL}) missing from current font.\n",
            "\n",
            "/usr/local/lib/python3.9/dist-packages/IPython/core/pylabtools.py:151: UserWarning:\n",
            "\n",
            "Glyph 129315 (\\N{ROLLING ON THE FLOOR LAUGHING}) missing from current font.\n",
            "\n",
            "/usr/local/lib/python3.9/dist-packages/IPython/core/pylabtools.py:151: UserWarning:\n",
            "\n",
            "Glyph 128175 (\\N{HUNDRED POINTS SYMBOL}) missing from current font.\n",
            "\n"
          ]
        },
        {
          "output_type": "display_data",
          "data": {
            "text/plain": [
              "<Figure size 640x480 with 1 Axes>"
            ],
            "image/png": "[encoded data removed]"
          },
          "metadata": {}
        }
      ]
    },
    {
      "cell_type": "code",
      "source": [
        "data1 = data[data['Date'].dt.year.isin([2022])]\n",
        "\n",
        "#Convert to a pandas DatetimeIndex\n",
        "year = pd.DatetimeIndex(data1['Date']).year\n",
        "hour = pd.DatetimeIndex(data1['Date']).hour\n",
        "month = pd.DatetimeIndex(data1['Date']).month\n",
        "\n",
        "\n",
        "#Create bins for diffrent times of the day\n",
        "bins = [0, 11, 16, 23]\n",
        "labels = ['Morning', 'Afternoon', 'Evening']\n",
        "time_of_day = pd.cut(hour, bins=bins, labels=labels)\n",
        "\n",
        "#Group the tweets by month and time of day\n",
        "grouped = data1.groupby([month, time_of_day])['Tweets'].count().unstack()\n",
        "\n",
        "# Visualise using stacked bars\n",
        "ax = grouped.plot(kind='bar', stacked=True, title='Tweet Frequency by Time')\n",
        "ax.set_xlabel('Month')\n",
        "ax.set_ylabel('Number of Tweets')\n",
        "ax.legend(title='Time')\n",
        "plt.show()"
      ],
      "metadata": {
        "colab": {
          "base_uri": "https://localhost:8080/",
          "height": 484
        },
        "id": "sbG_eeU-YhTQ",
        "outputId": "c55b4f10-0630-4b3f-ac19-fad6524ed470"
      },
      "execution_count": null,
      "outputs": [
        {
          "output_type": "display_data",
          "data": {
            "text/plain": [
              "<Figure size 640x480 with 1 Axes>"
            ],
            "image/png": "[encoded data removed]"
          },
          "metadata": {}
        }
      ]
    },
    {
      "cell_type": "code",
      "source": [
        "#create a new feature named Month\n",
        "data[\"Month\"] = pd.DatetimeIndex(data1['Date']).month"
      ],
      "metadata": {
        "id": "Tkr_8A88aYG5"
      },
      "execution_count": null,
      "outputs": []
    },
    {
      "cell_type": "code",
      "source": [
        "data.Month.value_counts().plot.barh()"
      ],
      "metadata": {
        "colab": {
          "base_uri": "https://localhost:8080/",
          "height": 451
        },
        "id": "dnIG23RpKj6L",
        "outputId": "835ed0be-0bdd-4d95-92fc-8fd7aaec2b83"
      },
      "execution_count": null,
      "outputs": [
        {
          "output_type": "execute_result",
          "data": {
            "text/plain": [
              "<Axes: >"
            ]
          },
          "metadata": {},
          "execution_count": 212
        },
        {
          "output_type": "display_data",
          "data": {
            "text/plain": [
              "<Figure size 640x480 with 1 Axes>"
            ],
            "image/png": "[encoded data removed]"
          },
          "metadata": {}
        }
      ]
    },
    {
      "cell_type": "code",
      "source": [
        "sns.catplot(data= data, x=\"Month\", y=\"Likes\", kind=\"bar\")"
      ],
      "metadata": {
        "colab": {
          "base_uri": "https://localhost:8080/",
          "height": 518
        },
        "id": "JhvOVNT6aiJP",
        "outputId": "e622233c-6936-4763-f41a-450a922d5dfc"
      },
      "execution_count": null,
      "outputs": [
        {
          "output_type": "execute_result",
          "data": {
            "text/plain": [
              "<seaborn.axisgrid.FacetGrid at 0x7ff3a18ee0d0>"
            ]
          },
          "metadata": {},
          "execution_count": 213
        },
        {
          "output_type": "display_data",
          "data": {
            "text/plain": [
              "<Figure size 500x500 with 1 Axes>"
            ],
            "image/png": "[encoded data removed]"
          },
          "metadata": {}
        }
      ]
    },
    {
      "cell_type": "code",
      "source": [
        "figure = px.histogram(data, x = \"Month\",\n",
        "                      y = \"Retweets\",\n",
        "                      title= \"Retweets by Month\")\n",
        "figure.show()"
      ],
      "metadata": {
        "colab": {
          "base_uri": "https://localhost:8080/",
          "height": 542
        },
        "id": "ioyQrXUCY9i7",
        "outputId": "d2087f4f-74ad-49d1-f972-3142969abc8c"
      },
      "execution_count": null,
      "outputs": [
        {
          "output_type": "display_data",
          "data": {
            "text/html": [
              "<html>\n",
              "<head><meta charset=\"utf-8\" /></head>\n",
              "<body>\n",
              "    <div>            <script src=\"https://cdnjs.cloudflare.com/ajax/libs/mathjax/2.7.5/MathJax.js?config=TeX-AMS-MML_SVG\"></script><script type=\"text/javascript\">if (window.MathJax && window.MathJax.Hub && window.MathJax.Hub.Config) {window.MathJax.Hub.Config({SVG: {font: \"STIX-Web\"}});}</script>                <script type=\"text/javascript\">window.PlotlyConfig = {MathJaxConfig: 'local'};</script>\n",
              "        <script src=\"https://cdn.plot.ly/plotly-2.18.2.min.js\"></script>                <div id=\"34260ecf-4249-4efe-9846-3db908979484\" class=\"plotly-graph-div\" style=\"height:525px; width:100%;\"></div>            <script type=\"text/javascript\">                                    window.PLOTLYENV=window.PLOTLYENV || {};                                    if (document.getElementById(\"34260ecf-4249-4efe-9846-3db908979484\")) {                    Plotly.newPlot(                        \"34260ecf-4249-4efe-9846-3db908979484\",                        [{\"alignmentgroup\":\"True\",\"bingroup\":\"x\",\"histfunc\":\"sum\",\"hovertemplate\":\"Month=%{x}<br>sum of Retweets=%{y}<extra></extra>\",\"legendgroup\":\"\",\"marker\":{\"color\":\"#636efa\",\"pattern\":{\"shape\":\"\"}},\"name\":\"\",\"offsetgroup\":\"\",\"orientation\":\"v\",\"showlegend\":false,\"x\":[10,10,10,10,10,10,10,10,10,10,10,10,10,10,10,10,10,10,10,10,10,10,10,10,10,10,10,10,10,10,10,10,10,10,10,10,10,10,10,10,10,10,10,10,10,10,10,10,10,10,10,10,10,10,10,10,10,10,10,10,10,10,10,10,10,10,10,10,10,10,10,10,10,10,10,10,10,10,10,10,10,10,10,10,10,10,10,10,10,10,10,10,10,10,10,10,10,10,10,10,10,10,10,10,10,10,10,10,10,10,10,10,10,10,10,10,10,10,10,10,10,10,10,10,10,10,10,10,10,10,10,10,10,10,10,10,10,10,10,10,10,10,10,10,10,10,10,10,10,10,10,10,10,10,10,10,10,10,10,10,10,10,10,10,10,10,10,10,10,10,10,10,10,10,10,10,10,10,10,10,10,10,10,10,10,10,10,10,10,10,10,10,10,10,10,10,10,10,10,10,10,10,10,10,10,10,10,10,10,10,10,10,10,10,10,10,10,10,10,10,10,10,10,10,10,10,10,10,10,10,10,10,10,10,10,10,10,10,10,10,10,10,10,10,10,10,10,10,10,10,10,10,10,10,10,10,10,10,10,10,10,10,10,10,10,10,10,10,10,10,10,10,10,10,10,10,10,10,10,10,10,10,10,10,10,10,10,10,10,10,10,10,10,10,10,10,10,10,10,10,10,10,10,10,10,10,10,10,10,10,10,10,10,10,10,10,10,10,10,10,10,10,10,10,10,10,10,10,10,10,10,10,10,10,10,10,10,10,10,10,10,10,10,10,10,10,10,10,10,10,10,10,10,10,10,10,10,10,10,10,10,10,10,10,10,10,10,10,10,10,10,10,10,10,10,10,10,10,10,10,10,10,10,10,10,10,10,10,10,10,10,10,10,10,10,10,10,10,10,10,10,10,10,10,10,10,10,10,10,10,10,10,10,10,10,10,10,10,10,10,10,10,10,10,10,10,10,10,10,10,10,10,10,10,10,10,10,10,10,9,9,9,9,9,9,9,9,9,9,9,9,9,9,9,9,9,9,9,9,9,9,9,9,9,9,9,9,9,9,9,9,9,9,9,9,9,9,9,9,9,9,9,9,9,9,9,9,9,9,9,9,9,9,9,9,9,9,9,9,9,9,9,9,9,9,9,9,9,9,9,9,9,9,9,9,9,9,9,9,9,9,9,9,9,9,9,9,9,9,9,9,9,9,9,9,9,9,9,9,9,9,9,9,9,9,9,9,9,9,9,9,9,9,9,9,9,9,9,9,9,9,9,9,9,9,9,9,9,9,9,9,9,9,9,9,9,9,9,9,9,9,9,9,9,9,9,9,9,9,9,9,9,9,9,9,9,9,9,9,9,9,9,9,9,9,9,9,9,9,9,9,9,9,9,9,9,9,9,9,9,9,9,9,9,9,9,9,9,9,9,9,9,9,9,9,9,9,9,9,9,9,9,9,9,9,9,9,9,9,9,9,9,9,9,9,9,9,9,9,9,9,9,9,9,9,9,9,9,9,9,9,9,9,9,9,9,9,9,9,9,9,9,9,9,9,9,9,9,9,9,9,9,9,9,9,9,9,8,8,8,8,8,8,8,8,8,8,8,8,8,8,8,8,8,8,8,8,8,8,8,8,8,8,8,8,8,8,8,8,8,8,8,8,8,8,8,8,8,8,8,8,8,8,8,8,8,8,8,8,8,8,8,8,8,8,8,8,8,8,8,8,8,8,8,8,8,8,8,8,8,8,8,8,8,8,8,8,8,8,8,8,8,8,8,8,8,8,8,8,8,8,8,8,8,8,8,8,8,8,8,8,8,8,8,8,8,8,8,8,8,8,8,8,8,8,8,8,8,8,8,8,8,8,8,8,8,8,8,8,8,8,8,8,8,8,8,8,8,8,8,8,8,8,8,8,8,8,8,8,8,8,8,8,8,8,8,8,8,8,8,8,8,8,8,8,8,8,8,8,8,8,8,8,8,8,8,8,8,8,8,8,8,8,8,8,8,8,8,8,8,8,8,8,8,8,8,8,8,8,8,8,8,8,8,8,8,8,8,8,8,8,8,8,8,8,8,8,8,8,8,8,8,8,8,8,8,8,8,8,8,8,8,8,8,8,8,8,8,8,8,8,8,8,7,7,7,7,7,7,7,7,7,7,7,7,7,7,7,7,7,7,7,7,7,7,7,7,7,7,7,7,7,7,7,7,7,7,7,7,7,7,7,7,7,7,7,7,7,7,7,7,7,7,7,7,7,7,7,7,7,7,7,7,7,7,7,7,7,7,7,7,7,7,7,7,7,7,7,7,7,7,7,7,7,7,7,7,7,7,7,7,7,7,7,7,7,7,7,7,7,7,7,7,7,7,7,7,7,7,7,7,7,7,7,7,7,7,7,7,7,7,7,7,7,7,7,7,7,7,7,7,7,7,7,7,7,7,7,7,7,7,7,7,7,7,7,7,7,7,7,7,7,7,7,7,7,7,7,7,7,7,7,7,7,7,7,7,7,7,7,7,7,7,7,7,7,7,7,7,7,7,7,7,7,7,7,7,7,7,7,7,7,7,7,7,7,7,7,7,7,7,7,7,7,7,7,7,7,7,7,7,7,7,7,7,7,7,7,7,7,7,7,7,7,7,7,7,7,7,7,7,7,7,7,7,7,7,7,7,7,7,7,7,7,7,7,7,7,7,7,7,7,7,7,7,7,7,7,7,7,7,7,7,7,7,7,7,7,7,7,7,7,7,7,7,7,7,7,7,7,7,7,7,7,7,7,7,7,7,7,7,7,7,7,7,7,7,7,7,7,7,7,7,7,7,7,7,7,7,7,7,7,7,7,7,7,7,6,6,6,6,6,6,6,6,6,6,6,6,6,6,6,6,6,6,6,6,6,6,6,6,6,6,6,6,6,6,6,6,6,6,6,6,6,6,6,6,6,6,6,6,6,6,6,6,6,6,6,6,6,6,6,6,6,6,6,6,6,6,6,6,6,6,6,6,6,6,6,6,6,6,6,6,6,6,6,6,6,6,6,6,6,6,6,6,6,6,6,6,6,6,6,6,6,6,6,6,6,6,6,6,6,6,6,6,6,6,6,6,6,6,6,6,6,6,6,6,6,6,6,6,6,6,6,6,6,6,6,6,6,6,6,6,6,6,6,6,6,6,6,6,6,6,6,6,6,6,6,6,6,6,6,6,6,6,6,6,6,6,6,6,6,6,6,6,6,6,6,6,6,6,6,6,6,6,6,6,6,6,6,6,6,6,6,6,6,6,6,6,6,6,6,6,6,6,6,6,6,6,6,6,6,6,6,6,6,6,6,6,6,6,6,6,6,6,6,6,6,6,6,6,6,6,6,6,6,6,6,6,6,6,6,6,6,6,6,6,6,6,6,6,6,6,6,6,6,6,6,6,6,6,6,6,6,6,6,6,6,6,6,6,6,6,6,6,6,6,6,6,6,6,6,6,6,6,6,6,6,6,6,6,6,6,6,6,6,6,6,6,6,6,6,6,6,6,6,6,6,6,6,6,6,6,6,6,6,6,6,6,6,6,6,6,6,6,6,6,6,6,6,6,6,6,6,6,6,6,6,6,6,6,6,6,6,6,6,6,6,6,6,6,5,5,5,5,5,5,5,5,5,5,5,5,5,5,5,5,5,5,5,5,5,5,5,5,5,5,5,5,5,5,5,5,5,5,5,5,5,5,5,5,5,5,5,5,5,5,5,5,5,5,5,5,5,5,5,5,5,5,5,5,5,5,5,5,5,5,5,5,5,5,5,5,5,5,5,5,5,5,5,5,5,5,5,5,5,5,5,5,5,5,5,5,5,5,5,5,5,5,5,5,5,5,5,5,5,5,5,5,5,5,5,5,5,5,5,5,5,5,5,5,5,5,5,5,5,5,5,5,5,5,5,5,5,5,5,5,5,5,5,5,5,5,5,5,5,5,5,5,5,5,5,5,5,5,5,5,5,5,5,5,5,5,5,5,5,5,5,5,5,5,5,5,5,5,5,5,5,5,5,5,5,5,5,5,5,5,5,5,5,5,5,5,5,5,5,5,5,5,5,5,5,5,5,5,5,5,5,5,5,5,5,5,5,5,5,5,5,5,5,5,5,5,5,5,5,5,5,5,5,5,5,5,5,5,5,5,5,5,5,5,5,5,5,5,5,5,5,5,5,5,5,5,5,5,5,5,5,5,5,5,5,5,5,5,5,5,5,5,5,5,5,5,5,5,5,5,5,5,5,5,5,5,5,5,5,5,5,5,5,5,5,5,5,5,5,5,5,5,5,5,5,5,5,5,5,5,5,5,5,5,5,5,5,5,5,5,5,5,5,5,5,5,5,5,5,5,5,5,5,5,5,5,5,5,5,5,5,5,5,5,5,5,5,5,5,5,5,5,5,5,5,5,5,5,5,5,5,5,5,5,5,5,5,5,5,5,5,5,5,5,5,5,5,5,5,5,5,5,5,5,5,5,5,5,5,5,5,5,5,5,5,5,5,5,5,5,5,5,5,5,5,5,5,5,5,5,5,5,5,5,5,5,5,5,5,5,5,5,5,5,5,5,5,5,5,5,5,5,5,5,5,5,5,5,5,5,5,5,5,5,5,5,5,5,5,5,5,5,5,5,5,5,5,5,5,5,5,5,5,5,5,5,5,5,5,5,5,5,5,5,5,5,5,5,5,5,5,5,5,5,5,5,5,5,5,5,5,5,5,5,5,5,5,5,5,5,5,5,5,5,5,5,5,5,5,5,5,5,5,5,5,5,5,5,5,5,5,5,5,5,5,5,5,5,5,5,5,5,5,5,5,5,5,5,5,5,5,5,5,5,5,5,5,5,5,5,5,5,5,5,5,5,5,5,5,5,5,5,5,5,5,5,5,5,5,5,5,5,5,5,5,5,5,5,5,5,4,4,4,4,4,4,4,4,4,4,4,4,4,4,4,4,4,4,4,4,4,4,4,4,4,4,4,4,4,4,4,4,4,4,4,4,4,4,4,4,4,4,4,4,4,4,4,4,4,4,4,4,4,4,4,4,4,4,4,4,4,4,4,4,4,4,4,4,4,4,4,4,4,4,4,4,4,4,4,4,4,4,4,4,4,4,4,4,4,4,4,4,4,4,4,4,4,4,4,4,4,4,4,4,4,4,4,4,4,4,4,4,4,4,4,4,4,4,4,4,4,4,4,4,4,4,4,4,4,4,4,4,4,4,4,4,4,4,4,4,4,4,4,4,4,4,4,4,4,4,4,4,4,4,4,4,4,4,4,4,4,4,4,4,4,4,4,4,4,4,4,4,4,4,4,4,4,4,4,4,4,4,4,4,4,4,4,4,4,4,4,4,4,4,4,4,4,4,4,4,4,4,4,4,4,4,4,4,4,4,4,4,4,4,4,4,4,4,4,4,4,4,4,4,4,4,4,4,4,4,4,4,4,4,4,4,4,4,4,4,4,4,4,4,4,4,4,4,4,4,4,4,4,4,4,4,4,4,4,4,4,4,4,4,4,4,4,4,4,4,4,4,4,4,4,4,4,4,4,4,4,4,4,4,4,4,4,4,4,4,4,4,4,4,4,4,4,4,4,4,4,4,4,4,4,4,4,4,4,4,4,4,4,4,4,4,4,3,3,3,3,3,3,3,3,3,3,3,3,3,3,3,3,3,3,3,3,3,3,3,3,3,3,3,3,3,3,3,3,3,3,3,3,3,3,3,3,3,3,3,3,3,3,3,3,3,3,3,3,3,3,3,3,3,3,3,3,3,3,3,3,3,3,3,3,3,3,3,3,3,3,3,3,3,3,3,3,3,3,3,3,3,3,3,3,3,3,3,3,3,3,3,3,3,3,3,3,3,3,3,3,3,3,3,3,3,3,3,3,3,3,3,3,3,3,3,3,3,3,3,3,3,3,3,3,3,3,3,3,3,3,3,3,3,3,3,3,3,3,3,3,3,3,3,3,3,3,3,3,3,3,3,3,3,3,3,3,3,3,3,3,3,3,3,3,3,3,3,3,3,3,3,3,3,3,3,3,3,3,3,3,3,3,3,3,3,3,3,3,3,3,3,3,3,3,3,3,3,3,3,3,3,3,3,3,3,3,3,3,3,3,3,3,3,3,3,3,3,3,3,3,3,3,3,3,3,3,3,3,3,3,3,3,3,3,3,3,3,3,3,3,3,3,3,3,3,3,3,3,3,3,3,3,3,3,3,3,3,3,2,2,2,2,2,2,2,2,2,2,2,2,2,2,2,2,2,2,2,2,2,2,2,2,2,2,2,2,2,2,2,2,2,2,2,2,2,2,2,2,2,2,2,2,2,2,2,2,2,2,2,2,2,2,2,2,2,2,2,2,2,2,2,2,2,2,2,2,2,2,2,2,2,2,2,2,2,2,2,2,2,2,2,2,2,2,2,2,2,2,2,2,2,2,2,2,2,2,2,2,2,2,2,2,2,2,2,2,2,2,2,2,2,2,2,2,2,2,2,2,2,2,2,2,2,2,2,2,2,2,2,2,2,2,2,2,2,2,2,2,2,2,2,2,2,2,2,2,2,2,2,2,2,2,2,2,2,2,2,2,2,2,2,2,2,2,2,2,2,2,2,2,2,2,2,2,2,2,2,2,2,2,2,2,2,2,2,2,2,2,2,2,2,2,2,2,2,2,2,2,2,2,2,2,2,2,2,2,2,2,2,2,2,2,2,2,2,2,2,2,2,2,2,2,2,2,2,2,2,2,2,2,2,2,2,2,2,2,2,2,2,2,2,2,2,2,2,2,2,1,1,1,1,1,1,1,1,1,1,1,1,1,1,1,1,1,1,1,1,1,1,1,1,1,1,1,1,1,1,1,1,1,1,1,1,1,1,1,1,1,1,1,1,1,1,1,1,1,1,1,1,1,1,1],\"xaxis\":\"x\",\"y\":[209,755,55927,802,9366,145520,194,117,699,126,37951,488,4603,10733,130,477,149,719,3565,284,573,174,241,347,238,4121,46,257,11678,6978,3374,138,99,563,494,75,116,469,1289,133,91,235,281,272,635,1882,75,63,2112,216,1094,513,603,1277,3989,12460,9180,1392,4864,532,563,22736,159,1895,1325,1106,712,2163,67,107,53,265,556,241,867,1039,973,762,133,128,183,89,119,2900,337,508,102,123,78,102,561,3155,91,24031,2842,153,1303,240,751,1347,125,100,1981,383,71,265,1104,5308,669,340,287,79,1465,1569,79,1458,745,35111,88,2060,5709,470,215,1364,1745,8082,3324,183,2801,589,102,186,102,64,46,205,160,5267,744,785,571,2331,708,743,3214,895,326,91,2727,243,380,1003,1197,2523,156,3111,9275,211,84,4098,54,5432,589,68,99,298,4193,691,3382,190,366,22035,493,494,276,2825,1628,138,5101,41,556,619,1975,184,87,2358,289,378,354,1845,1027,208,446,257,731,2220,39422,661,246,224,227,1540,817,766,77,765,5650,297,380,1671,1187,921,332,388,478,2232,1686,2880,3805,3240,18937,224,125,1114,473,262,133,1181,666,659,274,195,203,1179,234,83,758,101,325,497,567,380,10277,192,66,3690,19752,942,436,2051,473,43464,2019,2104,1370,3530,2467,3978,209,4350,946,29916,13144,2729,12713,7370,10946,1035,5046,78,648,298,506,8486,2440,537,553,138,137,6621,488,1237,870,1601,134,314,4268,218,104,66,131,69,162,368,1700,11517,11623,116,280,2595,471,7345,527,2534,734,1088,27906,733,341,1900,651,760,735,339,160,3836,176,198,824,3087,262,6310,1079,588,470,189,709,238,251,4228,31298,611,1508,404,1645,3124,4106,1309,1999,5916,119,6132,184,9422,110,434,400,791,843,191,2480,174,91,18633,313,883,6951,6933,4545,104,3120,1138,474,884,396,1067,942,37574,356,1746,1373,8009,11054,4536,1199,275,210,129,453,821,12219,2668,17853,362,1382,411,273,4817,4906,21077,179,364,338,997,846,247,381,79,696,35088,1551,199,8661,244,233,4306,239,848,10225,147,346,2584,318,270,812,366,269,494,260,13920,2619,2179,78,448,67,380,4326,88,219,5210,3497,122,169,33344,7512,4950,96,316,6399,531,1727,3200,616,433,382,406,888,253,396,83,489,480,2356,1096,14900,667,956,1303,4565,532,379,339,1015,4499,3859,850,1138,1866,319,917,14320,1270,523,683,3960,3612,886,857,2447,390,239,1435,8355,48016,7311,112,1267,2317,22620,11864,1728,31409,1746,153,13042,113,1246,506,467,655,639,181,679,466,173,2304,194,785,340,269,342,391,153,81,64,58,154,60,651,89,126,264,79,242,140,465,353,231,156,107,267,64,84,134,640,1021,4874,278,443,207,84,521,326,532,133,63,1214,12856,2710,367,1041,3348,333,2903,2108,935,10694,766,534,299,370,1013,15256,12992,1451,166,1370,240,76,21840,294,1433,2336,180,13284,2803,802,731,797,1360,7286,342,578,399,20506,135,95,1411,2925,3580,80,95,44,76,154,2925,204,2128,9462,50,833,2036,89,158,82,1265,291,3795,387,356,29606,2375,759,14530,331,98,2138,170,2182,1075,94,433,688,126,3272,12117,3535,6878,78,337,92,102,73,1629,333,556,10326,6276,136,124,2295,241,115,2174,1048,1059,106,231,699,492,805,1720,279,966,860,489,1911,617,16064,245,326,647,1223,195,150,1971,4419,1370,71,2768,986,125,174,223,1342,124,358,369,4601,4370,8611,269,27992,407,1380,109,1398,2002,118,711,2137,7016,343,1651,316,3086,11120,424,1126,761,5088,477,332,5601,462,4948,707,843,1617,586,913,306,5360,4551,194,194,221,143,617,1335,4863,115,117,12862,2082,13128,3442,58,81,58,190,2607,2106,681,177,591,35117,166,915,272,589,125,172,3124,269,3062,41143,338,237,364,2952,20853,2592,833,744,334,792,289,347,4305,3194,348,11308,571,315,1190,146,3396,61,832,268,159,677,6780,105,408,6828,5808,994,1531,742,235,546,17499,468,1358,1608,3152,2087,808,476,497,355,137,371,2567,7671,1078,753,31457,415,516,16809,281,251,195,237,1110,97,204,317,373,158,610,5958,93,177,80201,1562,199,958,363,215,884,5945,340,8866,1567,11097,458,308,477,445,119775,496,21042,195,617,1258,4099,3057,10243,1059,3062,22621,97,155,630,1974,648,171,298,6724,160,455,2522,542,326,3513,1232,24517,49116,1840,9238,743,787,38967,25187,41044,1414,412,172,469,488,317,1116,3072,782,3622,3503,155,12762,2652,485,345,927,1097,574,1311,89,1290,162,1282,1684,702,10511,2331,5155,231,81,3859,293,7320,4435,124,163,2426,859,3417,4165,9296,4129,4721,4753,3514,162,775,155,76,88,383,1874,478,6918,492,255,127,3490,147,5225,2226,16442,3521,126,3795,175,249,330,163,1261,577,154,14042,88,861,11085,104,45514,141,164,102,2766,111,386,14812,346,17907,7903,3294,351,4960,10152,28871,107,632,884,4357,225,237,4519,5571,2351,1191,195,672,2387,11205,297,21197,715,40369,4741,16772,336,531,1097,202,1908,156,132,97,131,514,512,765,3697,336,133,601,478,20460,440,12715,1301,1090,1324,139,1063,617,3510,5981,429,11285,1527,113,4086,161,231,1286,2795,6100,1077,6762,1948,3431,128,780,1301,214,1081,1814,3007,20702,1227,99,290,3161,121,1174,140,143,64,94,325,6722,426,1464,6824,3044,19717,127,178,433,595,496,281,3108,737,194,2001,310,32171,226,78,2954,1061,257,864,3754,317,7399,2790,481,246,2485,6420,3040,314,1072,3167,2734,196,170,29853,99,89,479,1314,133,252,2035,1572,575,1018,364,371,1487,208,1349,280,1291,202,654,336,357,317,1386,122,97,785,590,226,886,19932,547,8846,191,839,48068,954,196,175,236,268,3977,607,624,3136,809,2008,530,420,2216,312,304,4695,14087,306,54861,1249,1991,6886,868,5276,484,2575,12992,672,207,551,1563,418,1478,101,233,649,451,335,190,3312,957,2872,4983,9950,460,1932,63,101,290,634,18425,162,935,201,1111,1581,30294,4802,8189,272,858,26147,661,128775,3154,8688,355,305,383,460,1192,156,781,1844,421,513,343,990,7651,239,554,434,7969,381,257,530,259,111,6573,3284,16793,17898,3783,24897,223,186,3986,2623,1908,2027,7228,9428,173,4213,46919,5975,945,150,484,775,630,308,1456,1288,2974,119,1219,4648,1411,159,2176,308,1017,1112,289,1872,473,8833,16091,31959,790,166,261,18708,8691,20680,14445,1398,3324,232,8244,1674,68776,393,14725,2335,1607,204,327,2485,9741,443,1031,282,2209,804,2896,178,2774,36080,5097,656,424,559,6824,299,525,30715,3366,4413,372,2705,1587,1650,8301,7323,591,596,79,3400,732,146,513,1137,111,118,67,6212,916,247,302,2869,9537,1421,8628,434,33571,295,173,41594,297,573,469,1962,471,3227,11396,395,456,353,377,2449,334,88,75,236,1690,832,312,3950,644,376,1596,173,88,94,424,144,371,118,150,866,162,335,1149,702,455,183,7671,2068,253,132,235,895,3569,89,350,10425,399,12579,1209,666,3534,506,222,1159,1081,108,2220,187,20282,2091,1426,834,599,9968,252,22070,313,101,430,474,165,534,34421,375,3061,822,705,1026,632,82,9874,293,6897,137,676,102,5391,108,4399,372,11055,7752,577,1154,563,501,150,103,21708,618,93,10610,199,432,1563,622,131,173,73,265,304,267,152,5808,1812,212,115,302,760,1301,47081,358,16390,537,1063,792,4163,1152,13554,1689,144,208,163,86,1437,429,324,462,1752,1002,4181,190,5899,5223,282,342,224,1776,240,742,466,15362,76,108,685,925,822,3467,734,425,3925,199,2555,2268,513,2925,543,222,1816,955,1221,222,47384,426,919,47117,446,184,3253,7704,1729,848,139,6930,296,594,19593,140,19114,6308,2346,2559,6011,8864,1087,1676,31185,847,470,12021,6141,1276,4232,834,114,336,275,2146,261,2505,4897,8278,902,135,10164,423,7191,523,73935,257,3830,2221,149,70,133,850,1242,200,1410,278,115,328,436,5634,21910,329,10908,128,64,823,35291,111,346,560,606,6588,1341,742,2097,1076,257,245,158,7675,7538,664,8860,1105,2011,414,152,469,763,79,70,553,224,4187,4795,547,1103,345,466,138,376,1415,1580,680,945,253,572,5452,1389,1220,213,327,526,138871,130,211,91,91,632,596,571,398,138,626,147,211,116,203,389,737,454,1429,417,74,44184,584,161,1082,4104,4229,134,88,167,32211,2157,295,248,2073,24108,440,1636,752,3332,34721,180,14191,240,161,439,353,20470,165,156,389,44296,1357,696,8623,243,471,2702,5404,4146,3351,159,116,682,1206,409,128,475,1431,5496,1215,425,1755,146,26919,456,207,2003,377,423,537,130,97960,167,322,265,580,161,861,401,1498,561,719,4667,144,1079,640,1040,88,141,11088,17648,603,54,52,196,47,2054,82,968,15978,793,366,328,547,10919,18879,33239,9352,223,200,394,21498,2106,167,141,103,640,189,257,1633,98,199,674,14634,201,30882,135,228,339,41,3064,2215,9132,215,297,1805,86,944,235,330,161,7011,3306,3117,12199,466,54675,1101,53,1892,2571,283,264,156,1126,1833,826,1200,116,476,13232,11234,434,830,1050,2655,29825,272,155,426,1653,2055,721,569,109,7343,124,662,628,600,20575,1288,126,158,1883,1360,9719,3051,47335,4552,1119,742,185,141,172,1759,439,1329,422,2641,135,191,497,153,545,9784,138,358,3176,8915,803,26091,2745,182,313,9792,110,656,275,368,178,1787,706,910,2412,4263,4699,616,268,797,276,413,6997,1736,318,404,3961,678,229,301,13449,271,332,393,4493,6449,8010,22204,509,1487,4172,20585,5313,3769,388,2384,9353,28455,696,6210,924,52938,561,851,2042,18969,365,25935,1224,1177,3113,2191,78978,3142,369,408,17605,703,387,1297,21252,8330,27432,28644,7601,6362,380,119,222,673,4384,136,502,16652,414,15028,7004,887,553,14285,657,3522,4446,7076,20865,453,119246,1920,9679,28242,53450,156,7185,789,711,41719,1208,2849,844,2860,646,641,16853,430,832,21985,5080,503,8957,7657,2379,13193,2449,1827,450,213,1978,14323,621,463,253,946,398,106,358,3547,6333,1203,767,3078,195,2733,386,629,591,4739,566,3503,533,516,8821,12185,114,172,200,455,414,411,1914,8382,1423,1766,11433,3772,9773,199,72,5179,344,6520,12676,92736,732,523,5765,30556,55957,1294,1173,238,755,751,471,9989,1468,11876,27561,4401,370,617,142,3239,319,542,3721,20372,691,1716,8862,832,276,922,1182,554,93875,40790,25292,1580,3976,605,1194,2191,639,565,12728,32824,859,915,40931,224,333,261,645,15102,7258,788,663,1120,1178,395,861,510,321,6117,1841,1296,584,76010,3111,3910,9621,5094,12561,924,8942,494,289,667,10542,174613,12388,8913,2690,3143,169,2562,17330,2241,11307,485,1077,2289,1255,643,1588,1062,24645,804,140,10310,443,1831,568,34536,5429,21801,2302,6471,774,25194,29654,438,506,5175,609,666,383,31057,682,128,342,1250,620,30776,37438,53550,1166,578,785,2892,2899,1227,1001,219,1425,7102,5373,794,9549,2057,4794,489,1624,2688,1125,7052,498,8113,102637,653,2794,657,28371,1667,2049,13382,14143,1273,1923,2196,1979,1796,2344,211,2095,2040,1985,109674,249,365,1230,1247,1478,2086,5838,704,3599,524,5183,1028,811,338,2764,3643,5910,718,655,485,48197,255,862,1321,9016,46986,121066,256,9817,6204,2850,13436,2927,644,20786,42793,1497,208763,20619,4285,1254,2194,3419,3039,1720,323,2209,212854,194742,7559,4098,681707,107799,780,16235,757,10592,144607,8857,2460,9040,46533,18758,29650,230,3355,49781,4675,48967,41296,21735,89887,192900,986,6925,348158,368279,52826,1534,10276,6147,1675,480,1030,1196,682,1411,1531,3463,248,272,20724,197,198,477,246,280,323,3344,509,1304,30999,587,4364,1953,1846,3234,1151,190,1883,905,41320,134490,7069,442,177,912,171,1046,3932,839,8831,25072,1656,973,3367,775,25621,24098,15252,2745,1978,25009,362,73468,13517,953,341,344,1681,240,1216,900,5675,290,221,68,4074,215,137,355,395,452,1071,425,506,1324,13482,845,604,5629,402,459,457,1402,17845,1317,748,697,1192,1970,47146,41950,9118,425,862,11787,13045,1860,9603,553,368,1469,2043,330,336,748,639,930,974,37579,16683,842,2318,970,2300,24246,25000,1174,8643,1834,6869,1054,379,3602,1085,5942,530,23433,20692,983,1596,457,84772,15785,3202,1908,31617,12411,34458,11028,106698,1440,966,947,1044,2191,665,542,502,4237,1255,1541,4109,9026,985,5542,608,1237,88,371,63770,23246,68,176,127,2550,4515,5616,17501,6460,3297,858,677,241,5265,296,2651,591,1469,110,10579,4545,510,108951,19969,654,4833,3981,7461,3674,9455,764,2867,803,307,342,5618,701,10455,2331,25721,761,1514,1883,194,2554,52039,184,299,121,9990,53884,9486,609,518,382,12297,702,1926,32832,1760,4285,815,187,181,4086,1356,300,116,1077,3090,1825,9683,78,4984,10195,22913,439,7761,1962,2160,115,188,1516,17182,321,130,337,697,468,216,785,1177,7164,496,531,609,1289,1273,2057,113,184,979,463,600,16413,182,176,5885,3769,554,361,376,8075,3178,25016,12098,734,6810,1350,360,4763,73,21559,206,74,94,866,1901,568,1349,2061,14551,533,936,1242,25284,31457,11900,308,820,4448,135,340,312,71,9987,246,42433,1337,68,4568,103,13050,97,3326,6357,6241,299,137,103,10512,738,2880,288,14208,191,158,197,1154,606,624,11436,109,3127,1201,787,2209,1704,470,593,66662,2215,4652,3815,13702,608,285,220,315,470,436,14512,432,444,5873,23769,15143,234,863,4385,221,214,535,1172,22737,78,20831,281,880,117,228,934,242,1814,12761,8419,1271,348,514,9271,1950,181,53646,4647,4652,292,348,145729,83124,14328,749,315,2684,4352,131,172,308,10901,463,439,336,7281,177,3792,375,2092,2004,193,3257,733,239,166,1181,404,12860,289,79805,402,1266,1660,45054,1439,292,13376,16381,42118,86,4338,93,131,12651,380,216,334,137,342,1007,1317,298,241,16996,413,30109,6260,1032,364,832,1989,898,554,998,2721,215,8911,73677,11767,153,110,166,17766,52979,20500,78576,144,736,1457,440,990,672,272,1251,2978,40090,635,7327,8842,79,432,175,565,686,384,3553,3518,412,1137,1320,932,358,486,484,937,217,516,3255,128,34947,814,114,213,426,549,191,603,179,375,13263,134504,627,985,9505,2739,1980,445,368,261,125,606,163,300,823,262,149,104,223,247,4290,3179,449,368,277,168,928,224,96,553,114,119,22886,51,102,241,376,292,695,1671,137,441,247,293,649,157,1686,123,196,125,393,89,60,4517,10696,153,141,514,281,132,219,118,168,63,2064,19940,227,118,220,171,471,428,142,364,199,230,661,357,623,690,2532,11514,106,591,171,336,112,219,2663,4801,33142,902,339,2489,377,459,203,137,104,275,2853,811,273,1033,409,12705,75,626,407,1251,262,1013,1774,5094,33195,349,720,1978,12701,198,2451,72,396,236,936,3689,7746,924,267,253,82,7236,7018,1576,703,685,247,260,191,378,226,586,2741,461,280,958,291,1823,622,248,104480,318,490,494,1035,307,4784,191,560,310,21643,7747,16182,3089,4966,157,666,366,2653,239,312,318,437,689,723,1891,1580,324,16191,1036,577,202,1669,425,182,38922,749,364,29187,3767,151,835,76,307,434,1132,369,8734,471,484,1979,12358,3135,3025,172,31258,209,879,89,162,334,4002,5980,23356,624,556,238,375,1158,377,159,494,255,2769,464,5978,510,5681,421,141,603,1317,383,246,7909,235,1193,220,247,4181,262,508,225,47,454,658,223,1002,352,242,3294,28152,403,582,6392,534,17911,17222,789,8654,10336,3778,388,2583,4030,17788,29193,174,590,35680,1055,254,34501,1341,6464,467,280,2156,15887,490,23224,8475,393,452,4283,571,707,686,4546,998,920,734,33028,281,7712,119804,32799,12348,128,171,145,421,484,11302],\"yaxis\":\"y\",\"type\":\"histogram\"}],                        {\"template\":{\"data\":{\"histogram2dcontour\":[{\"type\":\"histogram2dcontour\",\"colorbar\":{\"outlinewidth\":0,\"ticks\":\"\"},\"colorscale\":[[0.0,\"#0d0887\"],[0.1111111111111111,\"#46039f\"],[0.2222222222222222,\"#7201a8\"],[0.3333333333333333,\"#9c179e\"],[0.4444444444444444,\"#bd3786\"],[0.5555555555555556,\"#d8576b\"],[0.6666666666666666,\"#ed7953\"],[0.7777777777777778,\"#fb9f3a\"],[0.8888888888888888,\"#fdca26\"],[1.0,\"#f0f921\"]]}],\"choropleth\":[{\"type\":\"choropleth\",\"colorbar\":{\"outlinewidth\":0,\"ticks\":\"\"}}],\"histogram2d\":[{\"type\":\"histogram2d\",\"colorbar\":{\"outlinewidth\":0,\"ticks\":\"\"},\"colorscale\":[[0.0,\"#0d0887\"],[0.1111111111111111,\"#46039f\"],[0.2222222222222222,\"#7201a8\"],[0.3333333333333333,\"#9c179e\"],[0.4444444444444444,\"#bd3786\"],[0.5555555555555556,\"#d8576b\"],[0.6666666666666666,\"#ed7953\"],[0.7777777777777778,\"#fb9f3a\"],[0.8888888888888888,\"#fdca26\"],[1.0,\"#f0f921\"]]}],\"heatmap\":[{\"type\":\"heatmap\",\"colorbar\":{\"outlinewidth\":0,\"ticks\":\"\"},\"colorscale\":[[0.0,\"#0d0887\"],[0.1111111111111111,\"#46039f\"],[0.2222222222222222,\"#7201a8\"],[0.3333333333333333,\"#9c179e\"],[0.4444444444444444,\"#bd3786\"],[0.5555555555555556,\"#d8576b\"],[0.6666666666666666,\"#ed7953\"],[0.7777777777777778,\"#fb9f3a\"],[0.8888888888888888,\"#fdca26\"],[1.0,\"#f0f921\"]]}],\"heatmapgl\":[{\"type\":\"heatmapgl\",\"colorbar\":{\"outlinewidth\":0,\"ticks\":\"\"},\"colorscale\":[[0.0,\"#0d0887\"],[0.1111111111111111,\"#46039f\"],[0.2222222222222222,\"#7201a8\"],[0.3333333333333333,\"#9c179e\"],[0.4444444444444444,\"#bd3786\"],[0.5555555555555556,\"#d8576b\"],[0.6666666666666666,\"#ed7953\"],[0.7777777777777778,\"#fb9f3a\"],[0.8888888888888888,\"#fdca26\"],[1.0,\"#f0f921\"]]}],\"contourcarpet\":[{\"type\":\"contourcarpet\",\"colorbar\":{\"outlinewidth\":0,\"ticks\":\"\"}}],\"contour\":[{\"type\":\"contour\",\"colorbar\":{\"outlinewidth\":0,\"ticks\":\"\"},\"colorscale\":[[0.0,\"#0d0887\"],[0.1111111111111111,\"#46039f\"],[0.2222222222222222,\"#7201a8\"],[0.3333333333333333,\"#9c179e\"],[0.4444444444444444,\"#bd3786\"],[0.5555555555555556,\"#d8576b\"],[0.6666666666666666,\"#ed7953\"],[0.7777777777777778,\"#fb9f3a\"],[0.8888888888888888,\"#fdca26\"],[1.0,\"#f0f921\"]]}],\"surface\":[{\"type\":\"surface\",\"colorbar\":{\"outlinewidth\":0,\"ticks\":\"\"},\"colorscale\":[[0.0,\"#0d0887\"],[0.1111111111111111,\"#46039f\"],[0.2222222222222222,\"#7201a8\"],[0.3333333333333333,\"#9c179e\"],[0.4444444444444444,\"#bd3786\"],[0.5555555555555556,\"#d8576b\"],[0.6666666666666666,\"#ed7953\"],[0.7777777777777778,\"#fb9f3a\"],[0.8888888888888888,\"#fdca26\"],[1.0,\"#f0f921\"]]}],\"mesh3d\":[{\"type\":\"mesh3d\",\"colorbar\":{\"outlinewidth\":0,\"ticks\":\"\"}}],\"scatter\":[{\"fillpattern\":{\"fillmode\":\"overlay\",\"size\":10,\"solidity\":0.2},\"type\":\"scatter\"}],\"parcoords\":[{\"type\":\"parcoords\",\"line\":{\"colorbar\":{\"outlinewidth\":0,\"ticks\":\"\"}}}],\"scatterpolargl\":[{\"type\":\"scatterpolargl\",\"marker\":{\"colorbar\":{\"outlinewidth\":0,\"ticks\":\"\"}}}],\"bar\":[{\"error_x\":{\"color\":\"#2a3f5f\"},\"error_y\":{\"color\":\"#2a3f5f\"},\"marker\":{\"line\":{\"color\":\"#E5ECF6\",\"width\":0.5},\"pattern\":{\"fillmode\":\"overlay\",\"size\":10,\"solidity\":0.2}},\"type\":\"bar\"}],\"scattergeo\":[{\"type\":\"scattergeo\",\"marker\":{\"colorbar\":{\"outlinewidth\":0,\"ticks\":\"\"}}}],\"scatterpolar\":[{\"type\":\"scatterpolar\",\"marker\":{\"colorbar\":{\"outlinewidth\":0,\"ticks\":\"\"}}}],\"histogram\":[{\"marker\":{\"pattern\":{\"fillmode\":\"overlay\",\"size\":10,\"solidity\":0.2}},\"type\":\"histogram\"}],\"scattergl\":[{\"type\":\"scattergl\",\"marker\":{\"colorbar\":{\"outlinewidth\":0,\"ticks\":\"\"}}}],\"scatter3d\":[{\"type\":\"scatter3d\",\"line\":{\"colorbar\":{\"outlinewidth\":0,\"ticks\":\"\"}},\"marker\":{\"colorbar\":{\"outlinewidth\":0,\"ticks\":\"\"}}}],\"scattermapbox\":[{\"type\":\"scattermapbox\",\"marker\":{\"colorbar\":{\"outlinewidth\":0,\"ticks\":\"\"}}}],\"scatterternary\":[{\"type\":\"scatterternary\",\"marker\":{\"colorbar\":{\"outlinewidth\":0,\"ticks\":\"\"}}}],\"scattercarpet\":[{\"type\":\"scattercarpet\",\"marker\":{\"colorbar\":{\"outlinewidth\":0,\"ticks\":\"\"}}}],\"carpet\":[{\"aaxis\":{\"endlinecolor\":\"#2a3f5f\",\"gridcolor\":\"white\",\"linecolor\":\"white\",\"minorgridcolor\":\"white\",\"startlinecolor\":\"#2a3f5f\"},\"baxis\":{\"endlinecolor\":\"#2a3f5f\",\"gridcolor\":\"white\",\"linecolor\":\"white\",\"minorgridcolor\":\"white\",\"startlinecolor\":\"#2a3f5f\"},\"type\":\"carpet\"}],\"table\":[{\"cells\":{\"fill\":{\"color\":\"#EBF0F8\"},\"line\":{\"color\":\"white\"}},\"header\":{\"fill\":{\"color\":\"#C8D4E3\"},\"line\":{\"color\":\"white\"}},\"type\":\"table\"}],\"barpolar\":[{\"marker\":{\"line\":{\"color\":\"#E5ECF6\",\"width\":0.5},\"pattern\":{\"fillmode\":\"overlay\",\"size\":10,\"solidity\":0.2}},\"type\":\"barpolar\"}],\"pie\":[{\"automargin\":true,\"type\":\"pie\"}]},\"layout\":{\"autotypenumbers\":\"strict\",\"colorway\":[\"#636efa\",\"#EF553B\",\"#00cc96\",\"#ab63fa\",\"#FFA15A\",\"#19d3f3\",\"#FF6692\",\"#B6E880\",\"#FF97FF\",\"#FECB52\"],\"font\":{\"color\":\"#2a3f5f\"},\"hovermode\":\"closest\",\"hoverlabel\":{\"align\":\"left\"},\"paper_bgcolor\":\"white\",\"plot_bgcolor\":\"#E5ECF6\",\"polar\":{\"bgcolor\":\"#E5ECF6\",\"angularaxis\":{\"gridcolor\":\"white\",\"linecolor\":\"white\",\"ticks\":\"\"},\"radialaxis\":{\"gridcolor\":\"white\",\"linecolor\":\"white\",\"ticks\":\"\"}},\"ternary\":{\"bgcolor\":\"#E5ECF6\",\"aaxis\":{\"gridcolor\":\"white\",\"linecolor\":\"white\",\"ticks\":\"\"},\"baxis\":{\"gridcolor\":\"white\",\"linecolor\":\"white\",\"ticks\":\"\"},\"caxis\":{\"gridcolor\":\"white\",\"linecolor\":\"white\",\"ticks\":\"\"}},\"coloraxis\":{\"colorbar\":{\"outlinewidth\":0,\"ticks\":\"\"}},\"colorscale\":{\"sequential\":[[0.0,\"#0d0887\"],[0.1111111111111111,\"#46039f\"],[0.2222222222222222,\"#7201a8\"],[0.3333333333333333,\"#9c179e\"],[0.4444444444444444,\"#bd3786\"],[0.5555555555555556,\"#d8576b\"],[0.6666666666666666,\"#ed7953\"],[0.7777777777777778,\"#fb9f3a\"],[0.8888888888888888,\"#fdca26\"],[1.0,\"#f0f921\"]],\"sequentialminus\":[[0.0,\"#0d0887\"],[0.1111111111111111,\"#46039f\"],[0.2222222222222222,\"#7201a8\"],[0.3333333333333333,\"#9c179e\"],[0.4444444444444444,\"#bd3786\"],[0.5555555555555556,\"#d8576b\"],[0.6666666666666666,\"#ed7953\"],[0.7777777777777778,\"#fb9f3a\"],[0.8888888888888888,\"#fdca26\"],[1.0,\"#f0f921\"]],\"diverging\":[[0,\"#8e0152\"],[0.1,\"#c51b7d\"],[0.2,\"#de77ae\"],[0.3,\"#f1b6da\"],[0.4,\"#fde0ef\"],[0.5,\"#f7f7f7\"],[0.6,\"#e6f5d0\"],[0.7,\"#b8e186\"],[0.8,\"#7fbc41\"],[0.9,\"#4d9221\"],[1,\"#276419\"]]},\"xaxis\":{\"gridcolor\":\"white\",\"linecolor\":\"white\",\"ticks\":\"\",\"title\":{\"standoff\":15},\"zerolinecolor\":\"white\",\"automargin\":true,\"zerolinewidth\":2},\"yaxis\":{\"gridcolor\":\"white\",\"linecolor\":\"white\",\"ticks\":\"\",\"title\":{\"standoff\":15},\"zerolinecolor\":\"white\",\"automargin\":true,\"zerolinewidth\":2},\"scene\":{\"xaxis\":{\"backgroundcolor\":\"#E5ECF6\",\"gridcolor\":\"white\",\"linecolor\":\"white\",\"showbackground\":true,\"ticks\":\"\",\"zerolinecolor\":\"white\",\"gridwidth\":2},\"yaxis\":{\"backgroundcolor\":\"#E5ECF6\",\"gridcolor\":\"white\",\"linecolor\":\"white\",\"showbackground\":true,\"ticks\":\"\",\"zerolinecolor\":\"white\",\"gridwidth\":2},\"zaxis\":{\"backgroundcolor\":\"#E5ECF6\",\"gridcolor\":\"white\",\"linecolor\":\"white\",\"showbackground\":true,\"ticks\":\"\",\"zerolinecolor\":\"white\",\"gridwidth\":2}},\"shapedefaults\":{\"line\":{\"color\":\"#2a3f5f\"}},\"annotationdefaults\":{\"arrowcolor\":\"#2a3f5f\",\"arrowhead\":0,\"arrowwidth\":1},\"geo\":{\"bgcolor\":\"white\",\"landcolor\":\"#E5ECF6\",\"subunitcolor\":\"white\",\"showland\":true,\"showlakes\":true,\"lakecolor\":\"white\"},\"title\":{\"x\":0.05},\"mapbox\":{\"style\":\"light\"}}},\"xaxis\":{\"anchor\":\"y\",\"domain\":[0.0,1.0],\"title\":{\"text\":\"Month\"}},\"yaxis\":{\"anchor\":\"x\",\"domain\":[0.0,1.0],\"title\":{\"text\":\"sum of Retweets\"}},\"legend\":{\"tracegroupgap\":0},\"title\":{\"text\":\"Retweets by Month\"},\"barmode\":\"relative\"},                        {\"responsive\": true}                    ).then(function(){\n",
              "                            \n",
              "var gd = document.getElementById('34260ecf-4249-4efe-9846-3db908979484');\n",
              "var x = new MutationObserver(function (mutations, observer) {{\n",
              "        var display = window.getComputedStyle(gd).display;\n",
              "        if (!display || display === 'none') {{\n",
              "            console.log([gd, 'removed!']);\n",
              "            Plotly.purge(gd);\n",
              "            observer.disconnect();\n",
              "        }}\n",
              "}});\n",
              "\n",
              "// Listen for the removal of the full notebook cells\n",
              "var notebookContainer = gd.closest('#notebook-container');\n",
              "if (notebookContainer) {{\n",
              "    x.observe(notebookContainer, {childList: true});\n",
              "}}\n",
              "\n",
              "// Listen for the clearing of the current output cell\n",
              "var outputEl = gd.closest('.output');\n",
              "if (outputEl) {{\n",
              "    x.observe(outputEl, {childList: true});\n",
              "}}\n",
              "\n",
              "                        })                };                            </script>        </div>\n",
              "</body>\n",
              "</html>"
            ]
          },
          "metadata": {}
        }
      ]
    },
    {
      "cell_type": "code",
      "source": [
        "#Create new feature Hour\n",
        "data['Hour'] = pd.DatetimeIndex(data1['Date']).hour\n"
      ],
      "metadata": {
        "id": "dtMY3uJHJpWv"
      },
      "execution_count": null,
      "outputs": []
    },
    {
      "cell_type": "code",
      "source": [
        "sns.catplot(data= data, x=\"Hour\", y=\"Likes\", kind=\"bar\")"
      ],
      "metadata": {
        "colab": {
          "base_uri": "https://localhost:8080/",
          "height": 518
        },
        "id": "3gXnjzuJRMdz",
        "outputId": "cc7b50cb-638a-40d5-8afa-648cbf37722f"
      },
      "execution_count": null,
      "outputs": [
        {
          "output_type": "execute_result",
          "data": {
            "text/plain": [
              "<seaborn.axisgrid.FacetGrid at 0x7ff3a11f8a30>"
            ]
          },
          "metadata": {},
          "execution_count": 216
        },
        {
          "output_type": "display_data",
          "data": {
            "text/plain": [
              "<Figure size 500x500 with 1 Axes>"
            ],
            "image/png": "[encoded data removed]"
          },
          "metadata": {}
        }
      ]
    },
    {
      "cell_type": "code",
      "source": [
        "#create new feature Time\n",
        "data[\"Time\"] = time_of_day"
      ],
      "metadata": {
        "id": "2_teGK5BbWPh"
      },
      "execution_count": null,
      "outputs": []
    },
    {
      "cell_type": "code",
      "source": [
        "data.Time.value_counts().plot.barh()"
      ],
      "metadata": {
        "colab": {
          "base_uri": "https://localhost:8080/",
          "height": 451
        },
        "id": "cwoakHW_Kpms",
        "outputId": "5fdf98ea-3725-4f5b-97da-4e17606dec0d"
      },
      "execution_count": null,
      "outputs": [
        {
          "output_type": "execute_result",
          "data": {
            "text/plain": [
              "<Axes: >"
            ]
          },
          "metadata": {},
          "execution_count": 218
        },
        {
          "output_type": "display_data",
          "data": {
            "text/plain": [
              "<Figure size 640x480 with 1 Axes>"
            ],
            "image/png": "[encoded data removed]"
          },
          "metadata": {}
        }
      ]
    },
    {
      "cell_type": "code",
      "source": [
        "sns.catplot(data= data, x=\"Time\", y=\"Retweets\", kind=\"bar\")"
      ],
      "metadata": {
        "colab": {
          "base_uri": "https://localhost:8080/",
          "height": 518
        },
        "id": "eVjUoaYFbaI5",
        "outputId": "5d63a589-de24-41dd-f403-9e44e68d1bd0"
      },
      "execution_count": null,
      "outputs": [
        {
          "output_type": "execute_result",
          "data": {
            "text/plain": [
              "<seaborn.axisgrid.FacetGrid at 0x7ff3a17e4c10>"
            ]
          },
          "metadata": {},
          "execution_count": 219
        },
        {
          "output_type": "display_data",
          "data": {
            "text/plain": [
              "<Figure size 500x500 with 1 Axes>"
            ],
            "image/png": "[encoded data removed]"
          },
          "metadata": {}
        }
      ]
    },
    {
      "cell_type": "code",
      "source": [
        "sns.catplot(data= data, x=\"Time\", y=\"Likes\", kind=\"bar\")"
      ],
      "metadata": {
        "colab": {
          "base_uri": "https://localhost:8080/",
          "height": 518
        },
        "id": "uDMxzU7VbdpK",
        "outputId": "be6e3032-518a-4e2b-df14-6ad4e943eea8"
      },
      "execution_count": null,
      "outputs": [
        {
          "output_type": "execute_result",
          "data": {
            "text/plain": [
              "<seaborn.axisgrid.FacetGrid at 0x7ff3a1298fa0>"
            ]
          },
          "metadata": {},
          "execution_count": 220
        },
        {
          "output_type": "display_data",
          "data": {
            "text/plain": [
              "<Figure size 500x500 with 1 Axes>"
            ],
            "image/png": "[encoded data removed]"
          },
          "metadata": {}
        }
      ]
    },
    {
      "cell_type": "code",
      "source": [
        "#create new feature tweet length\n",
        "data['TweetLength'] = data['Tweets'].apply(len)"
      ],
      "metadata": {
        "id": "uuhJrWl7Vvjh"
      },
      "execution_count": null,
      "outputs": []
    },
    {
      "cell_type": "markdown",
      "source": [
        "# **TASK 3 EXPLORATORY DATA MINING**"
      ],
      "metadata": {
        "id": "WRtWmbQ3dx3y"
      }
    },
    {
      "cell_type": "markdown",
      "source": [
        "### **WORD CLOUD**"
      ],
      "metadata": {
        "id": "g4cpcRbicZc-"
      }
    },
    {
      "cell_type": "code",
      "source": [
        "#Generate a Word Cloud\n",
        "wordcloud = WordCloud(width=600,\n",
        "                     height=400,\n",
        "                     random_state=2,\n",
        "                     max_font_size=100).generate(' '.join(data[\"Tweets\"]))\n",
        "\n",
        "plt.figure(figsize=(10, 7))\n",
        "plt.imshow(wordcloud, interpolation='bilinear')\n",
        "plt.axis('off');"
      ],
      "metadata": {
        "colab": {
          "base_uri": "https://localhost:8080/",
          "height": 553
        },
        "id": "qStz9G7XeGHx",
        "outputId": "b95f9bbe-3bbc-46ed-99f1-9ad901b79e8b"
      },
      "execution_count": null,
      "outputs": [
        {
          "output_type": "display_data",
          "data": {
            "text/plain": [
              "<Figure size 1000x700 with 1 Axes>"
            ],
            "image/png": "[encoded data removed]"
          },
          "metadata": {}
        }
      ]
    },
    {
      "cell_type": "markdown",
      "source": [
        "### **SENTIMENT ANALYSIS**"
      ],
      "metadata": {
        "id": "g21a_zcwcNRS"
      }
    },
    {
      "cell_type": "code",
      "source": [
        "from nltk.sentiment import SentimentIntensityAnalyzer\n",
        "nltk.download('vader_lexicon')\n"
      ],
      "metadata": {
        "colab": {
          "base_uri": "https://localhost:8080/"
        },
        "id": "2I8GOQgFcfr3",
        "outputId": "637b0243-1ac4-46cd-c3ee-1af443ae901e"
      },
      "execution_count": null,
      "outputs": [
        {
          "output_type": "stream",
          "name": "stderr",
          "text": [
            "[nltk_data] Downloading package vader_lexicon to /root/nltk_data...\n",
            "[nltk_data]   Package vader_lexicon is already up-to-date!\n"
          ]
        },
        {
          "output_type": "execute_result",
          "data": {
            "text/plain": [
              "True"
            ]
          },
          "metadata": {},
          "execution_count": 223
        }
      ]
    },
    {
      "cell_type": "code",
      "source": [
        "analyzer= SentimentIntensityAnalyzer()"
      ],
      "metadata": {
        "id": "gJqD1PvEdKNq"
      },
      "execution_count": null,
      "outputs": []
    },
    {
      "cell_type": "code",
      "source": [
        "(data['TweetScore'])= data['Tweets'].apply(analyzer.polarity_scores)\n",
        "data.head()"
      ],
      "metadata": {
        "colab": {
          "base_uri": "https://localhost:8080/",
          "height": 531
        },
        "id": "J9WgpVQ_jWw3",
        "outputId": "e5f07664-d8f6-4b7f-9ae6-981ac6c8ce08"
      },
      "execution_count": null,
      "outputs": [
        {
          "output_type": "execute_result",
          "data": {
            "text/plain": [
              "                                             Tweets  Retweets   Likes  \\\n",
              "0                                          🤣 thanks       209    7021   \n",
              "1                                        absolutely       755   26737   \n",
              "2  dear twitter advertisers https://t.co/gmwhminpas     55927  356623   \n",
              "3                                                 👻       802   19353   \n",
              "4            meeting lot cool people twitter today!      9366  195546   \n",
              "\n",
              "                 Date  num_urls  contains_image  \\\n",
              "0 2022-10-27 16:17:00         0           False   \n",
              "1 2022-10-27 13:19:00         0           False   \n",
              "2 2022-10-27 13:08:00         0           False   \n",
              "3 2022-10-27 02:32:00         0           False   \n",
              "4 2022-10-26 21:39:00         0           False   \n",
              "\n",
              "                                        Tweets_Token  Month  Hour       Time  \\\n",
              "0                                           [thanks]     10    16  Afternoon   \n",
              "1                                       [absolutely]     10    13  Afternoon   \n",
              "2  [dear, twitter, advertisers, https, t, co, gmw...     10    13  Afternoon   \n",
              "3                                                 []     10     2    Morning   \n",
              "4       [meeting, lot, cool, people, twitter, today]     10    21    Evening   \n",
              "\n",
              "   TweetLength                                         TweetScore  \n",
              "0            9  {'neg': 0.0, 'neu': 0.0, 'pos': 1.0, 'compound...  \n",
              "1           11  {'neg': 0.0, 'neu': 1.0, 'pos': 0.0, 'compound...  \n",
              "2           48  {'neg': 0.0, 'neu': 0.536, 'pos': 0.464, 'comp...  \n",
              "3            2  {'neg': 0.0, 'neu': 0.0, 'pos': 0.0, 'compound...  \n",
              "4           38  {'neg': 0.0, 'neu': 0.659, 'pos': 0.341, 'comp...  "
            ],
            "text/html": [
              "\n",
              "  <div id=\"df-f71d6df2-3132-4ae5-bf31-9e16e9eacdc7\">\n",
              "    <div class=\"colab-df-container\">\n",
              "      <div>\n",
              "<style scoped>\n",
              "    .dataframe tbody tr th:only-of-type {\n",
              "        vertical-align: middle;\n",
              "    }\n",
              "\n",
              "    .dataframe tbody tr th {\n",
              "        vertical-align: top;\n",
              "    }\n",
              "\n",
              "    .dataframe thead th {\n",
              "        text-align: right;\n",
              "    }\n",
              "</style>\n",
              "<table border=\"1\" class=\"dataframe\">\n",
              "  <thead>\n",
              "    <tr style=\"text-align: right;\">\n",
              "      <th></th>\n",
              "      <th>Tweets</th>\n",
              "      <th>Retweets</th>\n",
              "      <th>Likes</th>\n",
              "      <th>Date</th>\n",
              "      <th>num_urls</th>\n",
              "      <th>contains_image</th>\n",
              "      <th>Tweets_Token</th>\n",
              "      <th>Month</th>\n",
              "      <th>Hour</th>\n",
              "      <th>Time</th>\n",
              "      <th>TweetLength</th>\n",
              "      <th>TweetScore</th>\n",
              "    </tr>\n",
              "  </thead>\n",
              "  <tbody>\n",
              "    <tr>\n",
              "      <th>0</th>\n",
              "      <td>🤣 thanks</td>\n",
              "      <td>209</td>\n",
              "      <td>7021</td>\n",
              "      <td>2022-10-27 16:17:00</td>\n",
              "      <td>0</td>\n",
              "      <td>False</td>\n",
              "      <td>[thanks]</td>\n",
              "      <td>10</td>\n",
              "      <td>16</td>\n",
              "      <td>Afternoon</td>\n",
              "      <td>9</td>\n",
              "      <td>{'neg': 0.0, 'neu': 0.0, 'pos': 1.0, 'compound...</td>\n",
              "    </tr>\n",
              "    <tr>\n",
              "      <th>1</th>\n",
              "      <td>absolutely</td>\n",
              "      <td>755</td>\n",
              "      <td>26737</td>\n",
              "      <td>2022-10-27 13:19:00</td>\n",
              "      <td>0</td>\n",
              "      <td>False</td>\n",
              "      <td>[absolutely]</td>\n",
              "      <td>10</td>\n",
              "      <td>13</td>\n",
              "      <td>Afternoon</td>\n",
              "      <td>11</td>\n",
              "      <td>{'neg': 0.0, 'neu': 1.0, 'pos': 0.0, 'compound...</td>\n",
              "    </tr>\n",
              "    <tr>\n",
              "      <th>2</th>\n",
              "      <td>dear twitter advertisers https://t.co/gmwhminpas</td>\n",
              "      <td>55927</td>\n",
              "      <td>356623</td>\n",
              "      <td>2022-10-27 13:08:00</td>\n",
              "      <td>0</td>\n",
              "      <td>False</td>\n",
              "      <td>[dear, twitter, advertisers, https, t, co, gmw...</td>\n",
              "      <td>10</td>\n",
              "      <td>13</td>\n",
              "      <td>Afternoon</td>\n",
              "      <td>48</td>\n",
              "      <td>{'neg': 0.0, 'neu': 0.536, 'pos': 0.464, 'comp...</td>\n",
              "    </tr>\n",
              "    <tr>\n",
              "      <th>3</th>\n",
              "      <td>👻</td>\n",
              "      <td>802</td>\n",
              "      <td>19353</td>\n",
              "      <td>2022-10-27 02:32:00</td>\n",
              "      <td>0</td>\n",
              "      <td>False</td>\n",
              "      <td>[]</td>\n",
              "      <td>10</td>\n",
              "      <td>2</td>\n",
              "      <td>Morning</td>\n",
              "      <td>2</td>\n",
              "      <td>{'neg': 0.0, 'neu': 0.0, 'pos': 0.0, 'compound...</td>\n",
              "    </tr>\n",
              "    <tr>\n",
              "      <th>4</th>\n",
              "      <td>meeting lot cool people twitter today!</td>\n",
              "      <td>9366</td>\n",
              "      <td>195546</td>\n",
              "      <td>2022-10-26 21:39:00</td>\n",
              "      <td>0</td>\n",
              "      <td>False</td>\n",
              "      <td>[meeting, lot, cool, people, twitter, today]</td>\n",
              "      <td>10</td>\n",
              "      <td>21</td>\n",
              "      <td>Evening</td>\n",
              "      <td>38</td>\n",
              "      <td>{'neg': 0.0, 'neu': 0.659, 'pos': 0.341, 'comp...</td>\n",
              "    </tr>\n",
              "  </tbody>\n",
              "</table>\n",
              "</div>\n",
              "      <button class=\"colab-df-convert\" onclick=\"convertToInteractive('df-f71d6df2-3132-4ae5-bf31-9e16e9eacdc7')\"\n",
              "              title=\"Convert this dataframe to an interactive table.\"\n",
              "              style=\"display:none;\">\n",
              "        \n",
              "  <svg xmlns=\"http://www.w3.org/2000/svg\" height=\"24px\"viewBox=\"0 0 24 24\"\n",
              "       width=\"24px\">\n",
              "    <path d=\"M0 0h24v24H0V0z\" fill=\"none\"/>\n",
              "    <path d=\"M18.56 5.44l.94 2.06.94-2.06 2.06-.94-2.06-.94-.94-2.06-.94 2.06-2.06.94zm-11 1L8.5 8.5l.94-2.06 2.06-.94-2.06-.94L8.5 2.5l-.94 2.06-2.06.94zm10 10l.94 2.06.94-2.06 2.06-.94-2.06-.94-.94-2.06-.94 2.06-2.06.94z\"/><path d=\"M17.41 7.96l-1.37-1.37c-.4-.4-.92-.59-1.43-.59-.52 0-1.04.2-1.43.59L10.3 9.45l-7.72 7.72c-.78.78-.78 2.05 0 2.83L4 21.41c.39.39.9.59 1.41.59.51 0 1.02-.2 1.41-.59l7.78-7.78 2.81-2.81c.8-.78.8-2.07 0-2.86zM5.41 20L4 18.59l7.72-7.72 1.47 1.35L5.41 20z\"/>\n",
              "  </svg>\n",
              "      </button>\n",
              "      \n",
              "  <style>\n",
              "    .colab-df-container {\n",
              "      display:flex;\n",
              "      flex-wrap:wrap;\n",
              "      gap: 12px;\n",
              "    }\n",
              "\n",
              "    .colab-df-convert {\n",
              "      background-color: #E8F0FE;\n",
              "      border: none;\n",
              "      border-radius: 50%;\n",
              "      cursor: pointer;\n",
              "      display: none;\n",
              "      fill: #1967D2;\n",
              "      height: 32px;\n",
              "      padding: 0 0 0 0;\n",
              "      width: 32px;\n",
              "    }\n",
              "\n",
              "    .colab-df-convert:hover {\n",
              "      background-color: #E2EBFA;\n",
              "      box-shadow: 0px 1px 2px rgba(60, 64, 67, 0.3), 0px 1px 3px 1px rgba(60, 64, 67, 0.15);\n",
              "      fill: #174EA6;\n",
              "    }\n",
              "\n",
              "    [theme=dark] .colab-df-convert {\n",
              "      background-color: #3B4455;\n",
              "      fill: #D2E3FC;\n",
              "    }\n",
              "\n",
              "    [theme=dark] .colab-df-convert:hover {\n",
              "      background-color: #434B5C;\n",
              "      box-shadow: 0px 1px 3px 1px rgba(0, 0, 0, 0.15);\n",
              "      filter: drop-shadow(0px 1px 2px rgba(0, 0, 0, 0.3));\n",
              "      fill: #FFFFFF;\n",
              "    }\n",
              "  </style>\n",
              "\n",
              "      <script>\n",
              "        const buttonEl =\n",
              "          document.querySelector('#df-f71d6df2-3132-4ae5-bf31-9e16e9eacdc7 button.colab-df-convert');\n",
              "        buttonEl.style.display =\n",
              "          google.colab.kernel.accessAllowed ? 'block' : 'none';\n",
              "\n",
              "        async function convertToInteractive(key) {\n",
              "          const element = document.querySelector('#df-f71d6df2-3132-4ae5-bf31-9e16e9eacdc7');\n",
              "          const dataTable =\n",
              "            await google.colab.kernel.invokeFunction('convertToInteractive',\n",
              "                                                     [key], {});\n",
              "          if (!dataTable) return;\n",
              "\n",
              "          const docLinkHtml = 'Like what you see? Visit the ' +\n",
              "            '<a target=\"_blank\" href=https://colab.research.google.com/notebooks/data_table.ipynb>data table notebook</a>'\n",
              "            + ' to learn more about interactive tables.';\n",
              "          element.innerHTML = '';\n",
              "          dataTable['output_type'] = 'display_data';\n",
              "          await google.colab.output.renderOutput(dataTable, element);\n",
              "          const docLink = document.createElement('div');\n",
              "          docLink.innerHTML = docLinkHtml;\n",
              "          element.appendChild(docLink);\n",
              "        }\n",
              "      </script>\n",
              "    </div>\n",
              "  </div>\n",
              "  "
            ]
          },
          "metadata": {},
          "execution_count": 225
        }
      ]
    },
    {
      "cell_type": "code",
      "source": [
        "data.tail()"
      ],
      "metadata": {
        "colab": {
          "base_uri": "https://localhost:8080/",
          "height": 548
        },
        "id": "tYr_SE5IjuFp",
        "outputId": "49bc6d42-b946-4dee-b396-894bbdcd74a2"
      },
      "execution_count": null,
      "outputs": [
        {
          "output_type": "execute_result",
          "data": {
            "text/plain": [
              "                                                 Tweets  Retweets   Likes  \\\n",
              "3055    just manganese alternative iron &amp; phosph...       171    3173   \n",
              "3056                                            exactly       145    4234   \n",
              "3057   your policies directly responsible outrageous...       421    6144   \n",
              "3058                                   you voted office       484    7029   \n",
              "3059                  cb radios free govt/media control     11302  113429   \n",
              "\n",
              "                    Date  num_urls  contains_image  \\\n",
              "3055 2022-01-27 22:01:00         0           False   \n",
              "3056 2022-01-27 21:23:00         0           False   \n",
              "3057 2022-01-27 21:13:00         0           False   \n",
              "3058 2022-01-27 21:12:00         0           False   \n",
              "3059 2022-01-27 21:00:00         0           False   \n",
              "\n",
              "                                           Tweets_Token  Month  Hour     Time  \\\n",
              "3055  [just, manganese, alternative, iron, amp, phos...      1    22  Evening   \n",
              "3056                                          [exactly]      1    21  Evening   \n",
              "3057  [your, policies, directly, responsible, outrag...      1    21  Evening   \n",
              "3058                               [you, voted, office]      1    21  Evening   \n",
              "3059           [cb, radios, free, govt, media, control]      1    21  Evening   \n",
              "\n",
              "      TweetLength                                         TweetScore  \n",
              "3055           94  {'neg': 0.0, 'neu': 1.0, 'pos': 0.0, 'compound...  \n",
              "3056            9  {'neg': 0.0, 'neu': 1.0, 'pos': 0.0, 'compound...  \n",
              "3057           90  {'neg': 0.176, 'neu': 0.64, 'pos': 0.184, 'com...  \n",
              "3058           17  {'neg': 0.0, 'neu': 1.0, 'pos': 0.0, 'compound...  \n",
              "3059           33  {'neg': 0.0, 'neu': 0.548, 'pos': 0.452, 'comp...  "
            ],
            "text/html": [
              "\n",
              "  <div id=\"df-521655cf-ecb5-449e-a12a-310067d11e1a\">\n",
              "    <div class=\"colab-df-container\">\n",
              "      <div>\n",
              "<style scoped>\n",
              "    .dataframe tbody tr th:only-of-type {\n",
              "        vertical-align: middle;\n",
              "    }\n",
              "\n",
              "    .dataframe tbody tr th {\n",
              "        vertical-align: top;\n",
              "    }\n",
              "\n",
              "    .dataframe thead th {\n",
              "        text-align: right;\n",
              "    }\n",
              "</style>\n",
              "<table border=\"1\" class=\"dataframe\">\n",
              "  <thead>\n",
              "    <tr style=\"text-align: right;\">\n",
              "      <th></th>\n",
              "      <th>Tweets</th>\n",
              "      <th>Retweets</th>\n",
              "      <th>Likes</th>\n",
              "      <th>Date</th>\n",
              "      <th>num_urls</th>\n",
              "      <th>contains_image</th>\n",
              "      <th>Tweets_Token</th>\n",
              "      <th>Month</th>\n",
              "      <th>Hour</th>\n",
              "      <th>Time</th>\n",
              "      <th>TweetLength</th>\n",
              "      <th>TweetScore</th>\n",
              "    </tr>\n",
              "  </thead>\n",
              "  <tbody>\n",
              "    <tr>\n",
              "      <th>3055</th>\n",
              "      <td>just manganese alternative iron &amp;amp; phosph...</td>\n",
              "      <td>171</td>\n",
              "      <td>3173</td>\n",
              "      <td>2022-01-27 22:01:00</td>\n",
              "      <td>0</td>\n",
              "      <td>False</td>\n",
              "      <td>[just, manganese, alternative, iron, amp, phos...</td>\n",
              "      <td>1</td>\n",
              "      <td>22</td>\n",
              "      <td>Evening</td>\n",
              "      <td>94</td>\n",
              "      <td>{'neg': 0.0, 'neu': 1.0, 'pos': 0.0, 'compound...</td>\n",
              "    </tr>\n",
              "    <tr>\n",
              "      <th>3056</th>\n",
              "      <td>exactly</td>\n",
              "      <td>145</td>\n",
              "      <td>4234</td>\n",
              "      <td>2022-01-27 21:23:00</td>\n",
              "      <td>0</td>\n",
              "      <td>False</td>\n",
              "      <td>[exactly]</td>\n",
              "      <td>1</td>\n",
              "      <td>21</td>\n",
              "      <td>Evening</td>\n",
              "      <td>9</td>\n",
              "      <td>{'neg': 0.0, 'neu': 1.0, 'pos': 0.0, 'compound...</td>\n",
              "    </tr>\n",
              "    <tr>\n",
              "      <th>3057</th>\n",
              "      <td>your policies directly responsible outrageous...</td>\n",
              "      <td>421</td>\n",
              "      <td>6144</td>\n",
              "      <td>2022-01-27 21:13:00</td>\n",
              "      <td>0</td>\n",
              "      <td>False</td>\n",
              "      <td>[your, policies, directly, responsible, outrag...</td>\n",
              "      <td>1</td>\n",
              "      <td>21</td>\n",
              "      <td>Evening</td>\n",
              "      <td>90</td>\n",
              "      <td>{'neg': 0.176, 'neu': 0.64, 'pos': 0.184, 'com...</td>\n",
              "    </tr>\n",
              "    <tr>\n",
              "      <th>3058</th>\n",
              "      <td>you voted office</td>\n",
              "      <td>484</td>\n",
              "      <td>7029</td>\n",
              "      <td>2022-01-27 21:12:00</td>\n",
              "      <td>0</td>\n",
              "      <td>False</td>\n",
              "      <td>[you, voted, office]</td>\n",
              "      <td>1</td>\n",
              "      <td>21</td>\n",
              "      <td>Evening</td>\n",
              "      <td>17</td>\n",
              "      <td>{'neg': 0.0, 'neu': 1.0, 'pos': 0.0, 'compound...</td>\n",
              "    </tr>\n",
              "    <tr>\n",
              "      <th>3059</th>\n",
              "      <td>cb radios free govt/media control</td>\n",
              "      <td>11302</td>\n",
              "      <td>113429</td>\n",
              "      <td>2022-01-27 21:00:00</td>\n",
              "      <td>0</td>\n",
              "      <td>False</td>\n",
              "      <td>[cb, radios, free, govt, media, control]</td>\n",
              "      <td>1</td>\n",
              "      <td>21</td>\n",
              "      <td>Evening</td>\n",
              "      <td>33</td>\n",
              "      <td>{'neg': 0.0, 'neu': 0.548, 'pos': 0.452, 'comp...</td>\n",
              "    </tr>\n",
              "  </tbody>\n",
              "</table>\n",
              "</div>\n",
              "      <button class=\"colab-df-convert\" onclick=\"convertToInteractive('df-521655cf-ecb5-449e-a12a-310067d11e1a')\"\n",
              "              title=\"Convert this dataframe to an interactive table.\"\n",
              "              style=\"display:none;\">\n",
              "        \n",
              "  <svg xmlns=\"http://www.w3.org/2000/svg\" height=\"24px\"viewBox=\"0 0 24 24\"\n",
              "       width=\"24px\">\n",
              "    <path d=\"M0 0h24v24H0V0z\" fill=\"none\"/>\n",
              "    <path d=\"M18.56 5.44l.94 2.06.94-2.06 2.06-.94-2.06-.94-.94-2.06-.94 2.06-2.06.94zm-11 1L8.5 8.5l.94-2.06 2.06-.94-2.06-.94L8.5 2.5l-.94 2.06-2.06.94zm10 10l.94 2.06.94-2.06 2.06-.94-2.06-.94-.94-2.06-.94 2.06-2.06.94z\"/><path d=\"M17.41 7.96l-1.37-1.37c-.4-.4-.92-.59-1.43-.59-.52 0-1.04.2-1.43.59L10.3 9.45l-7.72 7.72c-.78.78-.78 2.05 0 2.83L4 21.41c.39.39.9.59 1.41.59.51 0 1.02-.2 1.41-.59l7.78-7.78 2.81-2.81c.8-.78.8-2.07 0-2.86zM5.41 20L4 18.59l7.72-7.72 1.47 1.35L5.41 20z\"/>\n",
              "  </svg>\n",
              "      </button>\n",
              "      \n",
              "  <style>\n",
              "    .colab-df-container {\n",
              "      display:flex;\n",
              "      flex-wrap:wrap;\n",
              "      gap: 12px;\n",
              "    }\n",
              "\n",
              "    .colab-df-convert {\n",
              "      background-color: #E8F0FE;\n",
              "      border: none;\n",
              "      border-radius: 50%;\n",
              "      cursor: pointer;\n",
              "      display: none;\n",
              "      fill: #1967D2;\n",
              "      height: 32px;\n",
              "      padding: 0 0 0 0;\n",
              "      width: 32px;\n",
              "    }\n",
              "\n",
              "    .colab-df-convert:hover {\n",
              "      background-color: #E2EBFA;\n",
              "      box-shadow: 0px 1px 2px rgba(60, 64, 67, 0.3), 0px 1px 3px 1px rgba(60, 64, 67, 0.15);\n",
              "      fill: #174EA6;\n",
              "    }\n",
              "\n",
              "    [theme=dark] .colab-df-convert {\n",
              "      background-color: #3B4455;\n",
              "      fill: #D2E3FC;\n",
              "    }\n",
              "\n",
              "    [theme=dark] .colab-df-convert:hover {\n",
              "      background-color: #434B5C;\n",
              "      box-shadow: 0px 1px 3px 1px rgba(0, 0, 0, 0.15);\n",
              "      filter: drop-shadow(0px 1px 2px rgba(0, 0, 0, 0.3));\n",
              "      fill: #FFFFFF;\n",
              "    }\n",
              "  </style>\n",
              "\n",
              "      <script>\n",
              "        const buttonEl =\n",
              "          document.querySelector('#df-521655cf-ecb5-449e-a12a-310067d11e1a button.colab-df-convert');\n",
              "        buttonEl.style.display =\n",
              "          google.colab.kernel.accessAllowed ? 'block' : 'none';\n",
              "\n",
              "        async function convertToInteractive(key) {\n",
              "          const element = document.querySelector('#df-521655cf-ecb5-449e-a12a-310067d11e1a');\n",
              "          const dataTable =\n",
              "            await google.colab.kernel.invokeFunction('convertToInteractive',\n",
              "                                                     [key], {});\n",
              "          if (!dataTable) return;\n",
              "\n",
              "          const docLinkHtml = 'Like what you see? Visit the ' +\n",
              "            '<a target=\"_blank\" href=https://colab.research.google.com/notebooks/data_table.ipynb>data table notebook</a>'\n",
              "            + ' to learn more about interactive tables.';\n",
              "          element.innerHTML = '';\n",
              "          dataTable['output_type'] = 'display_data';\n",
              "          await google.colab.output.renderOutput(dataTable, element);\n",
              "          const docLink = document.createElement('div');\n",
              "          docLink.innerHTML = docLinkHtml;\n",
              "          element.appendChild(docLink);\n",
              "        }\n",
              "      </script>\n",
              "    </div>\n",
              "  </div>\n",
              "  "
            ]
          },
          "metadata": {},
          "execution_count": 226
        }
      ]
    },
    {
      "cell_type": "code",
      "source": [
        "def sentiment(row):\n",
        "  text = row['TweetScore']\n",
        "  polarity = \"neutral\"\n",
        "\n",
        "  if(text['compound']>= 0.05):\n",
        "    polarity = \"positive\"\n",
        "\n",
        "  elif(text['compound'] <= -0.05):\n",
        "    polarity = \"negative\"\n",
        "\n",
        "  return polarity\n",
        "\n"
      ],
      "metadata": {
        "id": "ecTP6wHy5w6G"
      },
      "execution_count": null,
      "outputs": []
    },
    {
      "cell_type": "code",
      "source": [
        "data[\"Sentiment\"] = data.apply(sentiment, axis= 1)"
      ],
      "metadata": {
        "id": "QPFzE2yj6IRX"
      },
      "execution_count": null,
      "outputs": []
    },
    {
      "cell_type": "code",
      "source": [
        "data.head()"
      ],
      "metadata": {
        "colab": {
          "base_uri": "https://localhost:8080/",
          "height": 531
        },
        "id": "yWb3b_hJ7ZWA",
        "outputId": "f2a3d5a7-6847-4dc6-d737-e4d44e02dcf3"
      },
      "execution_count": null,
      "outputs": [
        {
          "output_type": "execute_result",
          "data": {
            "text/plain": [
              "                                             Tweets  Retweets   Likes  \\\n",
              "0                                          🤣 thanks       209    7021   \n",
              "1                                        absolutely       755   26737   \n",
              "2  dear twitter advertisers https://t.co/gmwhminpas     55927  356623   \n",
              "3                                                 👻       802   19353   \n",
              "4            meeting lot cool people twitter today!      9366  195546   \n",
              "\n",
              "                 Date  num_urls  contains_image  \\\n",
              "0 2022-10-27 16:17:00         0           False   \n",
              "1 2022-10-27 13:19:00         0           False   \n",
              "2 2022-10-27 13:08:00         0           False   \n",
              "3 2022-10-27 02:32:00         0           False   \n",
              "4 2022-10-26 21:39:00         0           False   \n",
              "\n",
              "                                        Tweets_Token  Month  Hour       Time  \\\n",
              "0                                           [thanks]     10    16  Afternoon   \n",
              "1                                       [absolutely]     10    13  Afternoon   \n",
              "2  [dear, twitter, advertisers, https, t, co, gmw...     10    13  Afternoon   \n",
              "3                                                 []     10     2    Morning   \n",
              "4       [meeting, lot, cool, people, twitter, today]     10    21    Evening   \n",
              "\n",
              "   TweetLength                                         TweetScore Sentiment  \n",
              "0            9  {'neg': 0.0, 'neu': 0.0, 'pos': 1.0, 'compound...  positive  \n",
              "1           11  {'neg': 0.0, 'neu': 1.0, 'pos': 0.0, 'compound...   neutral  \n",
              "2           48  {'neg': 0.0, 'neu': 0.536, 'pos': 0.464, 'comp...  positive  \n",
              "3            2  {'neg': 0.0, 'neu': 0.0, 'pos': 0.0, 'compound...   neutral  \n",
              "4           38  {'neg': 0.0, 'neu': 0.659, 'pos': 0.341, 'comp...  positive  "
            ],
            "text/html": [
              "\n",
              "  <div id=\"df-53b0111c-f80a-49aa-a982-0a9998edf2fe\">\n",
              "    <div class=\"colab-df-container\">\n",
              "      <div>\n",
              "<style scoped>\n",
              "    .dataframe tbody tr th:only-of-type {\n",
              "        vertical-align: middle;\n",
              "    }\n",
              "\n",
              "    .dataframe tbody tr th {\n",
              "        vertical-align: top;\n",
              "    }\n",
              "\n",
              "    .dataframe thead th {\n",
              "        text-align: right;\n",
              "    }\n",
              "</style>\n",
              "<table border=\"1\" class=\"dataframe\">\n",
              "  <thead>\n",
              "    <tr style=\"text-align: right;\">\n",
              "      <th></th>\n",
              "      <th>Tweets</th>\n",
              "      <th>Retweets</th>\n",
              "      <th>Likes</th>\n",
              "      <th>Date</th>\n",
              "      <th>num_urls</th>\n",
              "      <th>contains_image</th>\n",
              "      <th>Tweets_Token</th>\n",
              "      <th>Month</th>\n",
              "      <th>Hour</th>\n",
              "      <th>Time</th>\n",
              "      <th>TweetLength</th>\n",
              "      <th>TweetScore</th>\n",
              "      <th>Sentiment</th>\n",
              "    </tr>\n",
              "  </thead>\n",
              "  <tbody>\n",
              "    <tr>\n",
              "      <th>0</th>\n",
              "      <td>🤣 thanks</td>\n",
              "      <td>209</td>\n",
              "      <td>7021</td>\n",
              "      <td>2022-10-27 16:17:00</td>\n",
              "      <td>0</td>\n",
              "      <td>False</td>\n",
              "      <td>[thanks]</td>\n",
              "      <td>10</td>\n",
              "      <td>16</td>\n",
              "      <td>Afternoon</td>\n",
              "      <td>9</td>\n",
              "      <td>{'neg': 0.0, 'neu': 0.0, 'pos': 1.0, 'compound...</td>\n",
              "      <td>positive</td>\n",
              "    </tr>\n",
              "    <tr>\n",
              "      <th>1</th>\n",
              "      <td>absolutely</td>\n",
              "      <td>755</td>\n",
              "      <td>26737</td>\n",
              "      <td>2022-10-27 13:19:00</td>\n",
              "      <td>0</td>\n",
              "      <td>False</td>\n",
              "      <td>[absolutely]</td>\n",
              "      <td>10</td>\n",
              "      <td>13</td>\n",
              "      <td>Afternoon</td>\n",
              "      <td>11</td>\n",
              "      <td>{'neg': 0.0, 'neu': 1.0, 'pos': 0.0, 'compound...</td>\n",
              "      <td>neutral</td>\n",
              "    </tr>\n",
              "    <tr>\n",
              "      <th>2</th>\n",
              "      <td>dear twitter advertisers https://t.co/gmwhminpas</td>\n",
              "      <td>55927</td>\n",
              "      <td>356623</td>\n",
              "      <td>2022-10-27 13:08:00</td>\n",
              "      <td>0</td>\n",
              "      <td>False</td>\n",
              "      <td>[dear, twitter, advertisers, https, t, co, gmw...</td>\n",
              "      <td>10</td>\n",
              "      <td>13</td>\n",
              "      <td>Afternoon</td>\n",
              "      <td>48</td>\n",
              "      <td>{'neg': 0.0, 'neu': 0.536, 'pos': 0.464, 'comp...</td>\n",
              "      <td>positive</td>\n",
              "    </tr>\n",
              "    <tr>\n",
              "      <th>3</th>\n",
              "      <td>👻</td>\n",
              "      <td>802</td>\n",
              "      <td>19353</td>\n",
              "      <td>2022-10-27 02:32:00</td>\n",
              "      <td>0</td>\n",
              "      <td>False</td>\n",
              "      <td>[]</td>\n",
              "      <td>10</td>\n",
              "      <td>2</td>\n",
              "      <td>Morning</td>\n",
              "      <td>2</td>\n",
              "      <td>{'neg': 0.0, 'neu': 0.0, 'pos': 0.0, 'compound...</td>\n",
              "      <td>neutral</td>\n",
              "    </tr>\n",
              "    <tr>\n",
              "      <th>4</th>\n",
              "      <td>meeting lot cool people twitter today!</td>\n",
              "      <td>9366</td>\n",
              "      <td>195546</td>\n",
              "      <td>2022-10-26 21:39:00</td>\n",
              "      <td>0</td>\n",
              "      <td>False</td>\n",
              "      <td>[meeting, lot, cool, people, twitter, today]</td>\n",
              "      <td>10</td>\n",
              "      <td>21</td>\n",
              "      <td>Evening</td>\n",
              "      <td>38</td>\n",
              "      <td>{'neg': 0.0, 'neu': 0.659, 'pos': 0.341, 'comp...</td>\n",
              "      <td>positive</td>\n",
              "    </tr>\n",
              "  </tbody>\n",
              "</table>\n",
              "</div>\n",
              "      <button class=\"colab-df-convert\" onclick=\"convertToInteractive('df-53b0111c-f80a-49aa-a982-0a9998edf2fe')\"\n",
              "              title=\"Convert this dataframe to an interactive table.\"\n",
              "              style=\"display:none;\">\n",
              "        \n",
              "  <svg xmlns=\"http://www.w3.org/2000/svg\" height=\"24px\"viewBox=\"0 0 24 24\"\n",
              "       width=\"24px\">\n",
              "    <path d=\"M0 0h24v24H0V0z\" fill=\"none\"/>\n",
              "    <path d=\"M18.56 5.44l.94 2.06.94-2.06 2.06-.94-2.06-.94-.94-2.06-.94 2.06-2.06.94zm-11 1L8.5 8.5l.94-2.06 2.06-.94-2.06-.94L8.5 2.5l-.94 2.06-2.06.94zm10 10l.94 2.06.94-2.06 2.06-.94-2.06-.94-.94-2.06-.94 2.06-2.06.94z\"/><path d=\"M17.41 7.96l-1.37-1.37c-.4-.4-.92-.59-1.43-.59-.52 0-1.04.2-1.43.59L10.3 9.45l-7.72 7.72c-.78.78-.78 2.05 0 2.83L4 21.41c.39.39.9.59 1.41.59.51 0 1.02-.2 1.41-.59l7.78-7.78 2.81-2.81c.8-.78.8-2.07 0-2.86zM5.41 20L4 18.59l7.72-7.72 1.47 1.35L5.41 20z\"/>\n",
              "  </svg>\n",
              "      </button>\n",
              "      \n",
              "  <style>\n",
              "    .colab-df-container {\n",
              "      display:flex;\n",
              "      flex-wrap:wrap;\n",
              "      gap: 12px;\n",
              "    }\n",
              "\n",
              "    .colab-df-convert {\n",
              "      background-color: #E8F0FE;\n",
              "      border: none;\n",
              "      border-radius: 50%;\n",
              "      cursor: pointer;\n",
              "      display: none;\n",
              "      fill: #1967D2;\n",
              "      height: 32px;\n",
              "      padding: 0 0 0 0;\n",
              "      width: 32px;\n",
              "    }\n",
              "\n",
              "    .colab-df-convert:hover {\n",
              "      background-color: #E2EBFA;\n",
              "      box-shadow: 0px 1px 2px rgba(60, 64, 67, 0.3), 0px 1px 3px 1px rgba(60, 64, 67, 0.15);\n",
              "      fill: #174EA6;\n",
              "    }\n",
              "\n",
              "    [theme=dark] .colab-df-convert {\n",
              "      background-color: #3B4455;\n",
              "      fill: #D2E3FC;\n",
              "    }\n",
              "\n",
              "    [theme=dark] .colab-df-convert:hover {\n",
              "      background-color: #434B5C;\n",
              "      box-shadow: 0px 1px 3px 1px rgba(0, 0, 0, 0.15);\n",
              "      filter: drop-shadow(0px 1px 2px rgba(0, 0, 0, 0.3));\n",
              "      fill: #FFFFFF;\n",
              "    }\n",
              "  </style>\n",
              "\n",
              "      <script>\n",
              "        const buttonEl =\n",
              "          document.querySelector('#df-53b0111c-f80a-49aa-a982-0a9998edf2fe button.colab-df-convert');\n",
              "        buttonEl.style.display =\n",
              "          google.colab.kernel.accessAllowed ? 'block' : 'none';\n",
              "\n",
              "        async function convertToInteractive(key) {\n",
              "          const element = document.querySelector('#df-53b0111c-f80a-49aa-a982-0a9998edf2fe');\n",
              "          const dataTable =\n",
              "            await google.colab.kernel.invokeFunction('convertToInteractive',\n",
              "                                                     [key], {});\n",
              "          if (!dataTable) return;\n",
              "\n",
              "          const docLinkHtml = 'Like what you see? Visit the ' +\n",
              "            '<a target=\"_blank\" href=https://colab.research.google.com/notebooks/data_table.ipynb>data table notebook</a>'\n",
              "            + ' to learn more about interactive tables.';\n",
              "          element.innerHTML = '';\n",
              "          dataTable['output_type'] = 'display_data';\n",
              "          await google.colab.output.renderOutput(dataTable, element);\n",
              "          const docLink = document.createElement('div');\n",
              "          docLink.innerHTML = docLinkHtml;\n",
              "          element.appendChild(docLink);\n",
              "        }\n",
              "      </script>\n",
              "    </div>\n",
              "  </div>\n",
              "  "
            ]
          },
          "metadata": {},
          "execution_count": 229
        }
      ]
    },
    {
      "cell_type": "code",
      "source": [
        "data[\"Sentiment\"].value_counts()"
      ],
      "metadata": {
        "colab": {
          "base_uri": "https://localhost:8080/"
        },
        "id": "msrOKYBz77VL",
        "outputId": "9734cae5-a105-4d33-8077-7dd2c4968cc1"
      },
      "execution_count": null,
      "outputs": [
        {
          "output_type": "execute_result",
          "data": {
            "text/plain": [
              "neutral     1449\n",
              "positive    1172\n",
              "negative     439\n",
              "Name: Sentiment, dtype: int64"
            ]
          },
          "metadata": {},
          "execution_count": 230
        }
      ]
    },
    {
      "cell_type": "code",
      "source": [
        "data.Sentiment.value_counts().plot.barh()"
      ],
      "metadata": {
        "colab": {
          "base_uri": "https://localhost:8080/",
          "height": 451
        },
        "id": "naIshOpK8fmG",
        "outputId": "55a05831-6d54-4487-e41d-7b14b23d2229"
      },
      "execution_count": null,
      "outputs": [
        {
          "output_type": "execute_result",
          "data": {
            "text/plain": [
              "<Axes: >"
            ]
          },
          "metadata": {},
          "execution_count": 231
        },
        {
          "output_type": "display_data",
          "data": {
            "text/plain": [
              "<Figure size 640x480 with 1 Axes>"
            ],
            "image/png": "[encoded data removed]"
          },
          "metadata": {}
        }
      ]
    },
    {
      "cell_type": "code",
      "source": [
        "toplikes= data[(data['Likes'] >= 2500000)]\n",
        "toplikes.head(10)"
      ],
      "metadata": {
        "colab": {
          "base_uri": "https://localhost:8080/",
          "height": 531
        },
        "id": "suHtaJep-DLd",
        "outputId": "837cc14c-963b-4b30-834b-b2e7eb1fda73"
      },
      "execution_count": null,
      "outputs": [
        {
          "output_type": "execute_result",
          "data": {
            "text/plain": [
              "                                                 Tweets  Retweets    Likes  \\\n",
              "2215  listen, can’t miracles ok https://t.co/z7dvlmuxy8    212854  2581112   \n",
              "2216                    let’s make twitter maximum fun!    194742  2650644   \n",
              "2219         next i’m buying coca-cola put cocaine back    681707  4780787   \n",
              "2243         🚀💫♥️ yesss!!! ♥️💫🚀 https://t.co/0t9hzuhuh6    348158  2608578   \n",
              "2244  hope even worst critics remain twitter, free s...    368279  3232772   \n",
              "\n",
              "                    Date  num_urls  contains_image  \\\n",
              "2215 2022-04-28 01:57:00         0           False   \n",
              "2216 2022-04-28 01:53:00         0           False   \n",
              "2219 2022-04-28 00:56:00         0           False   \n",
              "2243 2022-04-25 19:43:00         0           False   \n",
              "2244 2022-04-25 16:12:00         0           False   \n",
              "\n",
              "                                           Tweets_Token  Month  Hour  \\\n",
              "2215  [listen, can, t, miracles, ok, https, t, co, z...      4     1   \n",
              "2216              [let, s, make, twitter, maximum, fun]      4     1   \n",
              "2219  [next, i, m, buying, coca, cola, put, cocaine,...      4     0   \n",
              "2243                  [yesss, https, t, co, 0t9hzuhuh6]      4    19   \n",
              "2244  [hope, even, worst, critics, remain, twitter, ...      4    16   \n",
              "\n",
              "           Time  TweetLength  \\\n",
              "2215    Morning           49   \n",
              "2216    Morning           31   \n",
              "2219        NaN           42   \n",
              "2243    Evening           42   \n",
              "2244  Afternoon           57   \n",
              "\n",
              "                                             TweetScore Sentiment  \n",
              "2215  {'neg': 0.0, 'neu': 0.645, 'pos': 0.355, 'comp...  positive  \n",
              "2216  {'neg': 0.0, 'neu': 0.527, 'pos': 0.473, 'comp...  positive  \n",
              "2219  {'neg': 0.0, 'neu': 1.0, 'pos': 0.0, 'compound...   neutral  \n",
              "2243  {'neg': 0.0, 'neu': 1.0, 'pos': 0.0, 'compound...   neutral  \n",
              "2244  {'neg': 0.36, 'neu': 0.286, 'pos': 0.354, 'com...   neutral  "
            ],
            "text/html": [
              "\n",
              "  <div id=\"df-d7fd82ff-5a64-449a-99f6-ecf492adf44f\">\n",
              "    <div class=\"colab-df-container\">\n",
              "      <div>\n",
              "<style scoped>\n",
              "    .dataframe tbody tr th:only-of-type {\n",
              "        vertical-align: middle;\n",
              "    }\n",
              "\n",
              "    .dataframe tbody tr th {\n",
              "        vertical-align: top;\n",
              "    }\n",
              "\n",
              "    .dataframe thead th {\n",
              "        text-align: right;\n",
              "    }\n",
              "</style>\n",
              "<table border=\"1\" class=\"dataframe\">\n",
              "  <thead>\n",
              "    <tr style=\"text-align: right;\">\n",
              "      <th></th>\n",
              "      <th>Tweets</th>\n",
              "      <th>Retweets</th>\n",
              "      <th>Likes</th>\n",
              "      <th>Date</th>\n",
              "      <th>num_urls</th>\n",
              "      <th>contains_image</th>\n",
              "      <th>Tweets_Token</th>\n",
              "      <th>Month</th>\n",
              "      <th>Hour</th>\n",
              "      <th>Time</th>\n",
              "      <th>TweetLength</th>\n",
              "      <th>TweetScore</th>\n",
              "      <th>Sentiment</th>\n",
              "    </tr>\n",
              "  </thead>\n",
              "  <tbody>\n",
              "    <tr>\n",
              "      <th>2215</th>\n",
              "      <td>listen, can’t miracles ok https://t.co/z7dvlmuxy8</td>\n",
              "      <td>212854</td>\n",
              "      <td>2581112</td>\n",
              "      <td>2022-04-28 01:57:00</td>\n",
              "      <td>0</td>\n",
              "      <td>False</td>\n",
              "      <td>[listen, can, t, miracles, ok, https, t, co, z...</td>\n",
              "      <td>4</td>\n",
              "      <td>1</td>\n",
              "      <td>Morning</td>\n",
              "      <td>49</td>\n",
              "      <td>{'neg': 0.0, 'neu': 0.645, 'pos': 0.355, 'comp...</td>\n",
              "      <td>positive</td>\n",
              "    </tr>\n",
              "    <tr>\n",
              "      <th>2216</th>\n",
              "      <td>let’s make twitter maximum fun!</td>\n",
              "      <td>194742</td>\n",
              "      <td>2650644</td>\n",
              "      <td>2022-04-28 01:53:00</td>\n",
              "      <td>0</td>\n",
              "      <td>False</td>\n",
              "      <td>[let, s, make, twitter, maximum, fun]</td>\n",
              "      <td>4</td>\n",
              "      <td>1</td>\n",
              "      <td>Morning</td>\n",
              "      <td>31</td>\n",
              "      <td>{'neg': 0.0, 'neu': 0.527, 'pos': 0.473, 'comp...</td>\n",
              "      <td>positive</td>\n",
              "    </tr>\n",
              "    <tr>\n",
              "      <th>2219</th>\n",
              "      <td>next i’m buying coca-cola put cocaine back</td>\n",
              "      <td>681707</td>\n",
              "      <td>4780787</td>\n",
              "      <td>2022-04-28 00:56:00</td>\n",
              "      <td>0</td>\n",
              "      <td>False</td>\n",
              "      <td>[next, i, m, buying, coca, cola, put, cocaine,...</td>\n",
              "      <td>4</td>\n",
              "      <td>0</td>\n",
              "      <td>NaN</td>\n",
              "      <td>42</td>\n",
              "      <td>{'neg': 0.0, 'neu': 1.0, 'pos': 0.0, 'compound...</td>\n",
              "      <td>neutral</td>\n",
              "    </tr>\n",
              "    <tr>\n",
              "      <th>2243</th>\n",
              "      <td>🚀💫♥️ yesss!!! ♥️💫🚀 https://t.co/0t9hzuhuh6</td>\n",
              "      <td>348158</td>\n",
              "      <td>2608578</td>\n",
              "      <td>2022-04-25 19:43:00</td>\n",
              "      <td>0</td>\n",
              "      <td>False</td>\n",
              "      <td>[yesss, https, t, co, 0t9hzuhuh6]</td>\n",
              "      <td>4</td>\n",
              "      <td>19</td>\n",
              "      <td>Evening</td>\n",
              "      <td>42</td>\n",
              "      <td>{'neg': 0.0, 'neu': 1.0, 'pos': 0.0, 'compound...</td>\n",
              "      <td>neutral</td>\n",
              "    </tr>\n",
              "    <tr>\n",
              "      <th>2244</th>\n",
              "      <td>hope even worst critics remain twitter, free s...</td>\n",
              "      <td>368279</td>\n",
              "      <td>3232772</td>\n",
              "      <td>2022-04-25 16:12:00</td>\n",
              "      <td>0</td>\n",
              "      <td>False</td>\n",
              "      <td>[hope, even, worst, critics, remain, twitter, ...</td>\n",
              "      <td>4</td>\n",
              "      <td>16</td>\n",
              "      <td>Afternoon</td>\n",
              "      <td>57</td>\n",
              "      <td>{'neg': 0.36, 'neu': 0.286, 'pos': 0.354, 'com...</td>\n",
              "      <td>neutral</td>\n",
              "    </tr>\n",
              "  </tbody>\n",
              "</table>\n",
              "</div>\n",
              "      <button class=\"colab-df-convert\" onclick=\"convertToInteractive('df-d7fd82ff-5a64-449a-99f6-ecf492adf44f')\"\n",
              "              title=\"Convert this dataframe to an interactive table.\"\n",
              "              style=\"display:none;\">\n",
              "        \n",
              "  <svg xmlns=\"http://www.w3.org/2000/svg\" height=\"24px\"viewBox=\"0 0 24 24\"\n",
              "       width=\"24px\">\n",
              "    <path d=\"M0 0h24v24H0V0z\" fill=\"none\"/>\n",
              "    <path d=\"M18.56 5.44l.94 2.06.94-2.06 2.06-.94-2.06-.94-.94-2.06-.94 2.06-2.06.94zm-11 1L8.5 8.5l.94-2.06 2.06-.94-2.06-.94L8.5 2.5l-.94 2.06-2.06.94zm10 10l.94 2.06.94-2.06 2.06-.94-2.06-.94-.94-2.06-.94 2.06-2.06.94z\"/><path d=\"M17.41 7.96l-1.37-1.37c-.4-.4-.92-.59-1.43-.59-.52 0-1.04.2-1.43.59L10.3 9.45l-7.72 7.72c-.78.78-.78 2.05 0 2.83L4 21.41c.39.39.9.59 1.41.59.51 0 1.02-.2 1.41-.59l7.78-7.78 2.81-2.81c.8-.78.8-2.07 0-2.86zM5.41 20L4 18.59l7.72-7.72 1.47 1.35L5.41 20z\"/>\n",
              "  </svg>\n",
              "      </button>\n",
              "      \n",
              "  <style>\n",
              "    .colab-df-container {\n",
              "      display:flex;\n",
              "      flex-wrap:wrap;\n",
              "      gap: 12px;\n",
              "    }\n",
              "\n",
              "    .colab-df-convert {\n",
              "      background-color: #E8F0FE;\n",
              "      border: none;\n",
              "      border-radius: 50%;\n",
              "      cursor: pointer;\n",
              "      display: none;\n",
              "      fill: #1967D2;\n",
              "      height: 32px;\n",
              "      padding: 0 0 0 0;\n",
              "      width: 32px;\n",
              "    }\n",
              "\n",
              "    .colab-df-convert:hover {\n",
              "      background-color: #E2EBFA;\n",
              "      box-shadow: 0px 1px 2px rgba(60, 64, 67, 0.3), 0px 1px 3px 1px rgba(60, 64, 67, 0.15);\n",
              "      fill: #174EA6;\n",
              "    }\n",
              "\n",
              "    [theme=dark] .colab-df-convert {\n",
              "      background-color: #3B4455;\n",
              "      fill: #D2E3FC;\n",
              "    }\n",
              "\n",
              "    [theme=dark] .colab-df-convert:hover {\n",
              "      background-color: #434B5C;\n",
              "      box-shadow: 0px 1px 3px 1px rgba(0, 0, 0, 0.15);\n",
              "      filter: drop-shadow(0px 1px 2px rgba(0, 0, 0, 0.3));\n",
              "      fill: #FFFFFF;\n",
              "    }\n",
              "  </style>\n",
              "\n",
              "      <script>\n",
              "        const buttonEl =\n",
              "          document.querySelector('#df-d7fd82ff-5a64-449a-99f6-ecf492adf44f button.colab-df-convert');\n",
              "        buttonEl.style.display =\n",
              "          google.colab.kernel.accessAllowed ? 'block' : 'none';\n",
              "\n",
              "        async function convertToInteractive(key) {\n",
              "          const element = document.querySelector('#df-d7fd82ff-5a64-449a-99f6-ecf492adf44f');\n",
              "          const dataTable =\n",
              "            await google.colab.kernel.invokeFunction('convertToInteractive',\n",
              "                                                     [key], {});\n",
              "          if (!dataTable) return;\n",
              "\n",
              "          const docLinkHtml = 'Like what you see? Visit the ' +\n",
              "            '<a target=\"_blank\" href=https://colab.research.google.com/notebooks/data_table.ipynb>data table notebook</a>'\n",
              "            + ' to learn more about interactive tables.';\n",
              "          element.innerHTML = '';\n",
              "          dataTable['output_type'] = 'display_data';\n",
              "          await google.colab.output.renderOutput(dataTable, element);\n",
              "          const docLink = document.createElement('div');\n",
              "          docLink.innerHTML = docLinkHtml;\n",
              "          element.appendChild(docLink);\n",
              "        }\n",
              "      </script>\n",
              "    </div>\n",
              "  </div>\n",
              "  "
            ]
          },
          "metadata": {},
          "execution_count": 232
        }
      ]
    },
    {
      "cell_type": "code",
      "source": [
        "data[(data['Sentiment'] == 'negative')]"
      ],
      "metadata": {
        "colab": {
          "base_uri": "https://localhost:8080/",
          "height": 1000
        },
        "id": "lwk1wsnZ_9Px",
        "outputId": "bfee996e-77ce-4927-f631-aaa8f0310e08"
      },
      "execution_count": null,
      "outputs": [
        {
          "output_type": "execute_result",
          "data": {
            "text/plain": [
              "                                                 Tweets  Retweets   Likes  \\\n",
              "13    “the new york times emerged new, chaotic actor...     10733  100922   \n",
              "41         ownerssv     that’s plan, unless damaged ...       235    3806   \n",
              "43       child, found simple useful real life: mere ...       272    3692   \n",
              "44      and don’t even house, let alone “mansion”, d...       635    8781   \n",
              "50      before dod even came back answer, told  spac...      1094   11673   \n",
              "...                                                 ...       ...     ...   \n",
              "3026   if canadian government suppressing peaceful p...      1055    7260   \n",
              "3029   now big automotive advertisers making evs, se...      1341   16612   \n",
              "3035                       we need serious tonnage mars       490    9544   \n",
              "3048          and darkness bind https://t.co/bvxr4httq1     33028  195919   \n",
              "3052  seems odd un still hasn’t released 2020 world ...     32799  262118   \n",
              "\n",
              "                    Date  num_urls  contains_image  \\\n",
              "13   2022-10-26 14:48:00         0           False   \n",
              "41   2022-10-24 13:39:00         0           False   \n",
              "43   2022-10-24 13:28:00         0           False   \n",
              "44   2022-10-24 13:19:00         0           False   \n",
              "50   2022-10-24 02:37:00         0           False   \n",
              "...                  ...       ...             ...   \n",
              "3026 2022-01-30 16:53:00         0           False   \n",
              "3029 2022-01-30 00:42:00         0           False   \n",
              "3035 2022-01-29 11:21:00         0           False   \n",
              "3048 2022-01-27 23:56:00         0           False   \n",
              "3052 2022-01-27 22:24:00         0           False   \n",
              "\n",
              "                                           Tweets_Token  Month  Hour  \\\n",
              "13    [the, new, york, times, emerged, new, chaotic,...     10    14   \n",
              "41    [ownerssv, that, s, plan, unless, damaged, tes...     10    13   \n",
              "43    [child, found, simple, useful, real, life, mer...     10    13   \n",
              "44    [and, don, t, even, house, let, alone, mansion...     10    13   \n",
              "50    [before, dod, even, came, back, answer, told, ...     10     2   \n",
              "...                                                 ...    ...   ...   \n",
              "3026  [if, canadian, government, suppressing, peacef...      1    16   \n",
              "3029  [now, big, automotive, advertisers, making, ev...      1     0   \n",
              "3035                 [we, need, serious, tonnage, mars]      1    11   \n",
              "3048    [and, darkness, bind, https, t, co, bvxr4httq1]      1    23   \n",
              "3052  [seems, odd, un, still, hasn, t, released, 202...      1    22   \n",
              "\n",
              "           Time  TweetLength  \\\n",
              "13    Afternoon          168   \n",
              "41    Afternoon          184   \n",
              "43    Afternoon          177   \n",
              "44    Afternoon           51   \n",
              "50      Morning          101   \n",
              "...         ...          ...   \n",
              "3026  Afternoon          121   \n",
              "3029        NaN          161   \n",
              "3035    Morning           30   \n",
              "3048    Evening           41   \n",
              "3052    Evening           57   \n",
              "\n",
              "                                             TweetScore Sentiment  \n",
              "13    {'neg': 0.225, 'neu': 0.775, 'pos': 0.0, 'comp...  negative  \n",
              "41    {'neg': 0.105, 'neu': 0.761, 'pos': 0.134, 'co...  negative  \n",
              "43    {'neg': 0.135, 'neu': 0.764, 'pos': 0.101, 'co...  negative  \n",
              "44    {'neg': 0.429, 'neu': 0.571, 'pos': 0.0, 'comp...  negative  \n",
              "50    {'neg': 0.128, 'neu': 0.872, 'pos': 0.0, 'comp...  negative  \n",
              "...                                                 ...       ...  \n",
              "3026  {'neg': 0.263, 'neu': 0.559, 'pos': 0.179, 'co...  negative  \n",
              "3029  {'neg': 0.098, 'neu': 0.816, 'pos': 0.086, 'co...  negative  \n",
              "3035  {'neg': 0.245, 'neu': 0.755, 'pos': 0.0, 'comp...  negative  \n",
              "3048  {'neg': 0.4, 'neu': 0.6, 'pos': 0.0, 'compound...  negative  \n",
              "3052  {'neg': 0.437, 'neu': 0.563, 'pos': 0.0, 'comp...  negative  \n",
              "\n",
              "[439 rows x 13 columns]"
            ],
            "text/html": [
              "\n",
              "  <div id=\"df-8d4fd68e-0369-435f-be93-9c358e5d4265\">\n",
              "    <div class=\"colab-df-container\">\n",
              "      <div>\n",
              "<style scoped>\n",
              "    .dataframe tbody tr th:only-of-type {\n",
              "        vertical-align: middle;\n",
              "    }\n",
              "\n",
              "    .dataframe tbody tr th {\n",
              "        vertical-align: top;\n",
              "    }\n",
              "\n",
              "    .dataframe thead th {\n",
              "        text-align: right;\n",
              "    }\n",
              "</style>\n",
              "<table border=\"1\" class=\"dataframe\">\n",
              "  <thead>\n",
              "    <tr style=\"text-align: right;\">\n",
              "      <th></th>\n",
              "      <th>Tweets</th>\n",
              "      <th>Retweets</th>\n",
              "      <th>Likes</th>\n",
              "      <th>Date</th>\n",
              "      <th>num_urls</th>\n",
              "      <th>contains_image</th>\n",
              "      <th>Tweets_Token</th>\n",
              "      <th>Month</th>\n",
              "      <th>Hour</th>\n",
              "      <th>Time</th>\n",
              "      <th>TweetLength</th>\n",
              "      <th>TweetScore</th>\n",
              "      <th>Sentiment</th>\n",
              "    </tr>\n",
              "  </thead>\n",
              "  <tbody>\n",
              "    <tr>\n",
              "      <th>13</th>\n",
              "      <td>“the new york times emerged new, chaotic actor...</td>\n",
              "      <td>10733</td>\n",
              "      <td>100922</td>\n",
              "      <td>2022-10-26 14:48:00</td>\n",
              "      <td>0</td>\n",
              "      <td>False</td>\n",
              "      <td>[the, new, york, times, emerged, new, chaotic,...</td>\n",
              "      <td>10</td>\n",
              "      <td>14</td>\n",
              "      <td>Afternoon</td>\n",
              "      <td>168</td>\n",
              "      <td>{'neg': 0.225, 'neu': 0.775, 'pos': 0.0, 'comp...</td>\n",
              "      <td>negative</td>\n",
              "    </tr>\n",
              "    <tr>\n",
              "      <th>41</th>\n",
              "      <td>ownerssv     that’s plan, unless damaged ...</td>\n",
              "      <td>235</td>\n",
              "      <td>3806</td>\n",
              "      <td>2022-10-24 13:39:00</td>\n",
              "      <td>0</td>\n",
              "      <td>False</td>\n",
              "      <td>[ownerssv, that, s, plan, unless, damaged, tes...</td>\n",
              "      <td>10</td>\n",
              "      <td>13</td>\n",
              "      <td>Afternoon</td>\n",
              "      <td>184</td>\n",
              "      <td>{'neg': 0.105, 'neu': 0.761, 'pos': 0.134, 'co...</td>\n",
              "      <td>negative</td>\n",
              "    </tr>\n",
              "    <tr>\n",
              "      <th>43</th>\n",
              "      <td>child, found simple useful real life: mere ...</td>\n",
              "      <td>272</td>\n",
              "      <td>3692</td>\n",
              "      <td>2022-10-24 13:28:00</td>\n",
              "      <td>0</td>\n",
              "      <td>False</td>\n",
              "      <td>[child, found, simple, useful, real, life, mer...</td>\n",
              "      <td>10</td>\n",
              "      <td>13</td>\n",
              "      <td>Afternoon</td>\n",
              "      <td>177</td>\n",
              "      <td>{'neg': 0.135, 'neu': 0.764, 'pos': 0.101, 'co...</td>\n",
              "      <td>negative</td>\n",
              "    </tr>\n",
              "    <tr>\n",
              "      <th>44</th>\n",
              "      <td>and don’t even house, let alone “mansion”, d...</td>\n",
              "      <td>635</td>\n",
              "      <td>8781</td>\n",
              "      <td>2022-10-24 13:19:00</td>\n",
              "      <td>0</td>\n",
              "      <td>False</td>\n",
              "      <td>[and, don, t, even, house, let, alone, mansion...</td>\n",
              "      <td>10</td>\n",
              "      <td>13</td>\n",
              "      <td>Afternoon</td>\n",
              "      <td>51</td>\n",
              "      <td>{'neg': 0.429, 'neu': 0.571, 'pos': 0.0, 'comp...</td>\n",
              "      <td>negative</td>\n",
              "    </tr>\n",
              "    <tr>\n",
              "      <th>50</th>\n",
              "      <td>before dod even came back answer, told  spac...</td>\n",
              "      <td>1094</td>\n",
              "      <td>11673</td>\n",
              "      <td>2022-10-24 02:37:00</td>\n",
              "      <td>0</td>\n",
              "      <td>False</td>\n",
              "      <td>[before, dod, even, came, back, answer, told, ...</td>\n",
              "      <td>10</td>\n",
              "      <td>2</td>\n",
              "      <td>Morning</td>\n",
              "      <td>101</td>\n",
              "      <td>{'neg': 0.128, 'neu': 0.872, 'pos': 0.0, 'comp...</td>\n",
              "      <td>negative</td>\n",
              "    </tr>\n",
              "    <tr>\n",
              "      <th>...</th>\n",
              "      <td>...</td>\n",
              "      <td>...</td>\n",
              "      <td>...</td>\n",
              "      <td>...</td>\n",
              "      <td>...</td>\n",
              "      <td>...</td>\n",
              "      <td>...</td>\n",
              "      <td>...</td>\n",
              "      <td>...</td>\n",
              "      <td>...</td>\n",
              "      <td>...</td>\n",
              "      <td>...</td>\n",
              "      <td>...</td>\n",
              "    </tr>\n",
              "    <tr>\n",
              "      <th>3026</th>\n",
              "      <td>if canadian government suppressing peaceful p...</td>\n",
              "      <td>1055</td>\n",
              "      <td>7260</td>\n",
              "      <td>2022-01-30 16:53:00</td>\n",
              "      <td>0</td>\n",
              "      <td>False</td>\n",
              "      <td>[if, canadian, government, suppressing, peacef...</td>\n",
              "      <td>1</td>\n",
              "      <td>16</td>\n",
              "      <td>Afternoon</td>\n",
              "      <td>121</td>\n",
              "      <td>{'neg': 0.263, 'neu': 0.559, 'pos': 0.179, 'co...</td>\n",
              "      <td>negative</td>\n",
              "    </tr>\n",
              "    <tr>\n",
              "      <th>3029</th>\n",
              "      <td>now big automotive advertisers making evs, se...</td>\n",
              "      <td>1341</td>\n",
              "      <td>16612</td>\n",
              "      <td>2022-01-30 00:42:00</td>\n",
              "      <td>0</td>\n",
              "      <td>False</td>\n",
              "      <td>[now, big, automotive, advertisers, making, ev...</td>\n",
              "      <td>1</td>\n",
              "      <td>0</td>\n",
              "      <td>NaN</td>\n",
              "      <td>161</td>\n",
              "      <td>{'neg': 0.098, 'neu': 0.816, 'pos': 0.086, 'co...</td>\n",
              "      <td>negative</td>\n",
              "    </tr>\n",
              "    <tr>\n",
              "      <th>3035</th>\n",
              "      <td>we need serious tonnage mars</td>\n",
              "      <td>490</td>\n",
              "      <td>9544</td>\n",
              "      <td>2022-01-29 11:21:00</td>\n",
              "      <td>0</td>\n",
              "      <td>False</td>\n",
              "      <td>[we, need, serious, tonnage, mars]</td>\n",
              "      <td>1</td>\n",
              "      <td>11</td>\n",
              "      <td>Morning</td>\n",
              "      <td>30</td>\n",
              "      <td>{'neg': 0.245, 'neu': 0.755, 'pos': 0.0, 'comp...</td>\n",
              "      <td>negative</td>\n",
              "    </tr>\n",
              "    <tr>\n",
              "      <th>3048</th>\n",
              "      <td>and darkness bind https://t.co/bvxr4httq1</td>\n",
              "      <td>33028</td>\n",
              "      <td>195919</td>\n",
              "      <td>2022-01-27 23:56:00</td>\n",
              "      <td>0</td>\n",
              "      <td>False</td>\n",
              "      <td>[and, darkness, bind, https, t, co, bvxr4httq1]</td>\n",
              "      <td>1</td>\n",
              "      <td>23</td>\n",
              "      <td>Evening</td>\n",
              "      <td>41</td>\n",
              "      <td>{'neg': 0.4, 'neu': 0.6, 'pos': 0.0, 'compound...</td>\n",
              "      <td>negative</td>\n",
              "    </tr>\n",
              "    <tr>\n",
              "      <th>3052</th>\n",
              "      <td>seems odd un still hasn’t released 2020 world ...</td>\n",
              "      <td>32799</td>\n",
              "      <td>262118</td>\n",
              "      <td>2022-01-27 22:24:00</td>\n",
              "      <td>0</td>\n",
              "      <td>False</td>\n",
              "      <td>[seems, odd, un, still, hasn, t, released, 202...</td>\n",
              "      <td>1</td>\n",
              "      <td>22</td>\n",
              "      <td>Evening</td>\n",
              "      <td>57</td>\n",
              "      <td>{'neg': 0.437, 'neu': 0.563, 'pos': 0.0, 'comp...</td>\n",
              "      <td>negative</td>\n",
              "    </tr>\n",
              "  </tbody>\n",
              "</table>\n",
              "<p>439 rows × 13 columns</p>\n",
              "</div>\n",
              "      <button class=\"colab-df-convert\" onclick=\"convertToInteractive('df-8d4fd68e-0369-435f-be93-9c358e5d4265')\"\n",
              "              title=\"Convert this dataframe to an interactive table.\"\n",
              "              style=\"display:none;\">\n",
              "        \n",
              "  <svg xmlns=\"http://www.w3.org/2000/svg\" height=\"24px\"viewBox=\"0 0 24 24\"\n",
              "       width=\"24px\">\n",
              "    <path d=\"M0 0h24v24H0V0z\" fill=\"none\"/>\n",
              "    <path d=\"M18.56 5.44l.94 2.06.94-2.06 2.06-.94-2.06-.94-.94-2.06-.94 2.06-2.06.94zm-11 1L8.5 8.5l.94-2.06 2.06-.94-2.06-.94L8.5 2.5l-.94 2.06-2.06.94zm10 10l.94 2.06.94-2.06 2.06-.94-2.06-.94-.94-2.06-.94 2.06-2.06.94z\"/><path d=\"M17.41 7.96l-1.37-1.37c-.4-.4-.92-.59-1.43-.59-.52 0-1.04.2-1.43.59L10.3 9.45l-7.72 7.72c-.78.78-.78 2.05 0 2.83L4 21.41c.39.39.9.59 1.41.59.51 0 1.02-.2 1.41-.59l7.78-7.78 2.81-2.81c.8-.78.8-2.07 0-2.86zM5.41 20L4 18.59l7.72-7.72 1.47 1.35L5.41 20z\"/>\n",
              "  </svg>\n",
              "      </button>\n",
              "      \n",
              "  <style>\n",
              "    .colab-df-container {\n",
              "      display:flex;\n",
              "      flex-wrap:wrap;\n",
              "      gap: 12px;\n",
              "    }\n",
              "\n",
              "    .colab-df-convert {\n",
              "      background-color: #E8F0FE;\n",
              "      border: none;\n",
              "      border-radius: 50%;\n",
              "      cursor: pointer;\n",
              "      display: none;\n",
              "      fill: #1967D2;\n",
              "      height: 32px;\n",
              "      padding: 0 0 0 0;\n",
              "      width: 32px;\n",
              "    }\n",
              "\n",
              "    .colab-df-convert:hover {\n",
              "      background-color: #E2EBFA;\n",
              "      box-shadow: 0px 1px 2px rgba(60, 64, 67, 0.3), 0px 1px 3px 1px rgba(60, 64, 67, 0.15);\n",
              "      fill: #174EA6;\n",
              "    }\n",
              "\n",
              "    [theme=dark] .colab-df-convert {\n",
              "      background-color: #3B4455;\n",
              "      fill: #D2E3FC;\n",
              "    }\n",
              "\n",
              "    [theme=dark] .colab-df-convert:hover {\n",
              "      background-color: #434B5C;\n",
              "      box-shadow: 0px 1px 3px 1px rgba(0, 0, 0, 0.15);\n",
              "      filter: drop-shadow(0px 1px 2px rgba(0, 0, 0, 0.3));\n",
              "      fill: #FFFFFF;\n",
              "    }\n",
              "  </style>\n",
              "\n",
              "      <script>\n",
              "        const buttonEl =\n",
              "          document.querySelector('#df-8d4fd68e-0369-435f-be93-9c358e5d4265 button.colab-df-convert');\n",
              "        buttonEl.style.display =\n",
              "          google.colab.kernel.accessAllowed ? 'block' : 'none';\n",
              "\n",
              "        async function convertToInteractive(key) {\n",
              "          const element = document.querySelector('#df-8d4fd68e-0369-435f-be93-9c358e5d4265');\n",
              "          const dataTable =\n",
              "            await google.colab.kernel.invokeFunction('convertToInteractive',\n",
              "                                                     [key], {});\n",
              "          if (!dataTable) return;\n",
              "\n",
              "          const docLinkHtml = 'Like what you see? Visit the ' +\n",
              "            '<a target=\"_blank\" href=https://colab.research.google.com/notebooks/data_table.ipynb>data table notebook</a>'\n",
              "            + ' to learn more about interactive tables.';\n",
              "          element.innerHTML = '';\n",
              "          dataTable['output_type'] = 'display_data';\n",
              "          await google.colab.output.renderOutput(dataTable, element);\n",
              "          const docLink = document.createElement('div');\n",
              "          docLink.innerHTML = docLinkHtml;\n",
              "          element.appendChild(docLink);\n",
              "        }\n",
              "      </script>\n",
              "    </div>\n",
              "  </div>\n",
              "  "
            ]
          },
          "metadata": {},
          "execution_count": 233
        }
      ]
    },
    {
      "cell_type": "code",
      "source": [
        "#create a new column based on compound scores\n",
        "data['Compound'] = [analyzer.polarity_scores(x)['compound'] for x in data['Tweets']]\n"
      ],
      "metadata": {
        "id": "vyiaeUDZM3LL"
      },
      "execution_count": null,
      "outputs": []
    },
    {
      "cell_type": "code",
      "source": [
        "data.head()"
      ],
      "metadata": {
        "colab": {
          "base_uri": "https://localhost:8080/",
          "height": 531
        },
        "id": "oXgdPi82NxPk",
        "outputId": "381b3e2f-839e-4d2c-857b-560bdc442d5e"
      },
      "execution_count": null,
      "outputs": [
        {
          "output_type": "execute_result",
          "data": {
            "text/plain": [
              "                                             Tweets  Retweets   Likes  \\\n",
              "0                                          🤣 thanks       209    7021   \n",
              "1                                        absolutely       755   26737   \n",
              "2  dear twitter advertisers https://t.co/gmwhminpas     55927  356623   \n",
              "3                                                 👻       802   19353   \n",
              "4            meeting lot cool people twitter today!      9366  195546   \n",
              "\n",
              "                 Date  num_urls  contains_image  \\\n",
              "0 2022-10-27 16:17:00         0           False   \n",
              "1 2022-10-27 13:19:00         0           False   \n",
              "2 2022-10-27 13:08:00         0           False   \n",
              "3 2022-10-27 02:32:00         0           False   \n",
              "4 2022-10-26 21:39:00         0           False   \n",
              "\n",
              "                                        Tweets_Token  Month  Hour       Time  \\\n",
              "0                                           [thanks]     10    16  Afternoon   \n",
              "1                                       [absolutely]     10    13  Afternoon   \n",
              "2  [dear, twitter, advertisers, https, t, co, gmw...     10    13  Afternoon   \n",
              "3                                                 []     10     2    Morning   \n",
              "4       [meeting, lot, cool, people, twitter, today]     10    21    Evening   \n",
              "\n",
              "   TweetLength                                         TweetScore Sentiment  \\\n",
              "0            9  {'neg': 0.0, 'neu': 0.0, 'pos': 1.0, 'compound...  positive   \n",
              "1           11  {'neg': 0.0, 'neu': 1.0, 'pos': 0.0, 'compound...   neutral   \n",
              "2           48  {'neg': 0.0, 'neu': 0.536, 'pos': 0.464, 'comp...  positive   \n",
              "3            2  {'neg': 0.0, 'neu': 0.0, 'pos': 0.0, 'compound...   neutral   \n",
              "4           38  {'neg': 0.0, 'neu': 0.659, 'pos': 0.341, 'comp...  positive   \n",
              "\n",
              "   Compound  \n",
              "0    0.4404  \n",
              "1    0.0000  \n",
              "2    0.3818  \n",
              "3    0.0000  \n",
              "4    0.3802  "
            ],
            "text/html": [
              "\n",
              "  <div id=\"df-a1b69c45-608f-49e3-8f1c-08faf4b1b5f8\">\n",
              "    <div class=\"colab-df-container\">\n",
              "      <div>\n",
              "<style scoped>\n",
              "    .dataframe tbody tr th:only-of-type {\n",
              "        vertical-align: middle;\n",
              "    }\n",
              "\n",
              "    .dataframe tbody tr th {\n",
              "        vertical-align: top;\n",
              "    }\n",
              "\n",
              "    .dataframe thead th {\n",
              "        text-align: right;\n",
              "    }\n",
              "</style>\n",
              "<table border=\"1\" class=\"dataframe\">\n",
              "  <thead>\n",
              "    <tr style=\"text-align: right;\">\n",
              "      <th></th>\n",
              "      <th>Tweets</th>\n",
              "      <th>Retweets</th>\n",
              "      <th>Likes</th>\n",
              "      <th>Date</th>\n",
              "      <th>num_urls</th>\n",
              "      <th>contains_image</th>\n",
              "      <th>Tweets_Token</th>\n",
              "      <th>Month</th>\n",
              "      <th>Hour</th>\n",
              "      <th>Time</th>\n",
              "      <th>TweetLength</th>\n",
              "      <th>TweetScore</th>\n",
              "      <th>Sentiment</th>\n",
              "      <th>Compound</th>\n",
              "    </tr>\n",
              "  </thead>\n",
              "  <tbody>\n",
              "    <tr>\n",
              "      <th>0</th>\n",
              "      <td>🤣 thanks</td>\n",
              "      <td>209</td>\n",
              "      <td>7021</td>\n",
              "      <td>2022-10-27 16:17:00</td>\n",
              "      <td>0</td>\n",
              "      <td>False</td>\n",
              "      <td>[thanks]</td>\n",
              "      <td>10</td>\n",
              "      <td>16</td>\n",
              "      <td>Afternoon</td>\n",
              "      <td>9</td>\n",
              "      <td>{'neg': 0.0, 'neu': 0.0, 'pos': 1.0, 'compound...</td>\n",
              "      <td>positive</td>\n",
              "      <td>0.4404</td>\n",
              "    </tr>\n",
              "    <tr>\n",
              "      <th>1</th>\n",
              "      <td>absolutely</td>\n",
              "      <td>755</td>\n",
              "      <td>26737</td>\n",
              "      <td>2022-10-27 13:19:00</td>\n",
              "      <td>0</td>\n",
              "      <td>False</td>\n",
              "      <td>[absolutely]</td>\n",
              "      <td>10</td>\n",
              "      <td>13</td>\n",
              "      <td>Afternoon</td>\n",
              "      <td>11</td>\n",
              "      <td>{'neg': 0.0, 'neu': 1.0, 'pos': 0.0, 'compound...</td>\n",
              "      <td>neutral</td>\n",
              "      <td>0.0000</td>\n",
              "    </tr>\n",
              "    <tr>\n",
              "      <th>2</th>\n",
              "      <td>dear twitter advertisers https://t.co/gmwhminpas</td>\n",
              "      <td>55927</td>\n",
              "      <td>356623</td>\n",
              "      <td>2022-10-27 13:08:00</td>\n",
              "      <td>0</td>\n",
              "      <td>False</td>\n",
              "      <td>[dear, twitter, advertisers, https, t, co, gmw...</td>\n",
              "      <td>10</td>\n",
              "      <td>13</td>\n",
              "      <td>Afternoon</td>\n",
              "      <td>48</td>\n",
              "      <td>{'neg': 0.0, 'neu': 0.536, 'pos': 0.464, 'comp...</td>\n",
              "      <td>positive</td>\n",
              "      <td>0.3818</td>\n",
              "    </tr>\n",
              "    <tr>\n",
              "      <th>3</th>\n",
              "      <td>👻</td>\n",
              "      <td>802</td>\n",
              "      <td>19353</td>\n",
              "      <td>2022-10-27 02:32:00</td>\n",
              "      <td>0</td>\n",
              "      <td>False</td>\n",
              "      <td>[]</td>\n",
              "      <td>10</td>\n",
              "      <td>2</td>\n",
              "      <td>Morning</td>\n",
              "      <td>2</td>\n",
              "      <td>{'neg': 0.0, 'neu': 0.0, 'pos': 0.0, 'compound...</td>\n",
              "      <td>neutral</td>\n",
              "      <td>0.0000</td>\n",
              "    </tr>\n",
              "    <tr>\n",
              "      <th>4</th>\n",
              "      <td>meeting lot cool people twitter today!</td>\n",
              "      <td>9366</td>\n",
              "      <td>195546</td>\n",
              "      <td>2022-10-26 21:39:00</td>\n",
              "      <td>0</td>\n",
              "      <td>False</td>\n",
              "      <td>[meeting, lot, cool, people, twitter, today]</td>\n",
              "      <td>10</td>\n",
              "      <td>21</td>\n",
              "      <td>Evening</td>\n",
              "      <td>38</td>\n",
              "      <td>{'neg': 0.0, 'neu': 0.659, 'pos': 0.341, 'comp...</td>\n",
              "      <td>positive</td>\n",
              "      <td>0.3802</td>\n",
              "    </tr>\n",
              "  </tbody>\n",
              "</table>\n",
              "</div>\n",
              "      <button class=\"colab-df-convert\" onclick=\"convertToInteractive('df-a1b69c45-608f-49e3-8f1c-08faf4b1b5f8')\"\n",
              "              title=\"Convert this dataframe to an interactive table.\"\n",
              "              style=\"display:none;\">\n",
              "        \n",
              "  <svg xmlns=\"http://www.w3.org/2000/svg\" height=\"24px\"viewBox=\"0 0 24 24\"\n",
              "       width=\"24px\">\n",
              "    <path d=\"M0 0h24v24H0V0z\" fill=\"none\"/>\n",
              "    <path d=\"M18.56 5.44l.94 2.06.94-2.06 2.06-.94-2.06-.94-.94-2.06-.94 2.06-2.06.94zm-11 1L8.5 8.5l.94-2.06 2.06-.94-2.06-.94L8.5 2.5l-.94 2.06-2.06.94zm10 10l.94 2.06.94-2.06 2.06-.94-2.06-.94-.94-2.06-.94 2.06-2.06.94z\"/><path d=\"M17.41 7.96l-1.37-1.37c-.4-.4-.92-.59-1.43-.59-.52 0-1.04.2-1.43.59L10.3 9.45l-7.72 7.72c-.78.78-.78 2.05 0 2.83L4 21.41c.39.39.9.59 1.41.59.51 0 1.02-.2 1.41-.59l7.78-7.78 2.81-2.81c.8-.78.8-2.07 0-2.86zM5.41 20L4 18.59l7.72-7.72 1.47 1.35L5.41 20z\"/>\n",
              "  </svg>\n",
              "      </button>\n",
              "      \n",
              "  <style>\n",
              "    .colab-df-container {\n",
              "      display:flex;\n",
              "      flex-wrap:wrap;\n",
              "      gap: 12px;\n",
              "    }\n",
              "\n",
              "    .colab-df-convert {\n",
              "      background-color: #E8F0FE;\n",
              "      border: none;\n",
              "      border-radius: 50%;\n",
              "      cursor: pointer;\n",
              "      display: none;\n",
              "      fill: #1967D2;\n",
              "      height: 32px;\n",
              "      padding: 0 0 0 0;\n",
              "      width: 32px;\n",
              "    }\n",
              "\n",
              "    .colab-df-convert:hover {\n",
              "      background-color: #E2EBFA;\n",
              "      box-shadow: 0px 1px 2px rgba(60, 64, 67, 0.3), 0px 1px 3px 1px rgba(60, 64, 67, 0.15);\n",
              "      fill: #174EA6;\n",
              "    }\n",
              "\n",
              "    [theme=dark] .colab-df-convert {\n",
              "      background-color: #3B4455;\n",
              "      fill: #D2E3FC;\n",
              "    }\n",
              "\n",
              "    [theme=dark] .colab-df-convert:hover {\n",
              "      background-color: #434B5C;\n",
              "      box-shadow: 0px 1px 3px 1px rgba(0, 0, 0, 0.15);\n",
              "      filter: drop-shadow(0px 1px 2px rgba(0, 0, 0, 0.3));\n",
              "      fill: #FFFFFF;\n",
              "    }\n",
              "  </style>\n",
              "\n",
              "      <script>\n",
              "        const buttonEl =\n",
              "          document.querySelector('#df-a1b69c45-608f-49e3-8f1c-08faf4b1b5f8 button.colab-df-convert');\n",
              "        buttonEl.style.display =\n",
              "          google.colab.kernel.accessAllowed ? 'block' : 'none';\n",
              "\n",
              "        async function convertToInteractive(key) {\n",
              "          const element = document.querySelector('#df-a1b69c45-608f-49e3-8f1c-08faf4b1b5f8');\n",
              "          const dataTable =\n",
              "            await google.colab.kernel.invokeFunction('convertToInteractive',\n",
              "                                                     [key], {});\n",
              "          if (!dataTable) return;\n",
              "\n",
              "          const docLinkHtml = 'Like what you see? Visit the ' +\n",
              "            '<a target=\"_blank\" href=https://colab.research.google.com/notebooks/data_table.ipynb>data table notebook</a>'\n",
              "            + ' to learn more about interactive tables.';\n",
              "          element.innerHTML = '';\n",
              "          dataTable['output_type'] = 'display_data';\n",
              "          await google.colab.output.renderOutput(dataTable, element);\n",
              "          const docLink = document.createElement('div');\n",
              "          docLink.innerHTML = docLinkHtml;\n",
              "          element.appendChild(docLink);\n",
              "        }\n",
              "      </script>\n",
              "    </div>\n",
              "  </div>\n",
              "  "
            ]
          },
          "metadata": {},
          "execution_count": 235
        }
      ]
    },
    {
      "cell_type": "code",
      "source": [
        "data.info()"
      ],
      "metadata": {
        "colab": {
          "base_uri": "https://localhost:8080/"
        },
        "id": "L_NRCFhxNFgl",
        "outputId": "3b8e9f85-884b-4546-964a-08e50d402c02"
      },
      "execution_count": null,
      "outputs": [
        {
          "output_type": "stream",
          "name": "stdout",
          "text": [
            "<class 'pandas.core.frame.DataFrame'>\n",
            "RangeIndex: 3060 entries, 0 to 3059\n",
            "Data columns (total 14 columns):\n",
            " #   Column          Non-Null Count  Dtype         \n",
            "---  ------          --------------  -----         \n",
            " 0   Tweets          3060 non-null   object        \n",
            " 1   Retweets        3060 non-null   int64         \n",
            " 2   Likes           3060 non-null   int64         \n",
            " 3   Date            3060 non-null   datetime64[ns]\n",
            " 4   num_urls        3060 non-null   int64         \n",
            " 5   contains_image  3060 non-null   bool          \n",
            " 6   Tweets_Token    3060 non-null   object        \n",
            " 7   Month           3060 non-null   int64         \n",
            " 8   Hour            3060 non-null   int64         \n",
            " 9   Time            2887 non-null   category      \n",
            " 10  TweetLength     3060 non-null   int64         \n",
            " 11  TweetScore      3060 non-null   object        \n",
            " 12  Sentiment       3060 non-null   object        \n",
            " 13  Compound        3060 non-null   float64       \n",
            "dtypes: bool(1), category(1), datetime64[ns](1), float64(1), int64(6), object(4)\n",
            "memory usage: 293.1+ KB\n"
          ]
        }
      ]
    },
    {
      "cell_type": "code",
      "source": [
        "#Sort by number of likes and choose top 5 tweets\n",
        "top5_tweets = data.sort_values(\"Likes\", ascending=False).head(5)"
      ],
      "metadata": {
        "id": "CfBgairHEI0l"
      },
      "execution_count": null,
      "outputs": []
    },
    {
      "cell_type": "code",
      "source": [
        "for i, tweet in top5_tweets.iterrows():\n",
        "    print(f\"{tweet['Tweets']}\\nLikes: {tweet['Likes']}\\n\")"
      ],
      "metadata": {
        "colab": {
          "base_uri": "https://localhost:8080/"
        },
        "id": "sOpR505tEOvc",
        "outputId": "c52ffe59-4f63-4fb3-fc6f-bfc4e8807cfb"
      },
      "execution_count": null,
      "outputs": [
        {
          "output_type": "stream",
          "name": "stdout",
          "text": [
            "next i’m buying coca-cola put cocaine back\n",
            "Likes: 4780787\n",
            "\n",
            "hope even worst critics remain twitter, free speech means\n",
            "Likes: 3232772\n",
            "\n",
            "let’s make twitter maximum fun!\n",
            "Likes: 2650644\n",
            "\n",
            "🚀💫♥️ yesss!!! ♥️💫🚀 https://t.co/0t9hzuhuh6\n",
            "Likes: 2608578\n",
            "\n",
            "listen, can’t miracles ok https://t.co/z7dvlmuxy8\n",
            "Likes: 2581112\n",
            "\n"
          ]
        }
      ]
    },
    {
      "cell_type": "code",
      "source": [
        "# Create dataFrame showing counts of positive, negative, and neutral tweets\n",
        "sentiment_c = top5_tweets.groupby(['Sentiment'])['Tweets'].count().reset_index()"
      ],
      "metadata": {
        "id": "JOe8MxwaFbOB"
      },
      "execution_count": null,
      "outputs": []
    },
    {
      "cell_type": "code",
      "source": [
        "sentiment_c"
      ],
      "metadata": {
        "colab": {
          "base_uri": "https://localhost:8080/",
          "height": 112
        },
        "id": "m7zu2cV3HiEF",
        "outputId": "8fa9de82-b21c-41e1-bd4f-919f8d4b05e4"
      },
      "execution_count": null,
      "outputs": [
        {
          "output_type": "execute_result",
          "data": {
            "text/plain": [
              "  Sentiment  Tweets\n",
              "0   neutral       3\n",
              "1  positive       2"
            ],
            "text/html": [
              "\n",
              "  <div id=\"df-5a0699dc-566b-421a-915f-5ebb46b64dbb\">\n",
              "    <div class=\"colab-df-container\">\n",
              "      <div>\n",
              "<style scoped>\n",
              "    .dataframe tbody tr th:only-of-type {\n",
              "        vertical-align: middle;\n",
              "    }\n",
              "\n",
              "    .dataframe tbody tr th {\n",
              "        vertical-align: top;\n",
              "    }\n",
              "\n",
              "    .dataframe thead th {\n",
              "        text-align: right;\n",
              "    }\n",
              "</style>\n",
              "<table border=\"1\" class=\"dataframe\">\n",
              "  <thead>\n",
              "    <tr style=\"text-align: right;\">\n",
              "      <th></th>\n",
              "      <th>Sentiment</th>\n",
              "      <th>Tweets</th>\n",
              "    </tr>\n",
              "  </thead>\n",
              "  <tbody>\n",
              "    <tr>\n",
              "      <th>0</th>\n",
              "      <td>neutral</td>\n",
              "      <td>3</td>\n",
              "    </tr>\n",
              "    <tr>\n",
              "      <th>1</th>\n",
              "      <td>positive</td>\n",
              "      <td>2</td>\n",
              "    </tr>\n",
              "  </tbody>\n",
              "</table>\n",
              "</div>\n",
              "      <button class=\"colab-df-convert\" onclick=\"convertToInteractive('df-5a0699dc-566b-421a-915f-5ebb46b64dbb')\"\n",
              "              title=\"Convert this dataframe to an interactive table.\"\n",
              "              style=\"display:none;\">\n",
              "        \n",
              "  <svg xmlns=\"http://www.w3.org/2000/svg\" height=\"24px\"viewBox=\"0 0 24 24\"\n",
              "       width=\"24px\">\n",
              "    <path d=\"M0 0h24v24H0V0z\" fill=\"none\"/>\n",
              "    <path d=\"M18.56 5.44l.94 2.06.94-2.06 2.06-.94-2.06-.94-.94-2.06-.94 2.06-2.06.94zm-11 1L8.5 8.5l.94-2.06 2.06-.94-2.06-.94L8.5 2.5l-.94 2.06-2.06.94zm10 10l.94 2.06.94-2.06 2.06-.94-2.06-.94-.94-2.06-.94 2.06-2.06.94z\"/><path d=\"M17.41 7.96l-1.37-1.37c-.4-.4-.92-.59-1.43-.59-.52 0-1.04.2-1.43.59L10.3 9.45l-7.72 7.72c-.78.78-.78 2.05 0 2.83L4 21.41c.39.39.9.59 1.41.59.51 0 1.02-.2 1.41-.59l7.78-7.78 2.81-2.81c.8-.78.8-2.07 0-2.86zM5.41 20L4 18.59l7.72-7.72 1.47 1.35L5.41 20z\"/>\n",
              "  </svg>\n",
              "      </button>\n",
              "      \n",
              "  <style>\n",
              "    .colab-df-container {\n",
              "      display:flex;\n",
              "      flex-wrap:wrap;\n",
              "      gap: 12px;\n",
              "    }\n",
              "\n",
              "    .colab-df-convert {\n",
              "      background-color: #E8F0FE;\n",
              "      border: none;\n",
              "      border-radius: 50%;\n",
              "      cursor: pointer;\n",
              "      display: none;\n",
              "      fill: #1967D2;\n",
              "      height: 32px;\n",
              "      padding: 0 0 0 0;\n",
              "      width: 32px;\n",
              "    }\n",
              "\n",
              "    .colab-df-convert:hover {\n",
              "      background-color: #E2EBFA;\n",
              "      box-shadow: 0px 1px 2px rgba(60, 64, 67, 0.3), 0px 1px 3px 1px rgba(60, 64, 67, 0.15);\n",
              "      fill: #174EA6;\n",
              "    }\n",
              "\n",
              "    [theme=dark] .colab-df-convert {\n",
              "      background-color: #3B4455;\n",
              "      fill: #D2E3FC;\n",
              "    }\n",
              "\n",
              "    [theme=dark] .colab-df-convert:hover {\n",
              "      background-color: #434B5C;\n",
              "      box-shadow: 0px 1px 3px 1px rgba(0, 0, 0, 0.15);\n",
              "      filter: drop-shadow(0px 1px 2px rgba(0, 0, 0, 0.3));\n",
              "      fill: #FFFFFF;\n",
              "    }\n",
              "  </style>\n",
              "\n",
              "      <script>\n",
              "        const buttonEl =\n",
              "          document.querySelector('#df-5a0699dc-566b-421a-915f-5ebb46b64dbb button.colab-df-convert');\n",
              "        buttonEl.style.display =\n",
              "          google.colab.kernel.accessAllowed ? 'block' : 'none';\n",
              "\n",
              "        async function convertToInteractive(key) {\n",
              "          const element = document.querySelector('#df-5a0699dc-566b-421a-915f-5ebb46b64dbb');\n",
              "          const dataTable =\n",
              "            await google.colab.kernel.invokeFunction('convertToInteractive',\n",
              "                                                     [key], {});\n",
              "          if (!dataTable) return;\n",
              "\n",
              "          const docLinkHtml = 'Like what you see? Visit the ' +\n",
              "            '<a target=\"_blank\" href=https://colab.research.google.com/notebooks/data_table.ipynb>data table notebook</a>'\n",
              "            + ' to learn more about interactive tables.';\n",
              "          element.innerHTML = '';\n",
              "          dataTable['output_type'] = 'display_data';\n",
              "          await google.colab.output.renderOutput(dataTable, element);\n",
              "          const docLink = document.createElement('div');\n",
              "          docLink.innerHTML = docLinkHtml;\n",
              "          element.appendChild(docLink);\n",
              "        }\n",
              "      </script>\n",
              "    </div>\n",
              "  </div>\n",
              "  "
            ]
          },
          "metadata": {},
          "execution_count": 240
        }
      ]
    },
    {
      "cell_type": "code",
      "source": [
        "# Create a stacked bar\n",
        "sns.set_style('whitegrid')\n",
        "plt.bar(sentiment_c['Sentiment'], sentiment_c['Tweets'], color=['blue', 'red', 'purple'])\n",
        "plt.title('Sentiment behind Top 5 Most Liked Tweets')\n",
        "plt.xlabel('Sentiment')\n",
        "plt.ylabel('Count')\n",
        "plt.show()"
      ],
      "metadata": {
        "colab": {
          "base_uri": "https://localhost:8080/",
          "height": 480
        },
        "id": "0k9r_ZzzFKg_",
        "outputId": "770002a5-4b28-449f-a455-1402d76f8dd9"
      },
      "execution_count": null,
      "outputs": [
        {
          "output_type": "display_data",
          "data": {
            "text/plain": [
              "<Figure size 640x480 with 1 Axes>"
            ],
            "image/png": "[encoded data removed]"
          },
          "metadata": {}
        }
      ]
    },
    {
      "cell_type": "markdown",
      "source": [
        "# **TASK 4 MACHINE LEARNING**"
      ],
      "metadata": {
        "id": "3vOl0lkL9ByL"
      }
    },
    {
      "cell_type": "code",
      "source": [
        "#Prepare the data to be fed into the modelling tool\n",
        "data['Sentiment'] = data['Sentiment'].replace(\"neutral\", 0)\n",
        "data['Sentiment'] = data['Sentiment'].replace(\"negative\", 1)\n",
        "data['Sentiment'] = data['Sentiment'].replace(\"positive\", 2)"
      ],
      "metadata": {
        "id": "FYxEErmyHWX_"
      },
      "execution_count": null,
      "outputs": []
    },
    {
      "cell_type": "code",
      "source": [
        "#Handle Missing Values in Time\n",
        "data['Time'].fillna('Morning', inplace = True)\n"
      ],
      "metadata": {
        "id": "3ddwpJ7UJRkj"
      },
      "execution_count": null,
      "outputs": []
    },
    {
      "cell_type": "code",
      "source": [
        "data['Time'] = data['Time'].replace(\"Morning\", 0)\n",
        "data['Time'] = data['Time'].replace(\"Afternoon\", 1)\n",
        "data['Time'] = data['Time'].replace(\"Evening\", 2)"
      ],
      "metadata": {
        "id": "isgkm1abJwaU"
      },
      "execution_count": null,
      "outputs": []
    },
    {
      "cell_type": "code",
      "source": [
        "data['Time'] = pd.to_numeric(data['Time']).astype('Int64')"
      ],
      "metadata": {
        "id": "XoV0yzXNKcuc"
      },
      "execution_count": null,
      "outputs": []
    },
    {
      "cell_type": "code",
      "source": [
        "data.info()"
      ],
      "metadata": {
        "colab": {
          "base_uri": "https://localhost:8080/"
        },
        "id": "zPB_p2VUKEA4",
        "outputId": "880ace3a-128a-47a4-e293-5c38e01283bc"
      },
      "execution_count": null,
      "outputs": [
        {
          "output_type": "stream",
          "name": "stdout",
          "text": [
            "<class 'pandas.core.frame.DataFrame'>\n",
            "RangeIndex: 3060 entries, 0 to 3059\n",
            "Data columns (total 14 columns):\n",
            " #   Column          Non-Null Count  Dtype         \n",
            "---  ------          --------------  -----         \n",
            " 0   Tweets          3060 non-null   object        \n",
            " 1   Retweets        3060 non-null   int64         \n",
            " 2   Likes           3060 non-null   int64         \n",
            " 3   Date            3060 non-null   datetime64[ns]\n",
            " 4   num_urls        3060 non-null   int64         \n",
            " 5   contains_image  3060 non-null   bool          \n",
            " 6   Tweets_Token    3060 non-null   object        \n",
            " 7   Month           3060 non-null   int64         \n",
            " 8   Hour            3060 non-null   int64         \n",
            " 9   Time            3060 non-null   Int64         \n",
            " 10  TweetLength     3060 non-null   int64         \n",
            " 11  TweetScore      3060 non-null   object        \n",
            " 12  Sentiment       3060 non-null   int64         \n",
            " 13  Compound        3060 non-null   float64       \n",
            "dtypes: Int64(1), bool(1), datetime64[ns](1), float64(1), int64(7), object(3)\n",
            "memory usage: 316.9+ KB\n"
          ]
        }
      ]
    },
    {
      "cell_type": "code",
      "source": [
        "import scipy.stats as stats\n",
        "corr, _ = stats.pearsonr (data['Compound'], data['Likes'])\n",
        "corr\n"
      ],
      "metadata": {
        "colab": {
          "base_uri": "https://localhost:8080/"
        },
        "id": "iFwgYxHJN0ID",
        "outputId": "410c9c1c-051e-4e70-b486-8e7d8e9b7e98"
      },
      "execution_count": null,
      "outputs": [
        {
          "output_type": "execute_result",
          "data": {
            "text/plain": [
              "-0.0082140509781245"
            ]
          },
          "metadata": {},
          "execution_count": 247
        }
      ]
    },
    {
      "cell_type": "markdown",
      "source": [
        "### **Building the Models**"
      ],
      "metadata": {
        "id": "DDOUpq-SObQ9"
      }
    },
    {
      "cell_type": "code",
      "source": [
        "from sklearn.model_selection import train_test_split\n",
        "from sklearn.linear_model import LinearRegression\n",
        "from sklearn.metrics import mean_squared_error,r2_score\n",
        "from sklearn.tree import DecisionTreeRegressor"
      ],
      "metadata": {
        "id": "7YdBZan39KPk"
      },
      "execution_count": null,
      "outputs": []
    },
    {
      "cell_type": "code",
      "source": [
        "y = data.Likes\n",
        "x = pd.DataFrame(data[['TweetLength', 'Hour', 'Month', 'Retweets', 'Compound']])\n",
        "# implementing train-test-split\n",
        "x_train, x_test, y_train, y_test = train_test_split(x, y, test_size=0.20, random_state = 23)\n"
      ],
      "metadata": {
        "id": "pRHut6GzCFCS"
      },
      "execution_count": null,
      "outputs": []
    },
    {
      "cell_type": "code",
      "source": [
        "#LINEAR REGRESSION\n",
        "lm = LinearRegression()\n",
        "model = lm.fit(x_train, y_train)"
      ],
      "metadata": {
        "id": "TjacMu40FVHp"
      },
      "execution_count": null,
      "outputs": []
    },
    {
      "cell_type": "code",
      "source": [
        "print(model.intercept_)"
      ],
      "metadata": {
        "colab": {
          "base_uri": "https://localhost:8080/"
        },
        "id": "CNiEY43egLGk",
        "outputId": "d8ad21bd-c7a6-4cfd-c692-1bd5be7c419a"
      },
      "execution_count": null,
      "outputs": [
        {
          "output_type": "stream",
          "name": "stdout",
          "text": [
            "28204.139675807128\n"
          ]
        }
      ]
    },
    {
      "cell_type": "code",
      "source": [
        "print(model.coef_)"
      ],
      "metadata": {
        "colab": {
          "base_uri": "https://localhost:8080/"
        },
        "id": "KYxn9IE6gRNX",
        "outputId": "91f3088f-ff03-4dc0-ca31-fabda7353f43"
      },
      "execution_count": null,
      "outputs": [
        {
          "output_type": "stream",
          "name": "stdout",
          "text": [
            "[ -70.59242428 -267.12451454 -343.80149836    8.62090923 8456.01456404]\n"
          ]
        }
      ]
    },
    {
      "cell_type": "code",
      "source": [
        "pd.DataFrame(model.coef_, x.columns, columns = ['Coeff'])\n"
      ],
      "metadata": {
        "colab": {
          "base_uri": "https://localhost:8080/",
          "height": 206
        },
        "id": "7FJifJT5FPdN",
        "outputId": "cda65bf5-9283-4c4d-99cd-4d4d3dbc6ef5"
      },
      "execution_count": null,
      "outputs": [
        {
          "output_type": "execute_result",
          "data": {
            "text/plain": [
              "                   Coeff\n",
              "TweetLength   -70.592424\n",
              "Hour         -267.124515\n",
              "Month        -343.801498\n",
              "Retweets        8.620909\n",
              "Compound     8456.014564"
            ],
            "text/html": [
              "\n",
              "  <div id=\"df-8359dfbb-dd5c-41ba-bcb9-5353c2196fa1\">\n",
              "    <div class=\"colab-df-container\">\n",
              "      <div>\n",
              "<style scoped>\n",
              "    .dataframe tbody tr th:only-of-type {\n",
              "        vertical-align: middle;\n",
              "    }\n",
              "\n",
              "    .dataframe tbody tr th {\n",
              "        vertical-align: top;\n",
              "    }\n",
              "\n",
              "    .dataframe thead th {\n",
              "        text-align: right;\n",
              "    }\n",
              "</style>\n",
              "<table border=\"1\" class=\"dataframe\">\n",
              "  <thead>\n",
              "    <tr style=\"text-align: right;\">\n",
              "      <th></th>\n",
              "      <th>Coeff</th>\n",
              "    </tr>\n",
              "  </thead>\n",
              "  <tbody>\n",
              "    <tr>\n",
              "      <th>TweetLength</th>\n",
              "      <td>-70.592424</td>\n",
              "    </tr>\n",
              "    <tr>\n",
              "      <th>Hour</th>\n",
              "      <td>-267.124515</td>\n",
              "    </tr>\n",
              "    <tr>\n",
              "      <th>Month</th>\n",
              "      <td>-343.801498</td>\n",
              "    </tr>\n",
              "    <tr>\n",
              "      <th>Retweets</th>\n",
              "      <td>8.620909</td>\n",
              "    </tr>\n",
              "    <tr>\n",
              "      <th>Compound</th>\n",
              "      <td>8456.014564</td>\n",
              "    </tr>\n",
              "  </tbody>\n",
              "</table>\n",
              "</div>\n",
              "      <button class=\"colab-df-convert\" onclick=\"convertToInteractive('df-8359dfbb-dd5c-41ba-bcb9-5353c2196fa1')\"\n",
              "              title=\"Convert this dataframe to an interactive table.\"\n",
              "              style=\"display:none;\">\n",
              "        \n",
              "  <svg xmlns=\"http://www.w3.org/2000/svg\" height=\"24px\"viewBox=\"0 0 24 24\"\n",
              "       width=\"24px\">\n",
              "    <path d=\"M0 0h24v24H0V0z\" fill=\"none\"/>\n",
              "    <path d=\"M18.56 5.44l.94 2.06.94-2.06 2.06-.94-2.06-.94-.94-2.06-.94 2.06-2.06.94zm-11 1L8.5 8.5l.94-2.06 2.06-.94-2.06-.94L8.5 2.5l-.94 2.06-2.06.94zm10 10l.94 2.06.94-2.06 2.06-.94-2.06-.94-.94-2.06-.94 2.06-2.06.94z\"/><path d=\"M17.41 7.96l-1.37-1.37c-.4-.4-.92-.59-1.43-.59-.52 0-1.04.2-1.43.59L10.3 9.45l-7.72 7.72c-.78.78-.78 2.05 0 2.83L4 21.41c.39.39.9.59 1.41.59.51 0 1.02-.2 1.41-.59l7.78-7.78 2.81-2.81c.8-.78.8-2.07 0-2.86zM5.41 20L4 18.59l7.72-7.72 1.47 1.35L5.41 20z\"/>\n",
              "  </svg>\n",
              "      </button>\n",
              "      \n",
              "  <style>\n",
              "    .colab-df-container {\n",
              "      display:flex;\n",
              "      flex-wrap:wrap;\n",
              "      gap: 12px;\n",
              "    }\n",
              "\n",
              "    .colab-df-convert {\n",
              "      background-color: #E8F0FE;\n",
              "      border: none;\n",
              "      border-radius: 50%;\n",
              "      cursor: pointer;\n",
              "      display: none;\n",
              "      fill: #1967D2;\n",
              "      height: 32px;\n",
              "      padding: 0 0 0 0;\n",
              "      width: 32px;\n",
              "    }\n",
              "\n",
              "    .colab-df-convert:hover {\n",
              "      background-color: #E2EBFA;\n",
              "      box-shadow: 0px 1px 2px rgba(60, 64, 67, 0.3), 0px 1px 3px 1px rgba(60, 64, 67, 0.15);\n",
              "      fill: #174EA6;\n",
              "    }\n",
              "\n",
              "    [theme=dark] .colab-df-convert {\n",
              "      background-color: #3B4455;\n",
              "      fill: #D2E3FC;\n",
              "    }\n",
              "\n",
              "    [theme=dark] .colab-df-convert:hover {\n",
              "      background-color: #434B5C;\n",
              "      box-shadow: 0px 1px 3px 1px rgba(0, 0, 0, 0.15);\n",
              "      filter: drop-shadow(0px 1px 2px rgba(0, 0, 0, 0.3));\n",
              "      fill: #FFFFFF;\n",
              "    }\n",
              "  </style>\n",
              "\n",
              "      <script>\n",
              "        const buttonEl =\n",
              "          document.querySelector('#df-8359dfbb-dd5c-41ba-bcb9-5353c2196fa1 button.colab-df-convert');\n",
              "        buttonEl.style.display =\n",
              "          google.colab.kernel.accessAllowed ? 'block' : 'none';\n",
              "\n",
              "        async function convertToInteractive(key) {\n",
              "          const element = document.querySelector('#df-8359dfbb-dd5c-41ba-bcb9-5353c2196fa1');\n",
              "          const dataTable =\n",
              "            await google.colab.kernel.invokeFunction('convertToInteractive',\n",
              "                                                     [key], {});\n",
              "          if (!dataTable) return;\n",
              "\n",
              "          const docLinkHtml = 'Like what you see? Visit the ' +\n",
              "            '<a target=\"_blank\" href=https://colab.research.google.com/notebooks/data_table.ipynb>data table notebook</a>'\n",
              "            + ' to learn more about interactive tables.';\n",
              "          element.innerHTML = '';\n",
              "          dataTable['output_type'] = 'display_data';\n",
              "          await google.colab.output.renderOutput(dataTable, element);\n",
              "          const docLink = document.createElement('div');\n",
              "          docLink.innerHTML = docLinkHtml;\n",
              "          element.appendChild(docLink);\n",
              "        }\n",
              "      </script>\n",
              "    </div>\n",
              "  </div>\n",
              "  "
            ]
          },
          "metadata": {},
          "execution_count": 253
        }
      ]
    },
    {
      "cell_type": "markdown",
      "source": [
        "from the coefficient, it is seen that as the the sentiment increases by one unit (in this case from neutral to negative to positive, the number of likes decreases"
      ],
      "metadata": {
        "id": "LnUrt-6FhOax"
      }
    },
    {
      "cell_type": "code",
      "source": [
        "#get the r squared\n",
        "model.score(x_train, y_train)"
      ],
      "metadata": {
        "id": "ZWLN6StULFqb",
        "colab": {
          "base_uri": "https://localhost:8080/"
        },
        "outputId": "6c6bb27a-893f-4140-a93b-284f64e58b19"
      },
      "execution_count": null,
      "outputs": [
        {
          "output_type": "execute_result",
          "data": {
            "text/plain": [
              "0.918282611582187"
            ]
          },
          "metadata": {},
          "execution_count": 254
        }
      ]
    },
    {
      "cell_type": "code",
      "source": [
        "#make predictions\n",
        "lm_pred = model.predict(x_test)"
      ],
      "metadata": {
        "id": "UMXr0pdfh_z-"
      },
      "execution_count": null,
      "outputs": []
    },
    {
      "cell_type": "code",
      "source": [
        "plt.scatter(y_test, lm_pred)"
      ],
      "metadata": {
        "colab": {
          "base_uri": "https://localhost:8080/",
          "height": 487
        },
        "id": "E84yCxA5GiM_",
        "outputId": "f988ea7d-fc3b-4423-d562-8b87bd22950b"
      },
      "execution_count": null,
      "outputs": [
        {
          "output_type": "execute_result",
          "data": {
            "text/plain": [
              "<matplotlib.collections.PathCollection at 0x7ff3a75d68e0>"
            ]
          },
          "metadata": {},
          "execution_count": 256
        },
        {
          "output_type": "display_data",
          "data": {
            "text/plain": [
              "<Figure size 640x480 with 1 Axes>"
            ],
            "image/png": "[encoded data removed]"
          },
          "metadata": {}
        }
      ]
    },
    {
      "cell_type": "code",
      "source": [
        "#Testing Performance\n",
        "import sklearn.metrics as sm\n",
        "print(\"Mean absolute error =\", round(sm.mean_absolute_error(y_test, lm_pred), 2))"
      ],
      "metadata": {
        "colab": {
          "base_uri": "https://localhost:8080/"
        },
        "id": "GMgl4HJq3iKx",
        "outputId": "9e4dc277-7e23-4e71-bed8-9784ba140176"
      },
      "execution_count": null,
      "outputs": [
        {
          "output_type": "stream",
          "name": "stdout",
          "text": [
            "Mean absolute error = 25737.23\n"
          ]
        }
      ]
    },
    {
      "cell_type": "code",
      "source": [
        "#root mean squared error\n",
        "np.sqrt(sm.mean_squared_error(y_test,lm_pred))"
      ],
      "metadata": {
        "colab": {
          "base_uri": "https://localhost:8080/"
        },
        "id": "HVjrl_tBosDX",
        "outputId": "993bc860-b739-4989-d289-308b24348e1b"
      },
      "execution_count": null,
      "outputs": [
        {
          "output_type": "execute_result",
          "data": {
            "text/plain": [
              "45950.424558224746"
            ]
          },
          "metadata": {},
          "execution_count": 258
        }
      ]
    },
    {
      "cell_type": "code",
      "source": [
        "score =r2_score(y_test, lm_pred)\n",
        "print(\"The accuracy of our model is {}%\".format(round(score,2)*100))"
      ],
      "metadata": {
        "colab": {
          "base_uri": "https://localhost:8080/"
        },
        "id": "nHevSPeDIS-T",
        "outputId": "3df204a2-29c3-49b0-a2de-96c9a6b3f666"
      },
      "execution_count": null,
      "outputs": [
        {
          "output_type": "stream",
          "name": "stdout",
          "text": [
            "The accuracy of our model is 87.0%\n"
          ]
        }
      ]
    },
    {
      "cell_type": "code",
      "source": [
        "#RANDOM FOREST REGRESSOR\n",
        "from sklearn.ensemble import RandomForestRegressor\n",
        "\n",
        "# Create the Random Forest Regression model\n",
        "rf = RandomForestRegressor(n_estimators=100, random_state=23)\n",
        "\n",
        "# Fit the model on the training data\n",
        "rf.fit(x_train, y_train)\n"
      ],
      "metadata": {
        "id": "7LD_S5_kPTzh",
        "colab": {
          "base_uri": "https://localhost:8080/",
          "height": 75
        },
        "outputId": "22c28378-ea3f-4a22-c857-41bbfc32cc25"
      },
      "execution_count": null,
      "outputs": [
        {
          "output_type": "execute_result",
          "data": {
            "text/plain": [
              "RandomForestRegressor(random_state=23)"
            ],
            "text/html": [
              "<style>#sk-container-id-2 {color: black;background-color: white;}#sk-container-id-2 pre{padding: 0;}#sk-container-id-2 div.sk-toggleable {background-color: white;}#sk-container-id-2 label.sk-toggleable__label {cursor: pointer;display: block;width: 100%;margin-bottom: 0;padding: 0.3em;box-sizing: border-box;text-align: center;}#sk-container-id-2 label.sk-toggleable__label-arrow:before {content: \"▸\";float: left;margin-right: 0.25em;color: #696969;}#sk-container-id-2 label.sk-toggleable__label-arrow:hover:before {color: black;}#sk-container-id-2 div.sk-estimator:hover label.sk-toggleable__label-arrow:before {color: black;}#sk-container-id-2 div.sk-toggleable__content {max-height: 0;max-width: 0;overflow: hidden;text-align: left;background-color: #f0f8ff;}#sk-container-id-2 div.sk-toggleable__content pre {margin: 0.2em;color: black;border-radius: 0.25em;background-color: #f0f8ff;}#sk-container-id-2 input.sk-toggleable__control:checked~div.sk-toggleable__content {max-height: 200px;max-width: 100%;overflow: auto;}#sk-container-id-2 input.sk-toggleable__control:checked~label.sk-toggleable__label-arrow:before {content: \"▾\";}#sk-container-id-2 div.sk-estimator input.sk-toggleable__control:checked~label.sk-toggleable__label {background-color: #d4ebff;}#sk-container-id-2 div.sk-label input.sk-toggleable__control:checked~label.sk-toggleable__label {background-color: #d4ebff;}#sk-container-id-2 input.sk-hidden--visually {border: 0;clip: rect(1px 1px 1px 1px);clip: rect(1px, 1px, 1px, 1px);height: 1px;margin: -1px;overflow: hidden;padding: 0;position: absolute;width: 1px;}#sk-container-id-2 div.sk-estimator {font-family: monospace;background-color: #f0f8ff;border: 1px dotted black;border-radius: 0.25em;box-sizing: border-box;margin-bottom: 0.5em;}#sk-container-id-2 div.sk-estimator:hover {background-color: #d4ebff;}#sk-container-id-2 div.sk-parallel-item::after {content: \"\";width: 100%;border-bottom: 1px solid gray;flex-grow: 1;}#sk-container-id-2 div.sk-label:hover label.sk-toggleable__label {background-color: #d4ebff;}#sk-container-id-2 div.sk-serial::before {content: \"\";position: absolute;border-left: 1px solid gray;box-sizing: border-box;top: 0;bottom: 0;left: 50%;z-index: 0;}#sk-container-id-2 div.sk-serial {display: flex;flex-direction: column;align-items: center;background-color: white;padding-right: 0.2em;padding-left: 0.2em;position: relative;}#sk-container-id-2 div.sk-item {position: relative;z-index: 1;}#sk-container-id-2 div.sk-parallel {display: flex;align-items: stretch;justify-content: center;background-color: white;position: relative;}#sk-container-id-2 div.sk-item::before, #sk-container-id-2 div.sk-parallel-item::before {content: \"\";position: absolute;border-left: 1px solid gray;box-sizing: border-box;top: 0;bottom: 0;left: 50%;z-index: -1;}#sk-container-id-2 div.sk-parallel-item {display: flex;flex-direction: column;z-index: 1;position: relative;background-color: white;}#sk-container-id-2 div.sk-parallel-item:first-child::after {align-self: flex-end;width: 50%;}#sk-container-id-2 div.sk-parallel-item:last-child::after {align-self: flex-start;width: 50%;}#sk-container-id-2 div.sk-parallel-item:only-child::after {width: 0;}#sk-container-id-2 div.sk-dashed-wrapped {border: 1px dashed gray;margin: 0 0.4em 0.5em 0.4em;box-sizing: border-box;padding-bottom: 0.4em;background-color: white;}#sk-container-id-2 div.sk-label label {font-family: monospace;font-weight: bold;display: inline-block;line-height: 1.2em;}#sk-container-id-2 div.sk-label-container {text-align: center;}#sk-container-id-2 div.sk-container {/* jupyter's `normalize.less` sets `[hidden] { display: none; }` but bootstrap.min.css set `[hidden] { display: none !important; }` so we also need the `!important` here to be able to override the default hidden behavior on the sphinx rendered scikit-learn.org. See: https://github.com/scikit-learn/scikit-learn/issues/21755 */display: inline-block !important;position: relative;}#sk-container-id-2 div.sk-text-repr-fallback {display: none;}</style><div id=\"sk-container-id-2\" class=\"sk-top-container\"><div class=\"sk-text-repr-fallback\"><pre>RandomForestRegressor(random_state=23)</pre><b>In a Jupyter environment, please rerun this cell to show the HTML representation or trust the notebook. <br />On GitHub, the HTML representation is unable to render, please try loading this page with nbviewer.org.</b></div><div class=\"sk-container\" hidden><div class=\"sk-item\"><div class=\"sk-estimator sk-toggleable\"><input class=\"sk-toggleable__control sk-hidden--visually\" id=\"sk-estimator-id-2\" type=\"checkbox\" checked><label for=\"sk-estimator-id-2\" class=\"sk-toggleable__label sk-toggleable__label-arrow\">RandomForestRegressor</label><div class=\"sk-toggleable__content\"><pre>RandomForestRegressor(random_state=23)</pre></div></div></div></div></div>"
            ]
          },
          "metadata": {},
          "execution_count": 260
        }
      ]
    },
    {
      "cell_type": "code",
      "source": [
        "rf.score(x_train, y_train)"
      ],
      "metadata": {
        "colab": {
          "base_uri": "https://localhost:8080/"
        },
        "id": "PSwIvD0F8Bdr",
        "outputId": "fbe7d398-8653-4d5d-ad56-f1a1dc4aaa24"
      },
      "execution_count": null,
      "outputs": [
        {
          "output_type": "execute_result",
          "data": {
            "text/plain": [
              "0.9853236180402801"
            ]
          },
          "metadata": {},
          "execution_count": 269
        }
      ]
    },
    {
      "cell_type": "code",
      "source": [
        "# Make predictions on the testing data\n",
        "rf_pred = rf.predict(x_test)"
      ],
      "metadata": {
        "id": "FUJPjkTBP16F"
      },
      "execution_count": null,
      "outputs": []
    },
    {
      "cell_type": "code",
      "source": [
        "# Calculate the mean squared error\n",
        "print(\"Mean absolute error =\", round(sm.mean_absolute_error(y_test, rf_pred), 2))"
      ],
      "metadata": {
        "id": "eOb9iUcuP6kX",
        "colab": {
          "base_uri": "https://localhost:8080/"
        },
        "outputId": "6328565a-a431-4976-d7cd-273f6031cd2d"
      },
      "execution_count": null,
      "outputs": [
        {
          "output_type": "stream",
          "name": "stdout",
          "text": [
            "Mean absolute error = 17035.49\n"
          ]
        }
      ]
    },
    {
      "cell_type": "code",
      "source": [
        "np.sqrt(sm.mean_squared_error(y_test,rf_pred))"
      ],
      "metadata": {
        "id": "x3lTldfdPr1s",
        "colab": {
          "base_uri": "https://localhost:8080/"
        },
        "outputId": "783a328f-af1d-4943-9be8-e7a7211cf6f2"
      },
      "execution_count": null,
      "outputs": [
        {
          "output_type": "execute_result",
          "data": {
            "text/plain": [
              "46184.86501636952"
            ]
          },
          "metadata": {},
          "execution_count": 263
        }
      ]
    },
    {
      "cell_type": "code",
      "source": [
        "model2score =r2_score(y_test, rf_pred)\n",
        "print(\"The accuracy of our model is {}%\".format(round(model2score,2)*100))"
      ],
      "metadata": {
        "id": "qyfbz7tgQBIP",
        "colab": {
          "base_uri": "https://localhost:8080/"
        },
        "outputId": "237d7440-48a7-4edb-a153-f91b4e0ff4b7"
      },
      "execution_count": null,
      "outputs": [
        {
          "output_type": "stream",
          "name": "stdout",
          "text": [
            "The accuracy of our model is 87.0%\n"
          ]
        }
      ]
    },
    {
      "cell_type": "code",
      "source": [
        "#DECISION TREE REGRESSOR\n",
        "regressor = DecisionTreeRegressor()\n",
        "model3 = regressor.fit(x_train, y_train)"
      ],
      "metadata": {
        "id": "eosu7YcmiSUe"
      },
      "execution_count": null,
      "outputs": []
    },
    {
      "cell_type": "code",
      "source": [
        "regressor_pred =regressor.predict(x_test)"
      ],
      "metadata": {
        "id": "yrcPj_gWKcMu"
      },
      "execution_count": null,
      "outputs": []
    },
    {
      "cell_type": "code",
      "source": [
        "print(\"Mean absolute error =\", round(sm.mean_absolute_error(y_test, regressor_pred), 2))"
      ],
      "metadata": {
        "id": "0mEJxfWlMwDV",
        "colab": {
          "base_uri": "https://localhost:8080/"
        },
        "outputId": "e627c237-adc4-4fe2-95e5-7b56fa78e88d"
      },
      "execution_count": null,
      "outputs": [
        {
          "output_type": "stream",
          "name": "stdout",
          "text": [
            "Mean absolute error = 21853.85\n"
          ]
        }
      ]
    },
    {
      "cell_type": "code",
      "source": [
        "np.sqrt(sm.mean_squared_error(y_test,regressor_pred))"
      ],
      "metadata": {
        "colab": {
          "base_uri": "https://localhost:8080/"
        },
        "id": "hdoCAyJd8tLF",
        "outputId": "0cbfe282-7cec-4d04-af24-858e4d024662"
      },
      "execution_count": null,
      "outputs": [
        {
          "output_type": "execute_result",
          "data": {
            "text/plain": [
              "63844.57531834686"
            ]
          },
          "metadata": {},
          "execution_count": 271
        }
      ]
    },
    {
      "cell_type": "code",
      "source": [
        "model3score =r2_score(y_test, regressor_pred)\n",
        "print(\"The accuracy of our model is {}%\".format(round(model3score,2)*100))"
      ],
      "metadata": {
        "colab": {
          "base_uri": "https://localhost:8080/"
        },
        "id": "I_PxMMW7MyXS",
        "outputId": "b5057faf-96ba-4e0a-aa74-234ea931a2a4"
      },
      "execution_count": null,
      "outputs": [
        {
          "output_type": "stream",
          "name": "stdout",
          "text": [
            "The accuracy of our model is 75.0%\n"
          ]
        }
      ]
    }
  ]
}